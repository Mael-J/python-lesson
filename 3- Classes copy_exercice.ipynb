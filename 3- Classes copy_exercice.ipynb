{
 "cells": [
  {
   "cell_type": "markdown",
   "metadata": {},
   "source": [
    "# Les classes"
   ]
  },
  {
   "cell_type": "markdown",
   "metadata": {},
   "source": [
    "Une classe permet de créer des objets. Elle s'inscrive dans le principe fondamental de **ne pas se répéter** (don't repeat yourself). Une classe comporte des attributs et des méthodes (fonctions) qui pourront être réutilisés à volonté. Elle structure et organise le code selon le paradigme de **programmation orientée objet** object-oriented programming (OOP).\n",
    "\n",
    "Elles suivent le même schéma de construction que les conditons, les boucles et les fonctions.La déclaration de la classe et des méthodes se terminent par `:`, le code à éxécuter est **indenté**.\n",
    "\n",
    "Par convention, une classe commence par une majuscule. \n",
    "\n",
    "On va voir étape par étape comment construire une classe.\n",
    "\n",
    "La documentation officielle est ici : https://docs.python.org/3/tutorial/classes.html\n"
   ]
  },
  {
   "cell_type": "markdown",
   "metadata": {},
   "source": [
    "## Instancier la classe"
   ]
  },
  {
   "cell_type": "code",
   "execution_count": 1,
   "metadata": {},
   "outputs": [],
   "source": [
    "#création de la classe Car et instanciation\n"
   ]
  },
  {
   "cell_type": "markdown",
   "metadata": {},
   "source": [
    "Dans l'exemple précédent, nous avons créé la classe `Car`. Elle comporte la méthode `__init__` qui permet de l'instancier, c'est à dire de l'initialiser. Lorsque la classe est appellée, la méthode `__init__` est éxécutée, l'ensemble des méthodes sont exécutées (`print(\"classe instanciée\")`) et on peut accéder aux attributs instanciés (`self.color`)."
   ]
  },
  {
   "cell_type": "code",
   "execution_count": 2,
   "metadata": {},
   "outputs": [],
   "source": [
    "#instancier la classe\n"
   ]
  },
  {
   "cell_type": "markdown",
   "metadata": {},
   "source": [
    "Le comportement de la classe peut être modifié en l'instanciant avec des arguments à placer dans la méthode `__init__`"
   ]
  },
  {
   "cell_type": "code",
   "execution_count": 3,
   "metadata": {},
   "outputs": [],
   "source": [
    "#classe Car avec un argument color\n"
   ]
  },
  {
   "cell_type": "code",
   "execution_count": 4,
   "metadata": {},
   "outputs": [],
   "source": [
    "#instancier la classe Car avec la couleur blue\n"
   ]
  },
  {
   "cell_type": "markdown",
   "metadata": {},
   "source": [
    "\n",
    "## self\n",
    "Qu'est ce que c'est `self` ? \n",
    "\n",
    "Dans la méthode `__init__` de la classe `Car`, on trouve comme \"premier argument\" `self`. On le retrouve aussi comme racine de l'attribut color.\n",
    "\n",
    "`self` représente l'instance de la classe, on accède à chaque attribut et à chaque méthode de la classe à partir de self.\n",
    "\n",
    "Le mot self est une convention, on aurait pu utiliser n'importe quel autre mot."
   ]
  },
  {
   "cell_type": "code",
   "execution_count": 5,
   "metadata": {},
   "outputs": [],
   "source": [
    "#classe Car avec le terme abc pour représenter l'instance\n"
   ]
  },
  {
   "cell_type": "code",
   "execution_count": 6,
   "metadata": {},
   "outputs": [],
   "source": [
    "#instancier la classe Car avec la couleur green\n"
   ]
  },
  {
   "cell_type": "markdown",
   "metadata": {},
   "source": [
    "Dans l'exemple suivant, accéder à l'attribut `color` renvoie une erreur. La classe `Car` ne détient pas d'attribut `color`. Il n'y a pas self.color dans la méthode `__init__`"
   ]
  },
  {
   "cell_type": "code",
   "execution_count": 7,
   "metadata": {},
   "outputs": [],
   "source": [
    "#classe Car avec un argument color, l'attribut color n'existe pas\n"
   ]
  },
  {
   "cell_type": "code",
   "execution_count": 8,
   "metadata": {},
   "outputs": [],
   "source": [
    "#instancier la classe Car avec la couleur orange\n",
    "\n"
   ]
  },
  {
   "cell_type": "markdown",
   "metadata": {},
   "source": [
    "## Les méthodes\n",
    "\n",
    "Une classe peut contenir des **méthodes**, ce sont fonctions de la classe. Les méthodes vont modifier le comportement de la classe.\n",
    "\n",
    "Dans l'exemple suivant, la méthode `start` modifie l'attribut `started`. On note que la méthode start contient également l'argument `self` pour faire référence à l'instance."
   ]
  },
  {
   "cell_type": "code",
   "execution_count": 9,
   "metadata": {},
   "outputs": [],
   "source": [
    "#classe Car avec la méthode start\n"
   ]
  },
  {
   "cell_type": "code",
   "execution_count": 10,
   "metadata": {},
   "outputs": [],
   "source": [
    "#instancier la classe Car avec la couleur orange\n",
    "\n"
   ]
  },
  {
   "cell_type": "markdown",
   "metadata": {},
   "source": [
    "On va voir d'autres méthodes qui permettent à la voiture d'accélérer et de s'arrêter."
   ]
  },
  {
   "cell_type": "code",
   "execution_count": 11,
   "metadata": {},
   "outputs": [],
   "source": [
    "#classe Car avec la méthode accelerate, stop\n",
    "\n"
   ]
  },
  {
   "cell_type": "code",
   "execution_count": 12,
   "metadata": {},
   "outputs": [],
   "source": [
    "#instancier la classe Car avec la couleur grey\n"
   ]
  },
  {
   "cell_type": "markdown",
   "metadata": {},
   "source": [
    "Grâce à la classe `Car`, on peut créér une infinité de voitures, les démarrer, les faire accélérer et les arrêter en quelques lignes."
   ]
  },
  {
   "cell_type": "code",
   "execution_count": 13,
   "metadata": {},
   "outputs": [],
   "source": [
    "#1ère voiture\n",
    "\n",
    "\n",
    "\n"
   ]
  },
  {
   "cell_type": "markdown",
   "metadata": {},
   "source": [
    "## L'héritage de classe\n",
    "\n",
    "Une notion importante dans la programmation orientée objet est **l'héritage de classe**. Une classe fille peut hériter d'une classe parente (ou classe mère) et hériter de tous ses attributs et méthodes. Ainsi, on ne répète pas le code.\n",
    "\n",
    "Nous allons illustrer cette notion avec un exemple.\n",
    "\n",
    "Nous avons créé au préalable, la classe voiture. nous allons créé maintenant la classe Motorbike de toutes pièces."
   ]
  },
  {
   "cell_type": "code",
   "execution_count": 14,
   "metadata": {},
   "outputs": [],
   "source": [
    "#classe Motorbike \n"
   ]
  },
  {
   "cell_type": "code",
   "execution_count": 15,
   "metadata": {},
   "outputs": [],
   "source": [
    "#instancie une moto\n"
   ]
  },
  {
   "cell_type": "markdown",
   "metadata": {},
   "source": [
    "La classe Motorbike comporte certains attributs et certaines méthodes qui lui sont propres (nombre de roues, méthode wheelie). Elle partage aussi des attributs et des méthodes qui sont communes à la classe Car. on réécrit donc le même code, c'est fastidieux et difficile à maintenir. C'est à ce moment là qu'intervient l'**héritage de classe**.\n",
    "\n",
    "Nous allons créer une classe parente Vehicle qui détient les attributs et les méthodes communs à tous les véhicules, à savoir, une couleur, démarrer accéler et s'arrêter."
   ]
  },
  {
   "cell_type": "code",
   "execution_count": 16,
   "metadata": {},
   "outputs": [],
   "source": [
    "#classe Vehicle avec les attributs et méthodes communs\n"
   ]
  },
  {
   "cell_type": "markdown",
   "metadata": {},
   "source": [
    "Grâce à la classe parente Vehicule, on peut créér de nouvelles classes filles Car et Motorbike plus épurées."
   ]
  },
  {
   "cell_type": "code",
   "execution_count": 17,
   "metadata": {},
   "outputs": [],
   "source": [
    "#classe fille Car héritère de la classe mère Vehicle\n"
   ]
  },
  {
   "cell_type": "code",
   "execution_count": 18,
   "metadata": {},
   "outputs": [],
   "source": [
    "#la classe fille Car a hérité de tous les attributs et méthodes de la classe mère Véhicule\n",
    "\n"
   ]
  },
  {
   "cell_type": "code",
   "execution_count": 19,
   "metadata": {},
   "outputs": [],
   "source": [
    "# classe fille Motorbike héritère de la classe mère Vehicle\n",
    "\n",
    "            "
   ]
  },
  {
   "cell_type": "code",
   "execution_count": 20,
   "metadata": {},
   "outputs": [],
   "source": [
    "#la classe fille Motorbike a hérité de tous les attributs et méthodes de la classe mère Véhicule\n"
   ]
  }
 ],
 "metadata": {
  "kernelspec": {
   "display_name": "Python 3",
   "language": "python",
   "name": "python3"
  },
  "language_info": {
   "codemirror_mode": {
    "name": "ipython",
    "version": 3
   },
   "file_extension": ".py",
   "mimetype": "text/x-python",
   "name": "python",
   "nbconvert_exporter": "python",
   "pygments_lexer": "ipython3",
   "version": "3.10.6"
  }
 },
 "nbformat": 4,
 "nbformat_minor": 2
}
