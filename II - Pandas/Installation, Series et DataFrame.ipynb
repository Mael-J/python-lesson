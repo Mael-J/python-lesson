{
 "cells": [
  {
   "cell_type": "markdown",
   "metadata": {},
   "source": [
    "# Installation, Series et DataFrame"
   ]
  },
  {
   "cell_type": "markdown",
   "metadata": {},
   "source": [
    "La bibliothèque `pandas` a été créée en 2008 par Wes McKinney alors qu'il était analyste quantitatif sur des stratégies global macro et dérivés de crédit chez AQR Capital Management.\n",
    "\n",
    "A cette époque, il n'existait pas de bibliothèques Python pour manipuler des données et les analyser. Il l'a créé de toutes pièces. `Pandas` est ajourd'hui un package indispensable pour les métiers de la data.\n",
    "\n",
    "Le nom `pandas` vient de panel data qui en terme statistique correpond à un jeu de données structuré et multidimensionnel.\n",
    "\n",
    "La documentation officielle est ici :\n",
    "\n",
    "https://pandas.pydata.org/docs/\n",
    "\n",
    "Le livre est également disponible :\n",
    "\n",
    "https://wesmckinney.com/book/"
   ]
  },
  {
   "cell_type": "markdown",
   "metadata": {},
   "source": [
    "## Installer pandas\n",
    "\n",
    "Depuis Jupyter Notebook :\n",
    "\n",
    "%pip install pandas\n",
    "\n",
    "ou depuis le terminal :\n",
    "\n",
    "pip install pandas"
   ]
  },
  {
   "cell_type": "markdown",
   "metadata": {},
   "source": [
    "## Importer pandas"
   ]
  },
  {
   "cell_type": "code",
   "execution_count": 3,
   "metadata": {},
   "outputs": [],
   "source": [
    "# on importe pandas avec un alias\n",
    "import pandas as pd"
   ]
  },
  {
   "cell_type": "markdown",
   "metadata": {},
   "source": [
    "## Les séries\n",
    "\n",
    "Les séries (Series) sont des tableaux (arrays) à une dimension.\n",
    "\n",
    "La documentation officielle sur les Series est ici :\n",
    "\n",
    "https://pandas.pydata.org/docs/reference/api/pandas.Series.html#"
   ]
  },
  {
   "cell_type": "code",
   "execution_count": 4,
   "metadata": {},
   "outputs": [
    {
     "name": "stdout",
     "output_type": "stream",
     "text": [
      "\u001b[1;31mInit signature:\u001b[0m\n",
      "\u001b[0mpd\u001b[0m\u001b[1;33m.\u001b[0m\u001b[0mSeries\u001b[0m\u001b[1;33m(\u001b[0m\u001b[1;33m\n",
      "\u001b[0m    \u001b[0mdata\u001b[0m\u001b[1;33m=\u001b[0m\u001b[1;32mNone\u001b[0m\u001b[1;33m,\u001b[0m\u001b[1;33m\n",
      "\u001b[0m    \u001b[0mindex\u001b[0m\u001b[1;33m=\u001b[0m\u001b[1;32mNone\u001b[0m\u001b[1;33m,\u001b[0m\u001b[1;33m\n",
      "\u001b[0m    \u001b[0mdtype\u001b[0m\u001b[1;33m:\u001b[0m \u001b[1;34m'Dtype | None'\u001b[0m \u001b[1;33m=\u001b[0m \u001b[1;32mNone\u001b[0m\u001b[1;33m,\u001b[0m\u001b[1;33m\n",
      "\u001b[0m    \u001b[0mname\u001b[0m\u001b[1;33m=\u001b[0m\u001b[1;32mNone\u001b[0m\u001b[1;33m,\u001b[0m\u001b[1;33m\n",
      "\u001b[0m    \u001b[0mcopy\u001b[0m\u001b[1;33m:\u001b[0m \u001b[1;34m'bool'\u001b[0m \u001b[1;33m=\u001b[0m \u001b[1;32mFalse\u001b[0m\u001b[1;33m,\u001b[0m\u001b[1;33m\n",
      "\u001b[0m    \u001b[0mfastpath\u001b[0m\u001b[1;33m:\u001b[0m \u001b[1;34m'bool'\u001b[0m \u001b[1;33m=\u001b[0m \u001b[1;32mFalse\u001b[0m\u001b[1;33m,\u001b[0m\u001b[1;33m\n",
      "\u001b[0m\u001b[1;33m)\u001b[0m\u001b[1;33m\u001b[0m\u001b[1;33m\u001b[0m\u001b[0m\n",
      "\u001b[1;31mDocstring:\u001b[0m     \n",
      "One-dimensional ndarray with axis labels (including time series).\n",
      "\n",
      "Labels need not be unique but must be a hashable type. The object\n",
      "supports both integer- and label-based indexing and provides a host of\n",
      "methods for performing operations involving the index. Statistical\n",
      "methods from ndarray have been overridden to automatically exclude\n",
      "missing data (currently represented as NaN).\n",
      "\n",
      "Operations between Series (+, -, /, \\*, \\*\\*) align values based on their\n",
      "associated index values-- they need not be the same length. The result\n",
      "index will be the sorted union of the two indexes.\n",
      "\n",
      "Parameters\n",
      "----------\n",
      "data : array-like, Iterable, dict, or scalar value\n",
      "    Contains data stored in Series. If data is a dict, argument order is\n",
      "    maintained.\n",
      "index : array-like or Index (1d)\n",
      "    Values must be hashable and have the same length as `data`.\n",
      "    Non-unique index values are allowed. Will default to\n",
      "    RangeIndex (0, 1, 2, ..., n) if not provided. If data is dict-like\n",
      "    and index is None, then the keys in the data are used as the index. If the\n",
      "    index is not None, the resulting Series is reindexed with the index values.\n",
      "dtype : str, numpy.dtype, or ExtensionDtype, optional\n",
      "    Data type for the output Series. If not specified, this will be\n",
      "    inferred from `data`.\n",
      "    See the :ref:`user guide <basics.dtypes>` for more usages.\n",
      "name : str, optional\n",
      "    The name to give to the Series.\n",
      "copy : bool, default False\n",
      "    Copy input data. Only affects Series or 1d ndarray input. See examples.\n",
      "\n",
      "Examples\n",
      "--------\n",
      "Constructing Series from a dictionary with an Index specified\n",
      "\n",
      ">>> d = {'a': 1, 'b': 2, 'c': 3}\n",
      ">>> ser = pd.Series(data=d, index=['a', 'b', 'c'])\n",
      ">>> ser\n",
      "a   1\n",
      "b   2\n",
      "c   3\n",
      "dtype: int64\n",
      "\n",
      "The keys of the dictionary match with the Index values, hence the Index\n",
      "values have no effect.\n",
      "\n",
      ">>> d = {'a': 1, 'b': 2, 'c': 3}\n",
      ">>> ser = pd.Series(data=d, index=['x', 'y', 'z'])\n",
      ">>> ser\n",
      "x   NaN\n",
      "y   NaN\n",
      "z   NaN\n",
      "dtype: float64\n",
      "\n",
      "Note that the Index is first build with the keys from the dictionary.\n",
      "After this the Series is reindexed with the given Index values, hence we\n",
      "get all NaN as a result.\n",
      "\n",
      "Constructing Series from a list with `copy=False`.\n",
      "\n",
      ">>> r = [1, 2]\n",
      ">>> ser = pd.Series(r, copy=False)\n",
      ">>> ser.iloc[0] = 999\n",
      ">>> r\n",
      "[1, 2]\n",
      ">>> ser\n",
      "0    999\n",
      "1      2\n",
      "dtype: int64\n",
      "\n",
      "Due to input data type the Series has a `copy` of\n",
      "the original data even though `copy=False`, so\n",
      "the data is unchanged.\n",
      "\n",
      "Constructing Series from a 1d ndarray with `copy=False`.\n",
      "\n",
      ">>> r = np.array([1, 2])\n",
      ">>> ser = pd.Series(r, copy=False)\n",
      ">>> ser.iloc[0] = 999\n",
      ">>> r\n",
      "array([999,   2])\n",
      ">>> ser\n",
      "0    999\n",
      "1      2\n",
      "dtype: int64\n",
      "\n",
      "Due to input data type the Series has a `view` on\n",
      "the original data, so\n",
      "the data is changed as well.\n",
      "\u001b[1;31mFile:\u001b[0m           c:\\python\\lib\\site-packages\\pandas\\core\\series.py\n",
      "\u001b[1;31mType:\u001b[0m           type\n",
      "\u001b[1;31mSubclasses:\u001b[0m     SubclassedSeries"
     ]
    }
   ],
   "source": [
    "#documentation de Series\n",
    "pd.Series?"
   ]
  },
  {
   "cell_type": "markdown",
   "metadata": {},
   "source": [
    "Il existe plusieurs façons de construire des Series."
   ]
  },
  {
   "cell_type": "code",
   "execution_count": 5,
   "metadata": {},
   "outputs": [
    {
     "name": "stdout",
     "output_type": "stream",
     "text": [
      "2016    2473\n",
      "2017    2595\n",
      "2018    2790\n",
      "2019    2728\n",
      "2020    2647\n",
      "2021    2959\n",
      "2022    2779\n",
      "Name: FRANCE GDP, dtype: int64\n"
     ]
    }
   ],
   "source": [
    "# Méthode 1 : construire une série avec un dictionnaire\n",
    "dict_gdp = {\n",
    "    '2016' : 2473,\t\n",
    "    '2017' : 2595,\t\n",
    "    '2018': 2790,\t\n",
    "    '2019': 2728,\n",
    "    '2020' : 2647, \n",
    "    '2021' : 2959,\t\n",
    "    '2022' :2779 \n",
    " }\n",
    "ser = pd.Series(data=dict_gdp, name='FRANCE GDP')\n",
    "print(ser)\n"
   ]
  },
  {
   "cell_type": "code",
   "execution_count": 6,
   "metadata": {},
   "outputs": [
    {
     "name": "stdout",
     "output_type": "stream",
     "text": [
      "2016    2473\n",
      "2017    2595\n",
      "2018    2790\n",
      "2019    2728\n",
      "2020    2647\n",
      "2021    2959\n",
      "2022    2779\n",
      "Name: FRANCE GDP, dtype: int64\n"
     ]
    }
   ],
   "source": [
    "#Méthode 2 : construire une série avec une liste de données et une liste de label\n",
    "data = [2473, 2595, 2790, 2728, 2647, 2959, 2779]\n",
    "label = ['2016', '2017', '2018', '2019', '2020', '2021', '2022']\n",
    "\n",
    "ser = pd.Series(data=data, index=label, name='FRANCE GDP')\n",
    "print(ser)"
   ]
  },
  {
   "cell_type": "markdown",
   "metadata": {},
   "source": [
    "####"
   ]
  },
  {
   "cell_type": "markdown",
   "metadata": {},
   "source": [
    "### Sélectionner des éléments d'une série\n",
    "\n",
    "On sélectionne des éléments d'une série par le numéro de son index avec la méthode `iloc` et le nom de l'index avec la méthode `loc`."
   ]
  },
  {
   "cell_type": "code",
   "execution_count": 7,
   "metadata": {},
   "outputs": [
    {
     "name": "stdout",
     "output_type": "stream",
     "text": [
      "PIB 2022 2779\n"
     ]
    }
   ],
   "source": [
    "#sélectionne le PIB de 2022\n",
    "print(\"PIB 2022\", ser.loc['2022'])"
   ]
  },
  {
   "cell_type": "code",
   "execution_count": 8,
   "metadata": {},
   "outputs": [
    {
     "name": "stdout",
     "output_type": "stream",
     "text": [
      "PIB 2018 2790\n"
     ]
    }
   ],
   "source": [
    "#sélectionne le PIB de 2018\n",
    "print(\"PIB 2018\", ser.iloc[2])"
   ]
  },
  {
   "cell_type": "code",
   "execution_count": 9,
   "metadata": {},
   "outputs": [
    {
     "name": "stdout",
     "output_type": "stream",
     "text": [
      "PIB 2016, 2018, 2020 2016    2473\n",
      "2018    2790\n",
      "2020    2647\n",
      "Name: FRANCE GDP, dtype: int64\n"
     ]
    }
   ],
   "source": [
    "#sélectionne les PIB de 2016, 2018 et 2020\n",
    "print(\"PIB 2016, 2018, 2020\", ser.loc[['2016', '2018', '2020' ]])"
   ]
  },
  {
   "cell_type": "code",
   "execution_count": 46,
   "metadata": {},
   "outputs": [
    {
     "name": "stdout",
     "output_type": "stream",
     "text": [
      "PIB 2017, 2019, 2021 2017    2595\n",
      "2019    1000\n",
      "2021    2959\n",
      "Name: FRANCE GDP, dtype: int64\n"
     ]
    }
   ],
   "source": [
    "#sélectionne les PIB de 2017, 2019 et 2021 avec iloc\n",
    "print(\"PIB 2017, 2019, 2021\", ser.iloc[[1,3,5 ]])"
   ]
  },
  {
   "cell_type": "markdown",
   "metadata": {},
   "source": [
    "### Modifier des éléments d'une série\n",
    "On modifie des éléments d'une série par le numéro de son index avec la méthode `iloc` et le nom de l'index avec la méthode `loc`."
   ]
  },
  {
   "cell_type": "code",
   "execution_count": 13,
   "metadata": {},
   "outputs": [
    {
     "name": "stdout",
     "output_type": "stream",
     "text": [
      "2016    2473\n",
      "2017    2595\n",
      "2018    2790\n",
      "2019    2728\n",
      "2020    2647\n",
      "2021    2959\n",
      "2022    2000\n",
      "Name: FRANCE GDP, dtype: int64\n"
     ]
    }
   ],
   "source": [
    "#modifie le PIB de 2022\n",
    "ser.loc['2022'] = 2000\n",
    "print(ser)"
   ]
  },
  {
   "cell_type": "code",
   "execution_count": 14,
   "metadata": {},
   "outputs": [
    {
     "name": "stdout",
     "output_type": "stream",
     "text": [
      "2016    2473\n",
      "2017    2595\n",
      "2018    2790\n",
      "2019    1000\n",
      "2020    2647\n",
      "2021    2959\n",
      "2022    2000\n",
      "Name: FRANCE GDP, dtype: int64\n"
     ]
    }
   ],
   "source": [
    "#modifie le PIB de 2019\n",
    "ser.iloc[3] = 1000\n",
    "print(ser)"
   ]
  },
  {
   "cell_type": "markdown",
   "metadata": {},
   "source": [
    "## DataFrame\n",
    "\n",
    "Les DataFrame sont des tableaux à 2 dimensions (lignes et colonnes). Ils sont avec les Series, les principaux objets de la bibliothèque `pandas`.\n",
    "\n",
    "La documentation officielle est ici :\n",
    "\n",
    "https://pandas.pydata.org/docs/reference/api/pandas.DataFrame.html"
   ]
  },
  {
   "cell_type": "code",
   "execution_count": 11,
   "metadata": {},
   "outputs": [
    {
     "name": "stdout",
     "output_type": "stream",
     "text": [
      "\u001b[1;31mInit signature:\u001b[0m\n",
      "\u001b[0mpd\u001b[0m\u001b[1;33m.\u001b[0m\u001b[0mDataFrame\u001b[0m\u001b[1;33m(\u001b[0m\u001b[1;33m\n",
      "\u001b[0m    \u001b[0mdata\u001b[0m\u001b[1;33m=\u001b[0m\u001b[1;32mNone\u001b[0m\u001b[1;33m,\u001b[0m\u001b[1;33m\n",
      "\u001b[0m    \u001b[0mindex\u001b[0m\u001b[1;33m:\u001b[0m \u001b[1;34m'Axes | None'\u001b[0m \u001b[1;33m=\u001b[0m \u001b[1;32mNone\u001b[0m\u001b[1;33m,\u001b[0m\u001b[1;33m\n",
      "\u001b[0m    \u001b[0mcolumns\u001b[0m\u001b[1;33m:\u001b[0m \u001b[1;34m'Axes | None'\u001b[0m \u001b[1;33m=\u001b[0m \u001b[1;32mNone\u001b[0m\u001b[1;33m,\u001b[0m\u001b[1;33m\n",
      "\u001b[0m    \u001b[0mdtype\u001b[0m\u001b[1;33m:\u001b[0m \u001b[1;34m'Dtype | None'\u001b[0m \u001b[1;33m=\u001b[0m \u001b[1;32mNone\u001b[0m\u001b[1;33m,\u001b[0m\u001b[1;33m\n",
      "\u001b[0m    \u001b[0mcopy\u001b[0m\u001b[1;33m:\u001b[0m \u001b[1;34m'bool | None'\u001b[0m \u001b[1;33m=\u001b[0m \u001b[1;32mNone\u001b[0m\u001b[1;33m,\u001b[0m\u001b[1;33m\n",
      "\u001b[0m\u001b[1;33m)\u001b[0m\u001b[1;33m\u001b[0m\u001b[1;33m\u001b[0m\u001b[0m\n",
      "\u001b[1;31mDocstring:\u001b[0m     \n",
      "Two-dimensional, size-mutable, potentially heterogeneous tabular data.\n",
      "\n",
      "Data structure also contains labeled axes (rows and columns).\n",
      "Arithmetic operations align on both row and column labels. Can be\n",
      "thought of as a dict-like container for Series objects. The primary\n",
      "pandas data structure.\n",
      "\n",
      "Parameters\n",
      "----------\n",
      "data : ndarray (structured or homogeneous), Iterable, dict, or DataFrame\n",
      "    Dict can contain Series, arrays, constants, dataclass or list-like objects. If\n",
      "    data is a dict, column order follows insertion-order. If a dict contains Series\n",
      "    which have an index defined, it is aligned by its index.\n",
      "\n",
      "    .. versionchanged:: 0.25.0\n",
      "       If data is a list of dicts, column order follows insertion-order.\n",
      "\n",
      "index : Index or array-like\n",
      "    Index to use for resulting frame. Will default to RangeIndex if\n",
      "    no indexing information part of input data and no index provided.\n",
      "columns : Index or array-like\n",
      "    Column labels to use for resulting frame when data does not have them,\n",
      "    defaulting to RangeIndex(0, 1, 2, ..., n). If data contains column labels,\n",
      "    will perform column selection instead.\n",
      "dtype : dtype, default None\n",
      "    Data type to force. Only a single dtype is allowed. If None, infer.\n",
      "copy : bool or None, default None\n",
      "    Copy data from inputs.\n",
      "    For dict data, the default of None behaves like ``copy=True``.  For DataFrame\n",
      "    or 2d ndarray input, the default of None behaves like ``copy=False``.\n",
      "\n",
      "    .. versionchanged:: 1.3.0\n",
      "\n",
      "See Also\n",
      "--------\n",
      "DataFrame.from_records : Constructor from tuples, also record arrays.\n",
      "DataFrame.from_dict : From dicts of Series, arrays, or dicts.\n",
      "read_csv : Read a comma-separated values (csv) file into DataFrame.\n",
      "read_table : Read general delimited file into DataFrame.\n",
      "read_clipboard : Read text from clipboard into DataFrame.\n",
      "\n",
      "Examples\n",
      "--------\n",
      "Constructing DataFrame from a dictionary.\n",
      "\n",
      ">>> d = {'col1': [1, 2], 'col2': [3, 4]}\n",
      ">>> df = pd.DataFrame(data=d)\n",
      ">>> df\n",
      "   col1  col2\n",
      "0     1     3\n",
      "1     2     4\n",
      "\n",
      "Notice that the inferred dtype is int64.\n",
      "\n",
      ">>> df.dtypes\n",
      "col1    int64\n",
      "col2    int64\n",
      "dtype: object\n",
      "\n",
      "To enforce a single dtype:\n",
      "\n",
      ">>> df = pd.DataFrame(data=d, dtype=np.int8)\n",
      ">>> df.dtypes\n",
      "col1    int8\n",
      "col2    int8\n",
      "dtype: object\n",
      "\n",
      "Constructing DataFrame from a dictionary including Series:\n",
      "\n",
      ">>> d = {'col1': [0, 1, 2, 3], 'col2': pd.Series([2, 3], index=[2, 3])}\n",
      ">>> pd.DataFrame(data=d, index=[0, 1, 2, 3])\n",
      "   col1  col2\n",
      "0     0   NaN\n",
      "1     1   NaN\n",
      "2     2   2.0\n",
      "3     3   3.0\n",
      "\n",
      "Constructing DataFrame from numpy ndarray:\n",
      "\n",
      ">>> df2 = pd.DataFrame(np.array([[1, 2, 3], [4, 5, 6], [7, 8, 9]]),\n",
      "...                    columns=['a', 'b', 'c'])\n",
      ">>> df2\n",
      "   a  b  c\n",
      "0  1  2  3\n",
      "1  4  5  6\n",
      "2  7  8  9\n",
      "\n",
      "Constructing DataFrame from a numpy ndarray that has labeled columns:\n",
      "\n",
      ">>> data = np.array([(1, 2, 3), (4, 5, 6), (7, 8, 9)],\n",
      "...                 dtype=[(\"a\", \"i4\"), (\"b\", \"i4\"), (\"c\", \"i4\")])\n",
      ">>> df3 = pd.DataFrame(data, columns=['c', 'a'])\n",
      "...\n",
      ">>> df3\n",
      "   c  a\n",
      "0  3  1\n",
      "1  6  4\n",
      "2  9  7\n",
      "\n",
      "Constructing DataFrame from dataclass:\n",
      "\n",
      ">>> from dataclasses import make_dataclass\n",
      ">>> Point = make_dataclass(\"Point\", [(\"x\", int), (\"y\", int)])\n",
      ">>> pd.DataFrame([Point(0, 0), Point(0, 3), Point(2, 3)])\n",
      "   x  y\n",
      "0  0  0\n",
      "1  0  3\n",
      "2  2  3\n",
      "\u001b[1;31mFile:\u001b[0m           c:\\python\\lib\\site-packages\\pandas\\core\\frame.py\n",
      "\u001b[1;31mType:\u001b[0m           type\n",
      "\u001b[1;31mSubclasses:\u001b[0m     SubclassedDataFrame"
     ]
    }
   ],
   "source": [
    "#documentation de DataFrame\n",
    "pd.DataFrame?"
   ]
  },
  {
   "cell_type": "markdown",
   "metadata": {},
   "source": [
    "Il existe plusieurs façons de construire des DataFrame."
   ]
  },
  {
   "cell_type": "code",
   "execution_count": 19,
   "metadata": {},
   "outputs": [
    {
     "name": "stdout",
     "output_type": "stream",
     "text": [
      "      FRANCE    USA  TUVALU\n",
      "2016    2473  18695      42\n",
      "2017    2595  19477      45\n",
      "2028    2790  20533      48\n",
      "2019    2728  21381      54\n",
      "2020    2647  21060      52\n",
      "2021    2959  23315      60\n",
      "2022    2779  25439      59\n"
     ]
    }
   ],
   "source": [
    "# Méthode 1 : construire un DataFrame avec un dictionnaire\n",
    "dict_gdp = { 'FRANCE' : [2473,2595,2790,2728,2647,2959,2779],\n",
    "            'USA' : [18695, 19477, 20533, 21381, 21060, 23315, 25439],\n",
    "            'TUVALU': [42,45,48,54,52,60,59]\n",
    "            }\n",
    "\n",
    "df = pd.DataFrame(data = dict_gdp, index = [2016,2017,2028,2019,2020,2021,2022])\n",
    "print(df)\n"
   ]
  },
  {
   "cell_type": "code",
   "execution_count": 22,
   "metadata": {},
   "outputs": [
    {
     "name": "stdout",
     "output_type": "stream",
     "text": [
      "      FRANCE    USA  TUVALU\n",
      "2016    2473  18695      42\n",
      "2017    2595  19477      45\n",
      "2018    2790  20533      48\n",
      "2019    2728  21381      54\n",
      "2020    2647  21060      52\n",
      "2021    2959  23315      60\n",
      "2022    2779  25439      59\n"
     ]
    }
   ],
   "source": [
    "# Méthode 2 : construire un DataFrame avec des listes\n",
    "data = [[2473,18695,42],\n",
    "        [2595,19477,45],\n",
    "        [2790,20533, 48],\n",
    "        [2728,21381,54],\n",
    "        [2647, 21060,52],\n",
    "        [2959,23315,60],\n",
    "        [2779,25439,59]\n",
    "        ]\n",
    "\n",
    "columns = ['FRANCE','USA','TUVALU']\n",
    "index = [2016,2017,2018,2019,2020,2021,2022]\n",
    "df = pd.DataFrame(data = data, columns=columns, index=index)\n",
    "print(df)"
   ]
  },
  {
   "cell_type": "markdown",
   "metadata": {},
   "source": [
    "### Sélectionner des éléments d'un DataFrame\n",
    "\n",
    "On sélectionne des éléments d'un DataFrame par le numéro de l'index et de la colonne avec la méthode `iloc` et le nom de l'index et de la colonne avec la méthode `loc`."
   ]
  },
  {
   "cell_type": "code",
   "execution_count": 41,
   "metadata": {},
   "outputs": [
    {
     "name": "stdout",
     "output_type": "stream",
     "text": [
      "FRANCE     2779\n",
      "USA       25439\n",
      "TUVALU       59\n",
      "Name: 2022, dtype: int64\n",
      "<class 'pandas.core.series.Series'>\n"
     ]
    }
   ],
   "source": [
    "#sélectionne une ligne, tous les PIB de 2022\n",
    "gdp_2022 = df.loc[2022]\n",
    "print(gdp_2022)\n",
    "#le résultat est une Series\n",
    "print(type(gdp_2022))"
   ]
  },
  {
   "cell_type": "code",
   "execution_count": 42,
   "metadata": {},
   "outputs": [
    {
     "name": "stdout",
     "output_type": "stream",
     "text": [
      "FRANCE     2595\n",
      "USA       19477\n",
      "TUVALU       45\n",
      "Name: 2017, dtype: int64\n",
      "<class 'pandas.core.series.Series'>\n"
     ]
    }
   ],
   "source": [
    "#sélectionne une ligne, tous les PIB de 2017\n",
    "gdp_2017 = df.iloc[1]\n",
    "print(gdp_2017)\n",
    "#le résultat est une Series\n",
    "print(type(gdp_2017))"
   ]
  },
  {
   "cell_type": "code",
   "execution_count": 43,
   "metadata": {},
   "outputs": [
    {
     "name": "stdout",
     "output_type": "stream",
     "text": [
      "2959\n",
      "<class 'numpy.int64'>\n"
     ]
    }
   ],
   "source": [
    "#sélectionne le PIB de la France en 2021\n",
    "gdp_france_2021 = df.loc[2021,'FRANCE']\n",
    "print(gdp_france_2021)\n",
    "#le résultat est un numpy integer\n",
    "print(type(gdp_france_2021))\n"
   ]
  },
  {
   "cell_type": "code",
   "execution_count": 44,
   "metadata": {},
   "outputs": [
    {
     "name": "stdout",
     "output_type": "stream",
     "text": [
      "21381\n",
      "<class 'numpy.int64'>\n"
     ]
    }
   ],
   "source": [
    "#sélectionne le PIB des USA en 2019\n",
    "gdp_usa_2019 = df.iloc[3,1]\n",
    "print(gdp_usa_2019)\n",
    "#le résultat est un numpy integer\n",
    "print(type(gdp_usa_2019))"
   ]
  },
  {
   "cell_type": "code",
   "execution_count": 48,
   "metadata": {},
   "outputs": [
    {
     "name": "stdout",
     "output_type": "stream",
     "text": [
      "      FRANCE  TUVALU\n",
      "2017    2595      45\n",
      "2018    2790      48\n",
      "<class 'pandas.core.frame.DataFrame'>\n"
     ]
    }
   ],
   "source": [
    "#sélectionner le PIB 2017 et 2018 de France Tuvalu\n",
    "gdp_france_tuvalu_2017_2018 = df.loc[[2017,2018], ['FRANCE', 'TUVALU']]\n",
    "print(gdp_france_tuvalu_2017_2018)\n",
    "#le résultat est un DataFrame\n",
    "print(type(gdp_france_tuvalu_2017_2018))\n"
   ]
  },
  {
   "cell_type": "code",
   "execution_count": 54,
   "metadata": {},
   "outputs": [
    {
     "name": "stdout",
     "output_type": "stream",
     "text": [
      "      TUVALU    USA\n",
      "2016      42  18695\n",
      "2022      59  25439\n",
      "<class 'pandas.core.frame.DataFrame'>\n"
     ]
    }
   ],
   "source": [
    "#sélectionner le PIB 2016 et 2022 de Tuvalu et USA\n",
    "gdp_tuvalu_USA_2016_2022 = df.iloc[[0,6], [2, 1]]\n",
    "print(gdp_tuvalu_USA_2016_2022)\n",
    "#le résultat est un DataFrame\n",
    "print(type(gdp_tuvalu_USA_2016_2022))"
   ]
  }
 ],
 "metadata": {
  "kernelspec": {
   "display_name": "Python 3",
   "language": "python",
   "name": "python3"
  },
  "language_info": {
   "codemirror_mode": {
    "name": "ipython",
    "version": 3
   },
   "file_extension": ".py",
   "mimetype": "text/x-python",
   "name": "python",
   "nbconvert_exporter": "python",
   "pygments_lexer": "ipython3",
   "version": "3.10.6"
  }
 },
 "nbformat": 4,
 "nbformat_minor": 2
}
