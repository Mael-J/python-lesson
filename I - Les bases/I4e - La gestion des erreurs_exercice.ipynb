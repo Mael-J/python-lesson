{
 "cells": [
  {
   "cell_type": "markdown",
   "metadata": {},
   "source": [
    "# La gestion des erreurs\n",
    "\n",
    "Dans votre vie de codeur, vous ferez face à des erreurs, à beaucoup d'erreurs. Il ne faut pas en avoir peur et il ne faut pas voir peur du débogueur, l'outil d'inspection de code.\n",
    "\n",
    "Le code s'arrête à la première erreur rencontrée et la décrit. \n",
    "\n",
    "Le type d'erreur, une description et le numéro de ligne où l'erreur est survenue seront décrits dans la fenêtre d'éxécution.\n",
    "\n",
    "On va décourvir dans ce chapitre comment l'interprétrer et comment la gérer.\n",
    "\n",
    "La documentation officielle est ici : https://docs.python.org/3/tutorial/errors.html"
   ]
  },
  {
   "cell_type": "markdown",
   "metadata": {},
   "source": [
    "## L'erreur de syntaxe\n",
    "\n",
    "La syntaxe de Python repose sur les `:` en fin de déclaration, des `()` pour les méthodes, des `{}` pour les dictionnaires. S'il manque un signe, l'éxécution du code donne une erreur de syntaxe `SyntaxError`.\n",
    "\n",
    " "
   ]
  },
  {
   "cell_type": "code",
   "execution_count": 1,
   "metadata": {},
   "outputs": [],
   "source": [
    "#la parenthèse n'est pas fermée, erreur de syntaxe ligne 1\n"
   ]
  },
  {
   "cell_type": "code",
   "execution_count": 2,
   "metadata": {},
   "outputs": [],
   "source": [
    "#il manque :, erreur de syntaxe ligne 3\n"
   ]
  },
  {
   "cell_type": "code",
   "execution_count": 3,
   "metadata": {},
   "outputs": [],
   "source": [
    "#la chaîne de texte n'est pas fermée, erreur de syntaxe ligne 3\n"
   ]
  },
  {
   "cell_type": "code",
   "execution_count": 4,
   "metadata": {},
   "outputs": [],
   "source": [
    "#la liste n'est pas fermée, erreur de syntaxe ligne 1\n"
   ]
  },
  {
   "cell_type": "markdown",
   "metadata": {},
   "source": [
    "## L'erreur d'indentation\n",
    "\n",
    "Python fonctionne avec l'indentation, notamment pour les conditions, les boucles, les fonctions et les classes. Si l'interpréteur rencontre une faute d'indentation, l'exécution s'arrête et on rencontre une erreur d'indentation `IndentationError`."
   ]
  },
  {
   "cell_type": "code",
   "execution_count": 5,
   "metadata": {},
   "outputs": [],
   "source": [
    "#erreur d'indentation dans une condition\n"
   ]
  },
  {
   "cell_type": "code",
   "execution_count": 6,
   "metadata": {},
   "outputs": [],
   "source": [
    "#erreur d'indentation dans une boucle\n"
   ]
  },
  {
   "cell_type": "code",
   "execution_count": 7,
   "metadata": {},
   "outputs": [],
   "source": [
    "#erreur d'indentation dans une fonction\n"
   ]
  },
  {
   "cell_type": "markdown",
   "metadata": {},
   "source": [
    "## L'erreur de nom\n",
    "Si une variable est utilisée avant sa déclaration, on rencontrera une ereeur de nom "
   ]
  },
  {
   "cell_type": "code",
   "execution_count": 8,
   "metadata": {},
   "outputs": [],
   "source": [
    "my_variable = \"bien déclarée\"\n",
    "#la variable my_va n'est pas reconnue\n"
   ]
  },
  {
   "cell_type": "markdown",
   "metadata": {},
   "source": [
    "## L'erreur de type\n",
    "\n",
    "Les variables ont un type, entier (int), texte (str), liste (list). Certaines opérations sont spécifiques à ces types, si un erreur est rencontrée car l'opération n'est pas possible avec le type de variable, l'interpréteur soulève une erreur de type `TypeError`."
   ]
  },
  {
   "cell_type": "code",
   "execution_count": 9,
   "metadata": {},
   "outputs": [],
   "source": [
    "#on ne peut pas additionner un nombre et un texte\n"
   ]
  },
  {
   "cell_type": "markdown",
   "metadata": {},
   "source": [
    "## L'erreur de valeur\n",
    "\n",
    "Si une function reçoit le bon type d'argument mais une mauvais valeur, une erreur de valeur est soulevée `ValueError`."
   ]
  },
  {
   "cell_type": "code",
   "execution_count": 10,
   "metadata": {},
   "outputs": [
    {
     "data": {
      "text/plain": [
       "\"la fonction intégrée int() attend un argumement texte pour le convertir en nombre entier, \\nle texte dix n'est pas reconnu, une erreur de valeur est soulevée\""
      ]
     },
     "execution_count": 10,
     "metadata": {},
     "output_type": "execute_result"
    }
   ],
   "source": [
    "\"\"\"la fonction intégrée int() attend un argumement texte pour le convertir en nombre entier, \n",
    "le texte dix n'est pas reconnu, une erreur de valeur est soulevée\"\"\"\n"
   ]
  },
  {
   "cell_type": "markdown",
   "metadata": {},
   "source": [
    "## L'erreur division par zéro\n",
    "\n",
    "L'interpréteur relève une erreur si un nombre est divisé par 0 `ZeroDivisionError`."
   ]
  },
  {
   "cell_type": "code",
   "execution_count": 11,
   "metadata": {},
   "outputs": [],
   "source": [
    "#division par zéro impossible\n"
   ]
  },
  {
   "cell_type": "markdown",
   "metadata": {},
   "source": [
    "## L'erreur d'indice\n",
    "\n",
    "On peut sélectionner un indice pour les variables itérables (liste, tuple, texte), si l'indice n'existe pas, une erreur d'indice est relevée `IndexError`."
   ]
  },
  {
   "cell_type": "code",
   "execution_count": 12,
   "metadata": {},
   "outputs": [],
   "source": [
    "# le dernier indice de la liste est 4, l'indice 5 provoque une erreur d'indice\n"
   ]
  },
  {
   "cell_type": "code",
   "execution_count": 13,
   "metadata": {},
   "outputs": [],
   "source": [
    "#Le Nil, un fleuve pas si long que ça\n"
   ]
  },
  {
   "cell_type": "markdown",
   "metadata": {},
   "source": [
    "## L'erreur de clé\n",
    "On sélectionne les élements dans un dictionnaire avec une clé. Si la clé n'existe pas, une erreur de clé est relevée `IndexError`."
   ]
  },
  {
   "cell_type": "code",
   "execution_count": 14,
   "metadata": {},
   "outputs": [],
   "source": [
    "#la clé b n'est pas dans le dictionnaire my_dict\n"
   ]
  },
  {
   "cell_type": "markdown",
   "metadata": {},
   "source": [
    "## Soulevé des erreurs\n",
    "\n",
    "Dans le cours sur les fonctions, nous avons vu que nous pouvions les annotées. Les annotations apportent de la lisibilité au code mais ne modifie pas le comportement de la fonction. Si on donne l'annotation liste dans un argument et que l'utilisateur fournit une chaîne de texte, la fonction s'exécute sans soulever d'erreur.\n",
    "\n",
    "Reprenons notre fonction annotée."
   ]
  },
  {
   "cell_type": "code",
   "execution_count": 15,
   "metadata": {},
   "outputs": [
    {
     "name": "stdout",
     "output_type": "stream",
     "text": [
      "[24, 27, 30, 33, 0]\n"
     ]
    }
   ],
   "source": [
    "#fonction annotée\n",
    "def list_multiplication(my_list: list, factor: int) -> list:\n",
    "    \"\"\"\n",
    "        Multiplie l'ensemble des élement par un facteur\n",
    "\n",
    "        Args:\n",
    "            my_list (list): ensemble des éléments à multiplier\n",
    "            factor (int) : facteur de multiplication\n",
    "\n",
    "        Returns:\n",
    "            liste multipliée par le facteur\n",
    "        \n",
    "        Examples:\n",
    "            >>> list_multiplication([1,2,3,4], 2)\n",
    "\n",
    "    \"\"\"\n",
    "    new_list = []\n",
    "    for x in my_list:\n",
    "        new_list.append(x*factor)\n",
    "    return new_list\n",
    "#multiplie les éléments de la liste par 3\n",
    "print(list_multiplication([8,9,10,11,0],3))"
   ]
  },
  {
   "cell_type": "code",
   "execution_count": 16,
   "metadata": {},
   "outputs": [],
   "source": [
    "#si l'utilisateur fournit un texte pour l'argument my_list, la fonction donne un résultat.\n"
   ]
  },
  {
   "cell_type": "code",
   "execution_count": 17,
   "metadata": {},
   "outputs": [
    {
     "data": {
      "text/plain": [
       "\"Par construction, si on donne un float à l'argument factor, une erreur de type est soulevée.\\nOn ne peut pas multiplier une chaîne de texte par un nombre décimal\""
      ]
     },
     "execution_count": 17,
     "metadata": {},
     "output_type": "execute_result"
    }
   ],
   "source": [
    "\"\"\"Par construction, si on donne un float à l'argument factor, une erreur de type est soulevée.\n",
    "On ne peut pas multiplier une chaîne de texte par un nombre décimal\"\"\"\n"
   ]
  },
  {
   "cell_type": "markdown",
   "metadata": {},
   "source": [
    "C'est à ce moment là que l'on peut soulever une erreur si le type d'argument ne convient pas avec `raise`. La gestion des erreurs alors est personnalisée."
   ]
  },
  {
   "cell_type": "code",
   "execution_count": 18,
   "metadata": {},
   "outputs": [],
   "source": [
    "#fonction annotée et type d'argument contrôlé\n"
   ]
  },
  {
   "cell_type": "code",
   "execution_count": 19,
   "metadata": {},
   "outputs": [],
   "source": [
    "#la fonction soulève désormais une erreur de type si l'argument my_list n'est pas une liste.\n"
   ]
  },
  {
   "cell_type": "markdown",
   "metadata": {},
   "source": [
    "On pourrait aussi soulever une erreur de valeur si l'argument factor est plus grand que 10."
   ]
  },
  {
   "cell_type": "code",
   "execution_count": 20,
   "metadata": {},
   "outputs": [],
   "source": [
    "#fonction annotée et type d'argument contrôlé\n",
    "\n",
    "\n",
    "    "
   ]
  },
  {
   "cell_type": "code",
   "execution_count": 21,
   "metadata": {},
   "outputs": [],
   "source": [
    "#erreur si l'argument factor est supérieur à 10\n"
   ]
  },
  {
   "cell_type": "markdown",
   "metadata": {},
   "source": [
    "## Gérer les exception\n",
    "\n",
    "Un code qui s'arrête à la première erreur peut être génant. On peut gérer les exceptions  et laisser filer l'exécution avec les instructions `try` et `except, à utiliser avec parcimonie."
   ]
  },
  {
   "cell_type": "code",
   "execution_count": 22,
   "metadata": {},
   "outputs": [],
   "source": [
    "#ce code va soulever une erreur de division par zéro dès le premier 0 rencontré dans la liste.\n"
   ]
  },
  {
   "cell_type": "code",
   "execution_count": 23,
   "metadata": {},
   "outputs": [],
   "source": [
    "#les erreurs sont gérées avec try et except\n"
   ]
  },
  {
   "cell_type": "markdown",
   "metadata": {},
   "source": [
    "On peut avoir des précision sur l'erreur avec l'instruction `except Exception as e`."
   ]
  },
  {
   "cell_type": "code",
   "execution_count": 24,
   "metadata": {},
   "outputs": [],
   "source": [
    "# on a des précision sur l'erreur avec except Exception as e\n"
   ]
  }
 ],
 "metadata": {
  "kernelspec": {
   "display_name": "Python 3",
   "language": "python",
   "name": "python3"
  },
  "language_info": {
   "codemirror_mode": {
    "name": "ipython",
    "version": 3
   },
   "file_extension": ".py",
   "mimetype": "text/x-python",
   "name": "python",
   "nbconvert_exporter": "python",
   "pygments_lexer": "ipython3",
   "version": "3.10.6"
  }
 },
 "nbformat": 4,
 "nbformat_minor": 2
}
