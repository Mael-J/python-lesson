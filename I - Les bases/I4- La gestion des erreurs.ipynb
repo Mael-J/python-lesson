{
 "cells": [
  {
   "cell_type": "markdown",
   "metadata": {},
   "source": [
    "# La gestion des erreurs\n",
    "\n",
    "Dans votre vie de codeur, vous ferez face à des erreurs, à beaucoup d'erreurs. Il ne faut pas en avoir peur et il ne faut pas voir peur du débogueur, l'outil d'inspection de code.\n",
    "\n",
    "Le code s'arrête à la première erreur rencontrée et la décrit. \n",
    "\n",
    "Le type d'erreur, une description et le numéro de ligne où l'erreur est survenue seront décrits dans la fenêtre d'éxécution.\n",
    "\n",
    "On va décourvir dans ce chapitre comment l'interprétrer et comment la gérer.\n",
    "\n",
    "La documentation officielle est ici : https://docs.python.org/3/tutorial/errors.html"
   ]
  },
  {
   "cell_type": "markdown",
   "metadata": {},
   "source": [
    "## L'erreur de syntaxe\n",
    "\n",
    "La syntaxe de Python repose sur les `:` en fin de déclaration, des `()` pour les méthodes, des `{}` pour les dictionnaires. S'il manque un signe, l'éxécution du code donne une erreur de syntaxe `SyntaxError`.\n",
    "\n",
    " "
   ]
  },
  {
   "cell_type": "code",
   "execution_count": 2,
   "metadata": {},
   "outputs": [
    {
     "ename": "SyntaxError",
     "evalue": "incomplete input (2412729673.py, line 2)",
     "output_type": "error",
     "traceback": [
      "\u001b[1;36m  Cell \u001b[1;32mIn[2], line 2\u001b[1;36m\u001b[0m\n\u001b[1;33m    print(1\u001b[0m\n\u001b[1;37m           ^\u001b[0m\n\u001b[1;31mSyntaxError\u001b[0m\u001b[1;31m:\u001b[0m incomplete input\n"
     ]
    }
   ],
   "source": [
    "#la parenthèse n'est pas fermée, erreur de syntaxe ligne 1\n",
    "print(1"
   ]
  },
  {
   "cell_type": "code",
   "execution_count": null,
   "metadata": {},
   "outputs": [
    {
     "ename": "SyntaxError",
     "evalue": "expected ':' (490017347.py, line 3)",
     "output_type": "error",
     "traceback": [
      "\u001b[1;36m  Cell \u001b[1;32mIn[7], line 3\u001b[1;36m\u001b[0m\n\u001b[1;33m    if x > 2\u001b[0m\n\u001b[1;37m            ^\u001b[0m\n\u001b[1;31mSyntaxError\u001b[0m\u001b[1;31m:\u001b[0m expected ':'\n"
     ]
    }
   ],
   "source": [
    "#il manque :, erreur de syntaxe ligne 3\n",
    "x = 10\n",
    "if x > 2\n",
    "    print(f\"{x} est supérieur à 2\")"
   ]
  },
  {
   "cell_type": "code",
   "execution_count": null,
   "metadata": {},
   "outputs": [
    {
     "ename": "SyntaxError",
     "evalue": "unterminated string literal (detected at line 3) (3928116348.py, line 3)",
     "output_type": "error",
     "traceback": [
      "\u001b[1;36m  Cell \u001b[1;32mIn[9], line 3\u001b[1;36m\u001b[0m\n\u001b[1;33m    my_second_string = \"Hello World again\u001b[0m\n\u001b[1;37m                       ^\u001b[0m\n\u001b[1;31mSyntaxError\u001b[0m\u001b[1;31m:\u001b[0m unterminated string literal (detected at line 3)\n"
     ]
    }
   ],
   "source": [
    "#la chaîne de texte n'est pas fermée, erreur de syntaxe ligne 3\n",
    "my_first_string = \"Hello World\"\n",
    "my_second_string = \"Hello World again\n",
    "my_last_string = \"Hello World again and again\""
   ]
  },
  {
   "cell_type": "code",
   "execution_count": null,
   "metadata": {},
   "outputs": [
    {
     "ename": "SyntaxError",
     "evalue": "incomplete input (3676335063.py, line 2)",
     "output_type": "error",
     "traceback": [
      "\u001b[1;36m  Cell \u001b[1;32mIn[14], line 2\u001b[1;36m\u001b[0m\n\u001b[1;33m    my_list = [\"list\", \"not\", \"closed\"\u001b[0m\n\u001b[1;37m                                      ^\u001b[0m\n\u001b[1;31mSyntaxError\u001b[0m\u001b[1;31m:\u001b[0m incomplete input\n"
     ]
    }
   ],
   "source": [
    "#la liste n'est pas fermée, erreur de syntaxe ligne 1\n",
    "my_list = [\"list\", \"not\", \"closed\""
   ]
  },
  {
   "cell_type": "markdown",
   "metadata": {},
   "source": [
    "## L'erreur d'indentation\n",
    "\n",
    "Python fonctionne avec l'indentation, notamment pour les conditions, les boucles, les fonctions et les classes. Si l'interpréteur rencontre une faute d'indentation, l'exécution s'arrête et on rencontre une erreur d'indentation `IndentationError`."
   ]
  },
  {
   "cell_type": "code",
   "execution_count": null,
   "metadata": {},
   "outputs": [
    {
     "ename": "IndentationError",
     "evalue": "expected an indented block after 'if' statement on line 3 (569175422.py, line 4)",
     "output_type": "error",
     "traceback": [
      "\u001b[1;36m  Cell \u001b[1;32mIn[15], line 4\u001b[1;36m\u001b[0m\n\u001b[1;33m    print(\"x est inférieur à 50\")\u001b[0m\n\u001b[1;37m    ^\u001b[0m\n\u001b[1;31mIndentationError\u001b[0m\u001b[1;31m:\u001b[0m expected an indented block after 'if' statement on line 3\n"
     ]
    }
   ],
   "source": [
    "#erreur d'indentation dans une condition\n",
    "x = 5\n",
    "if x < 50:\n",
    "print(\"x est inférieur à 50\")"
   ]
  },
  {
   "cell_type": "code",
   "execution_count": null,
   "metadata": {},
   "outputs": [
    {
     "ename": "IndentationError",
     "evalue": "expected an indented block after 'for' statement on line 2 (538455370.py, line 3)",
     "output_type": "error",
     "traceback": [
      "\u001b[1;36m  Cell \u001b[1;32mIn[18], line 3\u001b[1;36m\u001b[0m\n\u001b[1;33m    print(x)\u001b[0m\n\u001b[1;37m    ^\u001b[0m\n\u001b[1;31mIndentationError\u001b[0m\u001b[1;31m:\u001b[0m expected an indented block after 'for' statement on line 2\n"
     ]
    }
   ],
   "source": [
    "#erreur d'indentation dans une boucle\n",
    "for x in range(10):\n",
    "print(x)"
   ]
  },
  {
   "cell_type": "code",
   "execution_count": null,
   "metadata": {},
   "outputs": [
    {
     "ename": "IndentationError",
     "evalue": "expected an indented block after function definition on line 2 (703247356.py, line 3)",
     "output_type": "error",
     "traceback": [
      "\u001b[1;36m  Cell \u001b[1;32mIn[19], line 3\u001b[1;36m\u001b[0m\n\u001b[1;33m    print(\"bad indentation\")\u001b[0m\n\u001b[1;37m    ^\u001b[0m\n\u001b[1;31mIndentationError\u001b[0m\u001b[1;31m:\u001b[0m expected an indented block after function definition on line 2\n"
     ]
    }
   ],
   "source": [
    "#erreur d'indentation dans une fonction\n",
    "def bad_indentation():\n",
    "print(\"bad indentation\")\n"
   ]
  },
  {
   "cell_type": "markdown",
   "metadata": {},
   "source": [
    "## L'erreur de nom\n",
    "Si une variable est utilisée avant sa déclaration, on rencontrera une ereeur de nom "
   ]
  },
  {
   "cell_type": "code",
   "execution_count": null,
   "metadata": {},
   "outputs": [
    {
     "ename": "NameError",
     "evalue": "name 'my_va' is not defined",
     "output_type": "error",
     "traceback": [
      "\u001b[1;31m---------------------------------------------------------------------------\u001b[0m",
      "\u001b[1;31mNameError\u001b[0m                                 Traceback (most recent call last)",
      "Cell \u001b[1;32mIn[25], line 3\u001b[0m\n\u001b[0;32m      1\u001b[0m my_variable \u001b[38;5;241m=\u001b[39m \u001b[38;5;124m\"\u001b[39m\u001b[38;5;124mbien déclarée\u001b[39m\u001b[38;5;124m\"\u001b[39m\n\u001b[0;32m      2\u001b[0m \u001b[38;5;66;03m#la variable my_va n'est pas reconnue\u001b[39;00m\n\u001b[1;32m----> 3\u001b[0m \u001b[43mmy_va\u001b[49m\n",
      "\u001b[1;31mNameError\u001b[0m: name 'my_va' is not defined"
     ]
    }
   ],
   "source": [
    "my_variable = \"bien déclarée\"\n",
    "#la variable my_va n'est pas reconnue\n",
    "my_va"
   ]
  },
  {
   "cell_type": "markdown",
   "metadata": {},
   "source": [
    "## L'erreur de type\n",
    "\n",
    "Les variables ont un type, entier (int), texte (str), liste (list). Certaines opérations sont spécifiques à ces types, si un erreur est rencontrée car l'opération n'est pas possible avec le type de variable, l'interpréteur soulève une erreur de type `TypeError`."
   ]
  },
  {
   "cell_type": "code",
   "execution_count": null,
   "metadata": {},
   "outputs": [
    {
     "ename": "TypeError",
     "evalue": "unsupported operand type(s) for +: 'int' and 'str'",
     "output_type": "error",
     "traceback": [
      "\u001b[1;31m---------------------------------------------------------------------------\u001b[0m",
      "\u001b[1;31mTypeError\u001b[0m                                 Traceback (most recent call last)",
      "Cell \u001b[1;32mIn[26], line 3\u001b[0m\n\u001b[0;32m      1\u001b[0m x \u001b[38;5;241m=\u001b[39m \u001b[38;5;241m100\u001b[39m\n\u001b[0;32m      2\u001b[0m my_string \u001b[38;5;241m=\u001b[39m \u001b[38;5;124m\"\u001b[39m\u001b[38;5;124mcent\u001b[39m\u001b[38;5;124m\"\u001b[39m\n\u001b[1;32m----> 3\u001b[0m \u001b[43mx\u001b[49m\u001b[43m \u001b[49m\u001b[38;5;241;43m+\u001b[39;49m\u001b[43m \u001b[49m\u001b[43mmy_string\u001b[49m\n",
      "\u001b[1;31mTypeError\u001b[0m: unsupported operand type(s) for +: 'int' and 'str'"
     ]
    }
   ],
   "source": [
    "#on ne peut pas additionner un nombre et un texte\n",
    "x = 100\n",
    "my_string = \"cent\"\n",
    "x + my_string"
   ]
  },
  {
   "cell_type": "markdown",
   "metadata": {},
   "source": [
    "## L'erreur de valeur\n",
    "\n",
    "Si une function reçoit le bon type d'argument mais une mauvais valeur, une erreur de valeur est soulevée `ValueError`."
   ]
  },
  {
   "cell_type": "code",
   "execution_count": null,
   "metadata": {},
   "outputs": [
    {
     "name": "stdout",
     "output_type": "stream",
     "text": [
      "10\n"
     ]
    },
    {
     "ename": "ValueError",
     "evalue": "invalid literal for int() with base 10: 'dix'",
     "output_type": "error",
     "traceback": [
      "\u001b[1;31m---------------------------------------------------------------------------\u001b[0m",
      "\u001b[1;31mValueError\u001b[0m                                Traceback (most recent call last)",
      "Cell \u001b[1;32mIn[35], line 4\u001b[0m\n\u001b[0;32m      1\u001b[0m \u001b[38;5;124;03m\"\"\"la fonction intégrée int() attend un argumement texte pour le convertir en nombre entier, \u001b[39;00m\n\u001b[0;32m      2\u001b[0m \u001b[38;5;124;03mle texte dix n'est pas reconnu, une erreur de valeur est soulevée\"\"\"\u001b[39;00m\n\u001b[0;32m      3\u001b[0m \u001b[38;5;28mprint\u001b[39m(\u001b[38;5;28mint\u001b[39m(\u001b[38;5;124m\"\u001b[39m\u001b[38;5;124m10\u001b[39m\u001b[38;5;124m\"\u001b[39m))\n\u001b[1;32m----> 4\u001b[0m \u001b[38;5;28;43mint\u001b[39;49m\u001b[43m(\u001b[49m\u001b[38;5;124;43m\"\u001b[39;49m\u001b[38;5;124;43mdix\u001b[39;49m\u001b[38;5;124;43m\"\u001b[39;49m\u001b[43m)\u001b[49m\n",
      "\u001b[1;31mValueError\u001b[0m: invalid literal for int() with base 10: 'dix'"
     ]
    }
   ],
   "source": [
    "\"\"\"la fonction intégrée int() attend un argumement texte pour le convertir en nombre entier, \n",
    "le texte dix n'est pas reconnu, une erreur de valeur est soulevée\"\"\"\n",
    "print(int(\"10\"))\n",
    "int(\"dix\")"
   ]
  },
  {
   "cell_type": "markdown",
   "metadata": {},
   "source": [
    "## L'erreur division par zéro\n",
    "\n",
    "L'interpréteur relève une erreur si un nombre est divisé par 0 `ZeroDivisionError`."
   ]
  },
  {
   "cell_type": "code",
   "execution_count": null,
   "metadata": {},
   "outputs": [
    {
     "ename": "ZeroDivisionError",
     "evalue": "division by zero",
     "output_type": "error",
     "traceback": [
      "\u001b[1;31m---------------------------------------------------------------------------\u001b[0m",
      "\u001b[1;31mZeroDivisionError\u001b[0m                         Traceback (most recent call last)",
      "Cell \u001b[1;32mIn[20], line 1\u001b[0m\n\u001b[1;32m----> 1\u001b[0m \u001b[38;5;241;43m10\u001b[39;49m\u001b[38;5;241;43m/\u001b[39;49m\u001b[38;5;241;43m0\u001b[39;49m\n",
      "\u001b[1;31mZeroDivisionError\u001b[0m: division by zero"
     ]
    }
   ],
   "source": [
    "#division par zéro impossible\n",
    "10/0"
   ]
  },
  {
   "cell_type": "markdown",
   "metadata": {},
   "source": [
    "## L'erreur d'indice\n",
    "\n",
    "On peut sélectionner un indice pour les variables itérables (liste, tuple, texte), si l'indice n'existe pas, une erreur d'indice est relevée `IndexError`."
   ]
  },
  {
   "cell_type": "code",
   "execution_count": null,
   "metadata": {},
   "outputs": [
    {
     "ename": "IndexError",
     "evalue": "list index out of range",
     "output_type": "error",
     "traceback": [
      "\u001b[1;31m---------------------------------------------------------------------------\u001b[0m",
      "\u001b[1;31mIndexError\u001b[0m                                Traceback (most recent call last)",
      "Cell \u001b[1;32mIn[39], line 3\u001b[0m\n\u001b[0;32m      1\u001b[0m \u001b[38;5;66;03m# le dernier indice de la liste est 4, l'indice 5 provoque une erreur d'indice\u001b[39;00m\n\u001b[0;32m      2\u001b[0m my_list \u001b[38;5;241m=\u001b[39m [\u001b[38;5;241m1\u001b[39m,\u001b[38;5;241m2\u001b[39m,\u001b[38;5;241m3\u001b[39m,\u001b[38;5;241m4\u001b[39m,\u001b[38;5;241m5\u001b[39m]\n\u001b[1;32m----> 3\u001b[0m \u001b[43mmy_list\u001b[49m\u001b[43m[\u001b[49m\u001b[38;5;241;43m5\u001b[39;49m\u001b[43m]\u001b[49m\n",
      "\u001b[1;31mIndexError\u001b[0m: list index out of range"
     ]
    }
   ],
   "source": [
    "# le dernier indice de la liste est 4, l'indice 5 provoque une erreur d'indice\n",
    "my_list = [1,2,3,4,5]\n",
    "my_list[5]"
   ]
  },
  {
   "cell_type": "code",
   "execution_count": null,
   "metadata": {},
   "outputs": [
    {
     "ename": "IndexError",
     "evalue": "string index out of range",
     "output_type": "error",
     "traceback": [
      "\u001b[1;31m---------------------------------------------------------------------------\u001b[0m",
      "\u001b[1;31mIndexError\u001b[0m                                Traceback (most recent call last)",
      "Cell \u001b[1;32mIn[44], line 3\u001b[0m\n\u001b[0;32m      1\u001b[0m \u001b[38;5;66;03m#Le Nil, un fleuve pas si long que ça\u001b[39;00m\n\u001b[0;32m      2\u001b[0m my_string \u001b[38;5;241m=\u001b[39m \u001b[38;5;124m\"\u001b[39m\u001b[38;5;124mle Nil, Un long fleuve tranquille.\u001b[39m\u001b[38;5;124m\"\u001b[39m\n\u001b[1;32m----> 3\u001b[0m \u001b[43mmy_string\u001b[49m\u001b[43m[\u001b[49m\u001b[38;5;241;43m100\u001b[39;49m\u001b[43m]\u001b[49m\n",
      "\u001b[1;31mIndexError\u001b[0m: string index out of range"
     ]
    }
   ],
   "source": [
    "#Le Nil, un fleuve pas si long que ça\n",
    "my_string = \"le Nil, Un long fleuve tranquille.\"\n",
    "my_string[100]"
   ]
  },
  {
   "cell_type": "markdown",
   "metadata": {},
   "source": [
    "## L'erreur de clé\n",
    "On sélectionne les élements dans un dictionnaire avec une clé. Si la clé n'existe pas, une erreur de clé est relevée `IndexError`."
   ]
  },
  {
   "cell_type": "code",
   "execution_count": null,
   "metadata": {},
   "outputs": [
    {
     "ename": "KeyError",
     "evalue": "'b'",
     "output_type": "error",
     "traceback": [
      "\u001b[1;31m---------------------------------------------------------------------------\u001b[0m",
      "\u001b[1;31mKeyError\u001b[0m                                  Traceback (most recent call last)",
      "Cell \u001b[1;32mIn[1], line 2\u001b[0m\n\u001b[0;32m      1\u001b[0m my_dict \u001b[38;5;241m=\u001b[39m {\u001b[38;5;124m'\u001b[39m\u001b[38;5;124ma\u001b[39m\u001b[38;5;124m'\u001b[39m : \u001b[38;5;241m1\u001b[39m, \u001b[38;5;124m'\u001b[39m\u001b[38;5;124mc\u001b[39m\u001b[38;5;124m'\u001b[39m : \u001b[38;5;241m3\u001b[39m, \u001b[38;5;124m'\u001b[39m\u001b[38;5;124md\u001b[39m\u001b[38;5;124m'\u001b[39m: \u001b[38;5;241m4\u001b[39m}\n\u001b[1;32m----> 2\u001b[0m \u001b[43mmy_dict\u001b[49m\u001b[43m[\u001b[49m\u001b[38;5;124;43m'\u001b[39;49m\u001b[38;5;124;43mb\u001b[39;49m\u001b[38;5;124;43m'\u001b[39;49m\u001b[43m]\u001b[49m\n",
      "\u001b[1;31mKeyError\u001b[0m: 'b'"
     ]
    }
   ],
   "source": [
    "#la clé b n'est pas dans le dictionnaire my_dict\n",
    "my_dict = {'a' : 1, 'c' : 3, 'd': 4}\n",
    "my_dict['b']"
   ]
  },
  {
   "cell_type": "markdown",
   "metadata": {},
   "source": [
    "## Soulevé des erreurs\n",
    "\n",
    "Dans le cours sur les fonctions, nous avons vu que nous pouvions les annotées. Les annotations apportent de la lisibilité au code mais ne modifie pas le comportement de la fonction. Si on donne l'annotation liste dans un argument et que l'utilisateur fournit une chaîne de texte, la fonction s'exécute sans soulever d'erreur.\n",
    "\n",
    "Reprenons notre fonction annotée."
   ]
  },
  {
   "cell_type": "code",
   "execution_count": null,
   "metadata": {},
   "outputs": [
    {
     "name": "stdout",
     "output_type": "stream",
     "text": [
      "[24, 27, 30, 33, 0]\n"
     ]
    }
   ],
   "source": [
    "#fonction annotée\n",
    "def list_multiplication(my_list: list, factor: int) -> list:\n",
    "    \"\"\"\n",
    "        Multiplie l'ensemble des élement par un facteur\n",
    "\n",
    "        Args:\n",
    "            my_list (list): ensemble des éléments à multiplier\n",
    "            factor (int) : facteur de multiplication\n",
    "\n",
    "        Returns:\n",
    "            liste multipliée par le facteur\n",
    "        \n",
    "        Examples:\n",
    "            >>> list_multiplication([1,2,3,4], 2)\n",
    "\n",
    "    \"\"\"\n",
    "    new_list = []\n",
    "    for x in my_list:\n",
    "        new_list.append(x*factor)\n",
    "    return new_list\n",
    "#multiplie les éléments de la liste par 3\n",
    "print(list_multiplication([8,9,10,11,0],3))"
   ]
  },
  {
   "cell_type": "code",
   "execution_count": null,
   "metadata": {},
   "outputs": [
    {
     "data": {
      "text/plain": [
       "['ççç',\n",
       " 'aaa',\n",
       " '   ',\n",
       " 'fff',\n",
       " 'ooo',\n",
       " 'nnn',\n",
       " 'ccc',\n",
       " 'ttt',\n",
       " 'iii',\n",
       " 'ooo',\n",
       " 'nnn',\n",
       " 'nnn',\n",
       " 'eee']"
      ]
     },
     "execution_count": 50,
     "metadata": {},
     "output_type": "execute_result"
    }
   ],
   "source": [
    "#si l'utilisateur fournit un texte pour l'argument my_list, la fonction donne un résultat.\n",
    "list_multiplication(\"ça fonctionne\", 3)"
   ]
  },
  {
   "cell_type": "code",
   "execution_count": null,
   "metadata": {},
   "outputs": [
    {
     "ename": "TypeError",
     "evalue": "can't multiply sequence by non-int of type 'float'",
     "output_type": "error",
     "traceback": [
      "\u001b[1;31m---------------------------------------------------------------------------\u001b[0m",
      "\u001b[1;31mTypeError\u001b[0m                                 Traceback (most recent call last)",
      "Cell \u001b[1;32mIn[55], line 2\u001b[0m\n\u001b[0;32m      1\u001b[0m \u001b[38;5;66;03m#Par construction, choisir \u001b[39;00m\n\u001b[1;32m----> 2\u001b[0m \u001b[43mlist_multiplication\u001b[49m\u001b[43m(\u001b[49m\u001b[38;5;124;43m\"\u001b[39;49m\u001b[38;5;124;43mça fonctionne\u001b[39;49m\u001b[38;5;124;43m\"\u001b[39;49m\u001b[43m,\u001b[49m\u001b[43m \u001b[49m\u001b[38;5;241;43m3.5\u001b[39;49m\u001b[43m)\u001b[49m\n",
      "Cell \u001b[1;32mIn[45], line 20\u001b[0m, in \u001b[0;36mlist_multiplication\u001b[1;34m(my_list, factor)\u001b[0m\n\u001b[0;32m     18\u001b[0m new_list \u001b[38;5;241m=\u001b[39m []\n\u001b[0;32m     19\u001b[0m \u001b[38;5;28;01mfor\u001b[39;00m x \u001b[38;5;129;01min\u001b[39;00m my_list:\n\u001b[1;32m---> 20\u001b[0m     new_list\u001b[38;5;241m.\u001b[39mappend(\u001b[43mx\u001b[49m\u001b[38;5;241;43m*\u001b[39;49m\u001b[43mfactor\u001b[49m)\n\u001b[0;32m     21\u001b[0m \u001b[38;5;28;01mreturn\u001b[39;00m new_list\n",
      "\u001b[1;31mTypeError\u001b[0m: can't multiply sequence by non-int of type 'float'"
     ]
    }
   ],
   "source": [
    "\"\"\"Par construction, si on donne un float à l'argument factor, une erreur de type est soulevée.\n",
    "On ne peut pas multiplier une chaîne de texte par un nombre décimal\"\"\"\n",
    "list_multiplication(\"ça fonctionne\", 3.5)"
   ]
  },
  {
   "cell_type": "markdown",
   "metadata": {},
   "source": [
    "C'est à ce moment là que l'on peut soulever une erreur si le type d'argument ne convient pas avec `raise`. La gestion des erreurs alors est personnalisée."
   ]
  },
  {
   "cell_type": "code",
   "execution_count": null,
   "metadata": {},
   "outputs": [],
   "source": [
    "#fonction annotée et type d'argument contrôlé\n",
    "def list_multiplication(my_list: list, factor: int) -> list:\n",
    "    \"\"\"\n",
    "        Multiplie l'ensemble des élement par un facteur\n",
    "\n",
    "        Args:\n",
    "            my_list (list): ensemble des éléments à multiplier\n",
    "            factor (int) : facteur de multiplication\n",
    "\n",
    "        Returns:\n",
    "            liste multipliée par le facteur\n",
    "\n",
    "        Raises:\n",
    "            TypeError whenever the parameter my_list is not a list\n",
    "        \n",
    "        Examples:\n",
    "            >>> list_multiplication([1,2,3,4], 2)\n",
    "\n",
    "    \"\"\"\n",
    "    if type(my_list) is not list:\n",
    "        raise TypeError(\"L'argument my_list doit être une liste.\")\n",
    "\n",
    "    new_list = []\n",
    "    for x in my_list:\n",
    "        new_list.append(x*factor)\n",
    "    return new_list"
   ]
  },
  {
   "cell_type": "code",
   "execution_count": null,
   "metadata": {},
   "outputs": [
    {
     "ename": "TypeError",
     "evalue": "L'argument my_list doit être une liste.",
     "output_type": "error",
     "traceback": [
      "\u001b[1;31m---------------------------------------------------------------------------\u001b[0m",
      "\u001b[1;31mTypeError\u001b[0m                                 Traceback (most recent call last)",
      "Cell \u001b[1;32mIn[66], line 2\u001b[0m\n\u001b[0;32m      1\u001b[0m \u001b[38;5;66;03m#la fonction soulève désormais une erreur de type si l'argument my_list n'est pas une liste.\u001b[39;00m\n\u001b[1;32m----> 2\u001b[0m \u001b[43mlist_multiplication\u001b[49m\u001b[43m(\u001b[49m\u001b[38;5;124;43m\"\u001b[39;49m\u001b[38;5;124;43mça fonctionne\u001b[39;49m\u001b[38;5;124;43m\"\u001b[39;49m\u001b[43m,\u001b[49m\u001b[43m \u001b[49m\u001b[38;5;241;43m3\u001b[39;49m\u001b[43m)\u001b[49m\n",
      "Cell \u001b[1;32mIn[65], line 18\u001b[0m, in \u001b[0;36mlist_multiplication\u001b[1;34m(my_list, factor)\u001b[0m\n\u001b[0;32m      3\u001b[0m \u001b[38;5;250m\u001b[39m\u001b[38;5;124;03m\"\"\"\u001b[39;00m\n\u001b[0;32m      4\u001b[0m \u001b[38;5;124;03m    Multiplie l'ensemble des élement par un facteur\u001b[39;00m\n\u001b[0;32m      5\u001b[0m \n\u001b[1;32m   (...)\u001b[0m\n\u001b[0;32m     15\u001b[0m \n\u001b[0;32m     16\u001b[0m \u001b[38;5;124;03m\"\"\"\u001b[39;00m\n\u001b[0;32m     17\u001b[0m \u001b[38;5;28;01mif\u001b[39;00m \u001b[38;5;28mtype\u001b[39m(my_list) \u001b[38;5;129;01mis\u001b[39;00m \u001b[38;5;129;01mnot\u001b[39;00m \u001b[38;5;28mlist\u001b[39m:\n\u001b[1;32m---> 18\u001b[0m     \u001b[38;5;28;01mraise\u001b[39;00m \u001b[38;5;167;01mTypeError\u001b[39;00m(\u001b[38;5;124m\"\u001b[39m\u001b[38;5;124mL\u001b[39m\u001b[38;5;124m'\u001b[39m\u001b[38;5;124margument my_list doit être une liste.\u001b[39m\u001b[38;5;124m\"\u001b[39m)\n\u001b[0;32m     20\u001b[0m new_list \u001b[38;5;241m=\u001b[39m []\n\u001b[0;32m     21\u001b[0m \u001b[38;5;28;01mfor\u001b[39;00m x \u001b[38;5;129;01min\u001b[39;00m my_list:\n",
      "\u001b[1;31mTypeError\u001b[0m: L'argument my_list doit être une liste."
     ]
    }
   ],
   "source": [
    "#la fonction soulève désormais une erreur de type si l'argument my_list n'est pas une liste.\n",
    "list_multiplication(\"ça fonctionne\", 3)"
   ]
  },
  {
   "cell_type": "markdown",
   "metadata": {},
   "source": [
    "On pourrait aussi soulever une erreur de valeur si l'argument factor est plus grand que 10."
   ]
  },
  {
   "cell_type": "code",
   "execution_count": null,
   "metadata": {},
   "outputs": [],
   "source": [
    "#fonction annotée et type d'argument contrôlé\n",
    "def list_multiplication(my_list: list, factor: int) -> list:\n",
    "    \"\"\"\n",
    "        Multiplie l'ensemble des élement par un facteur\n",
    "\n",
    "        Args:\n",
    "            my_list (list): ensemble des éléments à multiplier\n",
    "            factor (int) : facteur de multiplication\n",
    "\n",
    "        Returns:\n",
    "            liste multipliée par le facteur\n",
    "        \n",
    "        Raises:\n",
    "            TypeError whenever the parameter my_list is not a list\n",
    "            ValueError if the parameter factor is superior to 10\n",
    "        \n",
    "        Examples:\n",
    "            >>> list_multiplication([1,2,3,4], 2)\n",
    "\n",
    "    \"\"\"\n",
    "    if type(my_list) is not list:\n",
    "        raise TypeError(\"L'argument my_list doit être une liste.\")\n",
    "    \n",
    "    if factor > 10:\n",
    "        raise ValueError(\"L'argument factor doit être inférieur à 10.\")\n",
    "\n",
    "    new_list = []\n",
    "    for x in my_list:\n",
    "        new_list.append(x*factor)\n",
    "    return new_list"
   ]
  },
  {
   "cell_type": "code",
   "execution_count": null,
   "metadata": {},
   "outputs": [
    {
     "ename": "ValueError",
     "evalue": "L'argument factor doit être inférieur à 10.",
     "output_type": "error",
     "traceback": [
      "\u001b[1;31m---------------------------------------------------------------------------\u001b[0m",
      "\u001b[1;31mValueError\u001b[0m                                Traceback (most recent call last)",
      "Cell \u001b[1;32mIn[71], line 2\u001b[0m\n\u001b[0;32m      1\u001b[0m \u001b[38;5;66;03m#erreur si l'argument factor est supérieur à 10\u001b[39;00m\n\u001b[1;32m----> 2\u001b[0m \u001b[38;5;28mprint\u001b[39m(\u001b[43mlist_multiplication\u001b[49m\u001b[43m(\u001b[49m\u001b[43m[\u001b[49m\u001b[38;5;241;43m8\u001b[39;49m\u001b[43m,\u001b[49m\u001b[38;5;241;43m9\u001b[39;49m\u001b[43m,\u001b[49m\u001b[38;5;241;43m10\u001b[39;49m\u001b[43m,\u001b[49m\u001b[38;5;241;43m11\u001b[39;49m\u001b[43m,\u001b[49m\u001b[38;5;241;43m0\u001b[39;49m\u001b[43m]\u001b[49m\u001b[43m,\u001b[49m\u001b[38;5;241;43m11\u001b[39;49m\u001b[43m)\u001b[49m)\n",
      "Cell \u001b[1;32mIn[67], line 21\u001b[0m, in \u001b[0;36mlist_multiplication\u001b[1;34m(my_list, factor)\u001b[0m\n\u001b[0;32m     18\u001b[0m     \u001b[38;5;28;01mraise\u001b[39;00m \u001b[38;5;167;01mTypeError\u001b[39;00m(\u001b[38;5;124m\"\u001b[39m\u001b[38;5;124mL\u001b[39m\u001b[38;5;124m'\u001b[39m\u001b[38;5;124margument my_list doit être une liste.\u001b[39m\u001b[38;5;124m\"\u001b[39m)\n\u001b[0;32m     20\u001b[0m \u001b[38;5;28;01mif\u001b[39;00m factor \u001b[38;5;241m>\u001b[39m \u001b[38;5;241m10\u001b[39m:\n\u001b[1;32m---> 21\u001b[0m     \u001b[38;5;28;01mraise\u001b[39;00m \u001b[38;5;167;01mValueError\u001b[39;00m(\u001b[38;5;124m\"\u001b[39m\u001b[38;5;124mL\u001b[39m\u001b[38;5;124m'\u001b[39m\u001b[38;5;124margument factor doit être inférieur à 10.\u001b[39m\u001b[38;5;124m\"\u001b[39m)\n\u001b[0;32m     23\u001b[0m new_list \u001b[38;5;241m=\u001b[39m []\n\u001b[0;32m     24\u001b[0m \u001b[38;5;28;01mfor\u001b[39;00m x \u001b[38;5;129;01min\u001b[39;00m my_list:\n",
      "\u001b[1;31mValueError\u001b[0m: L'argument factor doit être inférieur à 10."
     ]
    }
   ],
   "source": [
    "#erreur si l'argument factor est supérieur à 10\n",
    "print(list_multiplication([8,9,10,11,0],11))"
   ]
  },
  {
   "cell_type": "markdown",
   "metadata": {},
   "source": [
    "## Gérer les exception\n",
    "\n",
    "Un code qui s'arrête à la première erreur peut être génant. On peut gérer les exceptions  et laisser filer l'exécution avec les instructions `try` et `except, à utiliser avec parcimonie."
   ]
  },
  {
   "cell_type": "code",
   "execution_count": null,
   "metadata": {},
   "outputs": [
    {
     "name": "stdout",
     "output_type": "stream",
     "text": [
      "12\n"
     ]
    },
    {
     "ename": "ZeroDivisionError",
     "evalue": "division by zero",
     "output_type": "error",
     "traceback": [
      "\u001b[1;31m---------------------------------------------------------------------------\u001b[0m",
      "\u001b[1;31mZeroDivisionError\u001b[0m                         Traceback (most recent call last)",
      "Cell \u001b[1;32mIn[87], line 4\u001b[0m\n\u001b[0;32m      2\u001b[0m my_list \u001b[38;5;241m=\u001b[39m [\u001b[38;5;241m8\u001b[39m, \u001b[38;5;241m0\u001b[39m, \u001b[38;5;241m10\u001b[39m, \u001b[38;5;241m11\u001b[39m, \u001b[38;5;241m0\u001b[39m, \u001b[38;5;241m16\u001b[39m, \u001b[38;5;241m13\u001b[39m,\u001b[38;5;241m14\u001b[39m, \u001b[38;5;241m0\u001b[39m, \u001b[38;5;241m0\u001b[39m, \u001b[38;5;241m20\u001b[39m]\n\u001b[0;32m      3\u001b[0m \u001b[38;5;28;01mfor\u001b[39;00m x \u001b[38;5;129;01min\u001b[39;00m my_list:\n\u001b[1;32m----> 4\u001b[0m     \u001b[38;5;28mprint\u001b[39m(\u001b[38;5;28mround\u001b[39m(\u001b[38;5;241;43m100\u001b[39;49m\u001b[38;5;241;43m/\u001b[39;49m\u001b[43mx\u001b[49m))\n",
      "\u001b[1;31mZeroDivisionError\u001b[0m: division by zero"
     ]
    }
   ],
   "source": [
    "#ce code va soulever une erreur de division par zéro dès le premier 0 rencontré dans la liste.\n",
    "my_list = [8, 0, 10, 11, 0, 16, 13,14, 0, 0, 20]\n",
    "for x in my_list:\n",
    "    print(round(100/x))"
   ]
  },
  {
   "cell_type": "code",
   "execution_count": null,
   "metadata": {},
   "outputs": [
    {
     "name": "stdout",
     "output_type": "stream",
     "text": [
      "12\n",
      "encore un zero\n",
      "10\n",
      "9\n",
      "encore un zero\n",
      "6\n",
      "8\n",
      "7\n",
      "encore un zero\n",
      "encore un zero\n",
      "5\n"
     ]
    }
   ],
   "source": [
    "#les erreurs sont gérées avec try et except\n",
    "my_list = [8, 0, 10, 11, 0, 16, 13,14, 0, 0, 20]\n",
    "for x in my_list:\n",
    "    try:\n",
    "        print(round(100/x))\n",
    "    except:\n",
    "        print(\"encore un zero\")"
   ]
  },
  {
   "cell_type": "markdown",
   "metadata": {},
   "source": [
    "On peut avoir des précision sur l'erreur avec l'instruction `except Exception as e`."
   ]
  },
  {
   "cell_type": "code",
   "execution_count": null,
   "metadata": {},
   "outputs": [
    {
     "name": "stdout",
     "output_type": "stream",
     "text": [
      "12\n",
      "division by zero\n",
      "encore un zero\n",
      "10\n",
      "9\n",
      "division by zero\n",
      "encore un zero\n",
      "6\n",
      "8\n",
      "7\n",
      "division by zero\n",
      "encore un zero\n",
      "division by zero\n",
      "encore un zero\n",
      "5\n"
     ]
    }
   ],
   "source": [
    "# on a des précision sur l'erreur avec except Exception as e\n",
    "my_list = [8, 0, 10, 11, 0, 16, 13,14, 0, 0, 20]\n",
    "for x in my_list:\n",
    "    try:\n",
    "        print(round(100/x))\n",
    "    except Exception as e:\n",
    "        print(str(e))\n",
    "        print(\"encore un zero\")"
   ]
  }
 ],
 "metadata": {
  "kernelspec": {
   "display_name": "Python 3",
   "language": "python",
   "name": "python3"
  },
  "language_info": {
   "codemirror_mode": {
    "name": "ipython",
    "version": 3
   },
   "file_extension": ".py",
   "mimetype": "text/x-python",
   "name": "python",
   "nbconvert_exporter": "python",
   "pygments_lexer": "ipython3",
   "version": "3.10.6"
  }
 },
 "nbformat": 4,
 "nbformat_minor": 2
}
