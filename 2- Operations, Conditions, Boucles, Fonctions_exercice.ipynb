{
 "cells": [
  {
   "cell_type": "markdown",
   "metadata": {},
   "source": [
    "# Opérations, conditions, boucles et fonctions"
   ]
  },
  {
   "cell_type": "markdown",
   "metadata": {},
   "source": [
    "Dans ce cours, nous allons voir les différentes **opérations**, les **conditions**, les **boucles** et les **fonctions**. La syntaxe est spécifique à Python mais la logique est commune pour la plupart des langages de programmation,c'est la base de l'**algorithmie**.\n",
    "\n",
    "La documentation officielle est ici : https://docs.python.org/3/tutorial/controlflow.html"
   ]
  },
  {
   "cell_type": "markdown",
   "metadata": {},
   "source": [
    "## Les opérations mathématiques\n",
    "\n",
    "Le tableau suivant résume les différentes opérations mathématiques :\n",
    "\n",
    "<center>\n",
    "\n",
    "| Symbole | opération            | exemple         |\n",
    "|--------|-----------------------|-----------------|\n",
    "| +      | Addition              | 6 + 4 = 10      |\n",
    "| -      | Soustraction          | 6 - 4 = 2       |\n",
    "| *      | Multiplication        | 6 * 4 = 24      |\n",
    "| /      | Division réelle       | 6 / 4 = 1.5     |\n",
    "| **     | Exposant              | 12 ** 2 = 144   |\n",
    "| //     | Division entière      | 6 // 4 = 1      |\n",
    "| %      | Reste d'une division  | 6 % 4 = 2       |\n",
    "\n",
    "</center>"
   ]
  },
  {
   "cell_type": "markdown",
   "metadata": {},
   "source": [
    "### addition"
   ]
  },
  {
   "cell_type": "code",
   "execution_count": 1,
   "metadata": {},
   "outputs": [],
   "source": [
    "#additioner plusieurs nombres\n"
   ]
  },
  {
   "cell_type": "markdown",
   "metadata": {},
   "source": [
    "Si on additionne des chaînes de texte, on les concatene."
   ]
  },
  {
   "cell_type": "code",
   "execution_count": 2,
   "metadata": {},
   "outputs": [],
   "source": [
    "#concaténer plusieurs chaînes de texte pour faire une phrase\n"
   ]
  },
  {
   "cell_type": "markdown",
   "metadata": {},
   "source": [
    "### soustraction"
   ]
  },
  {
   "cell_type": "code",
   "execution_count": 3,
   "metadata": {},
   "outputs": [],
   "source": [
    "# soustraire deux nombres\n"
   ]
  },
  {
   "cell_type": "markdown",
   "metadata": {},
   "source": [
    "### multiplication"
   ]
  },
  {
   "cell_type": "code",
   "execution_count": 4,
   "metadata": {},
   "outputs": [],
   "source": [
    "#multiplier deux nombres\n"
   ]
  },
  {
   "cell_type": "markdown",
   "metadata": {},
   "source": [
    "### Division réelle"
   ]
  },
  {
   "cell_type": "code",
   "execution_count": 5,
   "metadata": {},
   "outputs": [],
   "source": [
    "#diviser deux nombres\n"
   ]
  },
  {
   "cell_type": "markdown",
   "metadata": {},
   "source": [
    "### Exposant"
   ]
  },
  {
   "cell_type": "code",
   "execution_count": 6,
   "metadata": {},
   "outputs": [],
   "source": [
    "#afficher un exposant 3\n"
   ]
  },
  {
   "cell_type": "markdown",
   "metadata": {},
   "source": [
    "### Division entière\n",
    "La division entière permet d'obtenir le quotient d'une entier d'une division."
   ]
  },
  {
   "cell_type": "code",
   "execution_count": 7,
   "metadata": {},
   "outputs": [],
   "source": [
    "#affichier le quotient entier d'une division\n"
   ]
  },
  {
   "cell_type": "markdown",
   "metadata": {},
   "source": [
    "### Reste d'une division"
   ]
  },
  {
   "cell_type": "code",
   "execution_count": 8,
   "metadata": {},
   "outputs": [],
   "source": [
    "#afficher le reste d'une division\n"
   ]
  },
  {
   "cell_type": "markdown",
   "metadata": {},
   "source": [
    "### incrémenter une variable\n",
    "\n",
    "On peut incrémenter (additioner un nombre à) une variable de deux manière :"
   ]
  },
  {
   "cell_type": "code",
   "execution_count": 9,
   "metadata": {},
   "outputs": [],
   "source": [
    "#Méthode 1 : répéter la variable\n"
   ]
  },
  {
   "cell_type": "code",
   "execution_count": 10,
   "metadata": {},
   "outputs": [],
   "source": [
    "#Méthode 2 : utiliser += (recommandé)\n"
   ]
  },
  {
   "cell_type": "markdown",
   "metadata": {},
   "source": [
    "L'incrémentation fonctionne aussi pour les chaînes de texte"
   ]
  },
  {
   "cell_type": "code",
   "execution_count": 11,
   "metadata": {},
   "outputs": [],
   "source": [
    "#incrémenter une chaîne de texte\n"
   ]
  },
  {
   "cell_type": "markdown",
   "metadata": {},
   "source": [
    "### Décrémenter une variable\n",
    "\n",
    "La décrémentation fonctionne de la même manière que l'incrémentation (elle ne fonctionne pas pour les chaînes de texte)."
   ]
  },
  {
   "cell_type": "code",
   "execution_count": 12,
   "metadata": {},
   "outputs": [],
   "source": [
    "#Méthode 1 : répéter la variable\n"
   ]
  },
  {
   "cell_type": "code",
   "execution_count": 13,
   "metadata": {},
   "outputs": [],
   "source": [
    "#Méthode 2 : utiliser -= (recommandé)\n"
   ]
  },
  {
   "cell_type": "markdown",
   "metadata": {},
   "source": [
    "## Les opérateurs logiques\n",
    "\n",
    "Le tableau suivant résume les différents opérateurs logiques :\n",
    "<center>\n",
    "\n",
    "| Expression | Signification              |\n",
    "|------------|--------------------        |\n",
    "| <          | Strictement plus petit que |\n",
    "| >          | Strictement plus grand que |\n",
    "| <=         | Plus petit ou égal à       |\n",
    "| >=         | Plus grand ou égal à       |\n",
    "| ==         | égal à                     |\n",
    "| !=         | différent de (inégalité)   |\n",
    "| and        | X and Y. ET logique, si X et Y est Vrai, l'expression est vraie, sinon l'expression est fausse. |\n",
    "| or         | X or Y. OU logique, si X ou Y est Vrai, l'expression est vraie. Si aucun n'est vrai, alors l'expression est fausse.          |\n",
    "| not        | not X. N'est Pas, si X == True, donne False. Si X == False, donne True       |\n",
    "\n",
    "</center>\n",
    "\n",
    "Les opérateurs renvoient la réponse True (vrai) ou False (faux). On verra dans la suite de la lecture quelques exemples."
   ]
  },
  {
   "cell_type": "code",
   "execution_count": 14,
   "metadata": {},
   "outputs": [],
   "source": [
    "# 10 n'est pas plus grand que 12\n"
   ]
  },
  {
   "cell_type": "code",
   "execution_count": 15,
   "metadata": {},
   "outputs": [],
   "source": [
    "# 2 est strictement plus petit que 2.6\n"
   ]
  },
  {
   "cell_type": "code",
   "execution_count": 16,
   "metadata": {},
   "outputs": [],
   "source": [
    "# Leonardo est différent de Raffaello\n"
   ]
  },
  {
   "cell_type": "code",
   "execution_count": 17,
   "metadata": {},
   "outputs": [],
   "source": [
    "# l'inverse True is False\n"
   ]
  },
  {
   "cell_type": "code",
   "execution_count": 18,
   "metadata": {},
   "outputs": [],
   "source": [
    "# association de plusieurs opérateurs qui sont vrais\n"
   ]
  },
  {
   "cell_type": "code",
   "execution_count": 19,
   "metadata": {},
   "outputs": [],
   "source": [
    "#association de plusieurs opérateurs qui sont faux\n"
   ]
  },
  {
   "cell_type": "markdown",
   "metadata": {},
   "source": [
    "## Les conditions\n",
    "\n",
    "Les conditions permettent d'éxécuter du code si des conditions sont vérifiées. Elles fonctionnent de pair avec les opérateurs logiques.\n",
    "Les conditions suivent la logique if (si), elif (sinon si), else (sinon).\n",
    "```\n",
    "if condition:\n",
    "    # code à éxecuter si la condition est vraie\n",
    "elif another_condition:\n",
    "    # code à éxecuter si l'autre condition est vraie\n",
    "else:\n",
    "    # code à éxecuter si aucunes conditions sont vraies\n",
    "```\n",
    "\n",
    "\n",
    "Une chose importante à retenir est que la syntaxe Python repose sur l'**indentation** (espace). Les conditons, les boucles, les fonctions et les classes que nous verront plus tard suivent le même schéma. La déclaration se termine par `:`, le code à éxécuter commence par une **indentation**. S'il y a une erreur d'indentation, le code ne peut pas être exécuté.\n"
   ]
  },
  {
   "cell_type": "markdown",
   "metadata": {},
   "source": [
    "#### if \n",
    "L'instruction `if`evalue si la condition est juste et exécute le code indenter si et seulement si la condition est juste"
   ]
  },
  {
   "cell_type": "code",
   "execution_count": 20,
   "metadata": {},
   "outputs": [],
   "source": [
    "# condition simple : x est pair\n"
   ]
  },
  {
   "cell_type": "markdown",
   "metadata": {},
   "source": [
    "On voit dans l'exemple suivant l'importance de l'indentation. Le code indenté n'est pas exécuté car la condition 42 > 50 n'est pas vérifiée. le code non indenté est quant à lui exécuté dans toutes les conditions."
   ]
  },
  {
   "cell_type": "code",
   "execution_count": 21,
   "metadata": {},
   "outputs": [],
   "source": [
    "#exemple d'indentation\n"
   ]
  },
  {
   "cell_type": "markdown",
   "metadata": {},
   "source": [
    "#### elif\n",
    "\n",
    "elif pour else if (sinon si) s'exécute si elle est vraie et si l'instruction précédente (if ou un autre elif) n'est pas vraie. La logique de condition s'arrête dès qu'une condition rencontrée est vraie. "
   ]
  },
  {
   "cell_type": "code",
   "execution_count": 22,
   "metadata": {},
   "outputs": [],
   "source": [
    "# conditions multiples :\n"
   ]
  },
  {
   "cell_type": "markdown",
   "metadata": {},
   "source": [
    "#### else\n",
    "\n",
    "L'instruction else exécute le code indenter si aucunes des conditions précédentes sont vraies."
   ]
  },
  {
   "cell_type": "code",
   "execution_count": 23,
   "metadata": {},
   "outputs": [],
   "source": [
    "# conditions non validées :\n"
   ]
  },
  {
   "cell_type": "markdown",
   "metadata": {},
   "source": [
    "## Les Boucles"
   ]
  },
  {
   "cell_type": "markdown",
   "metadata": {},
   "source": [
    "Une boucle permet de répéter une portion de code jusqu'à ce que la condition de sortie de l'itération soit rencontrée. Il existe deux types de boucle : `for` et `while`.\n",
    "\n",
    "Elles suivent le même schéma que les conditons, la déclaration se termine par `:`, le code à éxécuter est **indenté**."
   ]
  },
  {
   "cell_type": "markdown",
   "metadata": {},
   "source": [
    "### Boucle `for`\n",
    "\n",
    "La boucle `for` permet de parcourir une variable itérable (liste, tuple, dictionnaire, chaîne de texte)."
   ]
  },
  {
   "cell_type": "code",
   "execution_count": 24,
   "metadata": {},
   "outputs": [],
   "source": [
    "#boucle for simple\n",
    "\n"
   ]
  },
  {
   "cell_type": "code",
   "execution_count": 25,
   "metadata": {},
   "outputs": [],
   "source": [
    "#boucle sur une liste\n",
    "\n"
   ]
  },
  {
   "cell_type": "code",
   "execution_count": 26,
   "metadata": {},
   "outputs": [],
   "source": [
    "#boucle sur un dictionnaire\n"
   ]
  },
  {
   "cell_type": "code",
   "execution_count": 27,
   "metadata": {},
   "outputs": [],
   "source": [
    "#boucle sur une chaîne de texte:\n"
   ]
  },
  {
   "cell_type": "markdown",
   "metadata": {},
   "source": [
    "### Boucle `while`\n",
    "\n",
    "La boucle `while` execute une portion de code tant que la condition est vraie (True)."
   ]
  },
  {
   "cell_type": "code",
   "execution_count": 28,
   "metadata": {},
   "outputs": [],
   "source": [
    "#boucle while simple\n"
   ]
  },
  {
   "cell_type": "markdown",
   "metadata": {},
   "source": [
    "#### Contrôle des boucles\n",
    "Les boucles peuvent être contrôlées avec les déclarations `break` pour arrêter la boucle et `continue` pour sauter une itération."
   ]
  },
  {
   "cell_type": "code",
   "execution_count": 29,
   "metadata": {},
   "outputs": [],
   "source": [
    "#arrête la boucle dès le premier multiple de 5\n"
   ]
  },
  {
   "cell_type": "code",
   "execution_count": 30,
   "metadata": {},
   "outputs": [],
   "source": [
    "#saute les multiples de 3\n"
   ]
  },
  {
   "cell_type": "code",
   "execution_count": 31,
   "metadata": {},
   "outputs": [],
   "source": [
    "#boucle dans une boucle\n",
    "\n"
   ]
  },
  {
   "cell_type": "markdown",
   "metadata": {},
   "source": [
    "## Les fonctions\n",
    "\n",
    "Un principe fondamental dans le code est de **ne pas se répéter** (don't repeat yourself). Ecrire deux fois le même code est difficile à maintenir et entraîne des erreurs. Les fonctions sont des portions de codes exécutés lorsqu'ils sont appelés. On écrit une seul fois le code et on peut l'utiliser à volonté.\n",
    "\n",
    "Elles suivent le même schéma que les conditons et les boucles, la déclaration se termine par `:`, le code à éxécuter est **indenté**.\n",
    "\n",
    "Une fonction s'écrit de la façon suivante:\n",
    "```\n",
    "def my_fonction(arg_1, arg_2):\n",
    "    instruction_1\n",
    "    ...\n",
    "    instruction_2\n",
    "    return result # si besoin\n",
    "```\n",
    "Une fonction peut compoter des arguments ou non et des arguments optionnels. Elle peut donner un résulat (déclaration return). Sans la déclaration return, le résultat de la fonction est `None`.\n",
    "\n",
    "On a vu auparavant que Python comprend ses propres fonctions (built-in functions) comme `print`, `append`, `len`. Désormais, on va créer nos propres fonctions."
   ]
  },
  {
   "cell_type": "code",
   "execution_count": 32,
   "metadata": {},
   "outputs": [],
   "source": [
    "# fonction sans argument, sans résulat\n",
    "\n"
   ]
  },
  {
   "cell_type": "code",
   "execution_count": 33,
   "metadata": {},
   "outputs": [],
   "source": [
    "# fonction avec argument, sans résulat\n"
   ]
  },
  {
   "cell_type": "code",
   "execution_count": 34,
   "metadata": {},
   "outputs": [],
   "source": [
    "#fonction avec arguments et résultat\n",
    "\n"
   ]
  },
  {
   "cell_type": "markdown",
   "metadata": {},
   "source": [
    "Les arguments optionnels sont toujours les derniers arguments et ont une valeur par défaut."
   ]
  },
  {
   "cell_type": "code",
   "execution_count": 35,
   "metadata": {},
   "outputs": [],
   "source": [
    "#fonction avec arguments résultat et arguments optionnels\n"
   ]
  },
  {
   "cell_type": "markdown",
   "metadata": {},
   "source": [
    "Ajouter une variable au sein d'une chaîne de texte est ce qu'on appelle le **formatage personnalisé de chaîne**. Depuis la version 3.6 de Python, la façon la plus simple de formater une chaîne de texte avec le `f-strings`.\n",
    "\n",
    "La fonction suivante permet de formater une chaîne de texte."
   ]
  },
  {
   "cell_type": "code",
   "execution_count": 36,
   "metadata": {},
   "outputs": [],
   "source": [
    "# formater une chaîne de texte\n"
   ]
  },
  {
   "cell_type": "markdown",
   "metadata": {},
   "source": [
    "Une règle de bon code à suivre est l'**annotation** de la fonction et de ses arguments. Ils n'affectent pas le comportement de la fonction mais al rend plus lisible et maintenable.\n",
    "\n",
    "Dans l'annotation, on donne le type des arguments, le type du résultat de la fonction et on commente sa fonctionnalité."
   ]
  },
  {
   "cell_type": "code",
   "execution_count": 37,
   "metadata": {},
   "outputs": [
    {
     "ename": "SyntaxError",
     "evalue": "incomplete input (3771882463.py, line 3)",
     "output_type": "error",
     "traceback": [
      "\u001b[1;36m  Cell \u001b[1;32mIn[37], line 3\u001b[1;36m\u001b[0m\n\u001b[1;33m    def list_multiplication(my_list: list, factor: int) -> list:\u001b[0m\n\u001b[1;37m                                                                ^\u001b[0m\n\u001b[1;31mSyntaxError\u001b[0m\u001b[1;31m:\u001b[0m incomplete input\n"
     ]
    }
   ],
   "source": [
    "#fonction annotée\n",
    "\n",
    "def list_multiplication(my_list: list, factor: int) -> list:\n"
   ]
  },
  {
   "cell_type": "code",
   "execution_count": null,
   "metadata": {},
   "outputs": [
    {
     "name": "stdout",
     "output_type": "stream",
     "text": [
      "\u001b[1;31mSignature:\u001b[0m \u001b[0mlist_multiplication\u001b[0m\u001b[1;33m(\u001b[0m\u001b[0mmy_list\u001b[0m\u001b[1;33m:\u001b[0m \u001b[0mlist\u001b[0m\u001b[1;33m,\u001b[0m \u001b[0mfactor\u001b[0m\u001b[1;33m:\u001b[0m \u001b[0mint\u001b[0m\u001b[1;33m)\u001b[0m \u001b[1;33m->\u001b[0m \u001b[0mlist\u001b[0m\u001b[1;33m\u001b[0m\u001b[1;33m\u001b[0m\u001b[0m\n",
      "\u001b[1;31mDocstring:\u001b[0m\n",
      "Multiplie l'ensemble des élement par un facteur\n",
      "\n",
      "Args:\n",
      "    my_list (list): ensemble des éléments à multiplier\n",
      "    factor (int) : facteur de multiplication\n",
      "\n",
      "Returns:\n",
      "    liste multipliée par le facteur\n",
      "\n",
      "Examples:\n",
      "    >>> list_multiplication([1,2,3,4], 2)\n",
      "\u001b[1;31mFile:\u001b[0m      c:\\users\\mael_jourdain\\appdata\\local\\temp\\ipykernel_17516\\1138652053.py\n",
      "\u001b[1;31mType:\u001b[0m      function"
     ]
    }
   ],
   "source": [
    "#on obtient alors toute une documentation sur la fonction\n",
    "list_multiplication?"
   ]
  },
  {
   "cell_type": "code",
   "execution_count": null,
   "metadata": {},
   "outputs": [
    {
     "ename": "",
     "evalue": "",
     "output_type": "error",
     "traceback": [
      "\u001b[1;31mRunning cells with 'c:\\python\\python.exe' requires the ipykernel package.\n",
      "\u001b[1;31mRun the following command to install 'ipykernel' into the Python environment. \n",
      "\u001b[1;31mCommand: 'c:/python/python.exe -m pip install ipykernel -U --user --force-reinstall'"
     ]
    }
   ],
   "source": [
    "#... contrairement à une fonction non annotée\n",
    "myself?"
   ]
  },
  {
   "cell_type": "markdown",
   "metadata": {},
   "source": [
    "### Passer plusieurs arguments avers *args et **kwargs\n",
    "\n",
    "Nous avons vus plus haut qu'il est possible de définir un nombre fini d'arguments dans une fonction.\n",
    "\n",
    "Il est possible de passer un nombre infini d'arguments avec les avec l'opérateur `*`.\n",
    "\n",
    "Le paramètre *args (auguments) permet de donner un nombre infini d'argument à notre fonction. Les arguments sont regroupés dans un `tuple`."
   ]
  },
  {
   "cell_type": "code",
   "execution_count": null,
   "metadata": {},
   "outputs": [],
   "source": [
    "\n",
    "    "
   ]
  },
  {
   "cell_type": "code",
   "execution_count": null,
   "metadata": {},
   "outputs": [
    {
     "name": "stdout",
     "output_type": "stream",
     "text": [
      "('1 argument', 2, '1 autre aurgument', True)\n",
      "<class 'tuple'>\n",
      "1 argument\n",
      "2\n",
      "1 autre aurgument\n",
      "True\n"
     ]
    }
   ],
   "source": []
  },
  {
   "cell_type": "markdown",
   "metadata": {},
   "source": [
    "Le paramètre **kwargs (keyword arguments) permet de donner un nombre infini d'argument avec un mot-clé. Les clés et valeurs des arguments sont regroupés dans un dictionnaire `dict`."
   ]
  },
  {
   "cell_type": "code",
   "execution_count": null,
   "metadata": {},
   "outputs": [],
   "source": [
    "#fonction avec un nombre infini d'arguments\n"
   ]
  },
  {
   "cell_type": "code",
   "execution_count": null,
   "metadata": {},
   "outputs": [
    {
     "name": "stdout",
     "output_type": "stream",
     "text": [
      "{'arg_1': '1 argument', 'b': 2, 'arg_2': '1 autre aurgument', 'my_bool': True}\n",
      "<class 'dict'>\n",
      "clé : arg_1 ; valeur : 1 argument\n",
      "clé : b ; valeur : 2\n",
      "clé : arg_2 ; valeur : 1 autre aurgument\n",
      "clé : my_bool ; valeur : True\n"
     ]
    }
   ],
   "source": []
  },
  {
   "cell_type": "markdown",
   "metadata": {},
   "source": [
    "On peut désormais créer une fonction qui accepte des arguments par défaut et des les paramètres *args et **kwargs.\n",
    "\n",
    "L'ordre est important, en premier sont les arguments puis *args, viens ensuite les arguments optionnels et **kwargs qui arrivent en dernier."
   ]
  },
  {
   "cell_type": "code",
   "execution_count": null,
   "metadata": {},
   "outputs": [],
   "source": [
    "\n",
    "#fonction avec des arguments, *args, des arguments optionnels et **kwargs\n",
    "    "
   ]
  },
  {
   "cell_type": "code",
   "execution_count": null,
   "metadata": {},
   "outputs": [
    {
     "name": "stdout",
     "output_type": "stream",
     "text": [
      "Le premier argument est Hello\n",
      "Le second argument est 8\n",
      "Les autres arguments définis dans *args\n",
      "(-20, 'Pomme')\n",
      "Le premier argument optionnel est 1\n",
      "Le second argument optionnel est True\n",
      "Les autres arguments définis dans **kwargs\n",
      "{'abc': 'def', 'x': 7.0}\n"
     ]
    }
   ],
   "source": [
    "#fonction avec des arguments, *args, des arguments optionnels et **kwargs"
   ]
  },
  {
   "cell_type": "markdown",
   "metadata": {},
   "source": [
    "NB : on n'est pas obligé de passer des arguments pour *args et **kwargs, ils acceptent entre 0 et une infinité d'arguments.\n",
    "\n",
    "NB 2 : Les mots *args et **kwargs (respectivement arguments et keyword arguments) sont des conventions. Les paramètre fonctionnent avec d'autres mots, ce sont les opérateurs `*` et `**` qui réalisent le tour."
   ]
  }
 ],
 "metadata": {
  "kernelspec": {
   "display_name": "Python 3",
   "language": "python",
   "name": "python3"
  },
  "language_info": {
   "codemirror_mode": {
    "name": "ipython",
    "version": 3
   },
   "file_extension": ".py",
   "mimetype": "text/x-python",
   "name": "python",
   "nbconvert_exporter": "python",
   "pygments_lexer": "ipython3",
   "version": "3.10.6"
  }
 },
 "nbformat": 4,
 "nbformat_minor": 2
}
