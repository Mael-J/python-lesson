{
 "cells": [
  {
   "cell_type": "markdown",
   "metadata": {},
   "source": [
    "# Les classes"
   ]
  },
  {
   "cell_type": "markdown",
   "metadata": {},
   "source": [
    "Une classe permet de créer des objets. Elle s'inscrive dans le principe fondamental de **ne pas se répéter** (don't repeat yourself). Une classe comporte des attributs et des méthodes (fonctions) qui pourront être réutilisés à volonté. Elle structure et organise le code selon le paradigme de **programmation orientée objet** object-oriented programming (OOP).\n",
    "\n",
    "Elles suivent le même schéma de construction que les conditons, les boucles et les fonctions.La déclaration de la classe et des méthodes se terminent par `:`, le code à éxécuter est **indenté**.\n",
    "\n",
    "Par convention, une classe commence par une majuscule. \n",
    "\n",
    "On va voir étape par étape comment construire une classe.\n",
    "\n",
    "La documentation officielle est ici : https://docs.python.org/3/tutorial/classes.html\n"
   ]
  },
  {
   "cell_type": "markdown",
   "metadata": {},
   "source": [
    "## Instancier la classe"
   ]
  },
  {
   "cell_type": "code",
   "execution_count": 10,
   "metadata": {},
   "outputs": [],
   "source": [
    "#création de la classe Car et instanciation\n",
    "class Car:\n",
    "    def __init__(self) -> None:\n",
    "        print(\"classe instanciée\")\n",
    "        self.color = \"red\"\n",
    "        "
   ]
  },
  {
   "cell_type": "markdown",
   "metadata": {},
   "source": [
    "Dans l'exemple précédent, nous avons créé la classe `Car`. Elle comporte la méthode `__init__` qui permet de l'instancier, c'est à dire de l'initialiser. Lorsque la classe est appellée, la méthode `__init__` est éxécutée, l'ensemble des méthodes sont exécutées (`print(\"classe instanciée\")`) et on peut accéder aux attributs instanciés (`self.color`)."
   ]
  },
  {
   "cell_type": "code",
   "execution_count": 15,
   "metadata": {},
   "outputs": [
    {
     "name": "stdout",
     "output_type": "stream",
     "text": [
      "classe instanciée\n",
      "red\n"
     ]
    }
   ],
   "source": [
    "#instancier la classe\n",
    "car = Car() \n",
    "#accéder à la propriété color\n",
    "print(car.color)"
   ]
  },
  {
   "cell_type": "markdown",
   "metadata": {},
   "source": [
    "Le comportement de la classe peut être modifié en l'instanciant avec des arguments à placer dans la méthode `__init__`"
   ]
  },
  {
   "cell_type": "code",
   "execution_count": 16,
   "metadata": {},
   "outputs": [],
   "source": [
    "#classe Car avec un argument color\n",
    "class Car:\n",
    "    def __init__(self, color: str) -> None:\n",
    "        print(\"classe instanciée\")\n",
    "        self.color = color"
   ]
  },
  {
   "cell_type": "code",
   "execution_count": 17,
   "metadata": {},
   "outputs": [
    {
     "name": "stdout",
     "output_type": "stream",
     "text": [
      "classe instanciée\n",
      "blue\n"
     ]
    }
   ],
   "source": [
    "#instancier la classe Car avec la couleur blue\n",
    "car = Car(\"blue\") \n",
    "#accéder à l'attribut color\n",
    "print(car.color)"
   ]
  },
  {
   "cell_type": "markdown",
   "metadata": {},
   "source": [
    "\n",
    "## self\n",
    "Qu'est ce que c'est `self` ? \n",
    "\n",
    "Dans la méthode `__init__` de la classe `Car`, on trouve comme \"premier argument\" `self`. On le retrouve aussi comme racine de l'attribut color.\n",
    "\n",
    "`self` représente l'instance de la classe, on accède à chaque attribut et à chaque méthode de la classe à partir de self.\n",
    "\n",
    "Le mot self est une convention, on aurait pu utiliser n'importe quel autre mot."
   ]
  },
  {
   "cell_type": "code",
   "execution_count": 18,
   "metadata": {},
   "outputs": [],
   "source": [
    "#classe Car avec le terme abc pour représenter l'instance\n",
    "class Car:\n",
    "    def __init__(abc, color: str) -> None:\n",
    "        print(\"classe instanciée\")\n",
    "        abc.color = color"
   ]
  },
  {
   "cell_type": "code",
   "execution_count": 20,
   "metadata": {},
   "outputs": [
    {
     "name": "stdout",
     "output_type": "stream",
     "text": [
      "classe instanciée\n",
      "green\n",
      "La classe fonctionne de la mçme manière qu'avec self\n"
     ]
    }
   ],
   "source": [
    "#instancier la classe Car avec la couleur green\n",
    "car = Car(\"green\") \n",
    "#accéder à la l'attribut color\n",
    "print(car.color)\n",
    "print(\"La classe fonctionne de la mçme manière qu'avec self\")"
   ]
  },
  {
   "cell_type": "markdown",
   "metadata": {},
   "source": [
    "Dans l'exemple suivant, accéder à l'attribut `color` renvoie une erreur. La classe `Car` ne détient pas d'attribut `color`. Il n'y a pas self.color dans la méthode `__init__`"
   ]
  },
  {
   "cell_type": "code",
   "execution_count": 21,
   "metadata": {},
   "outputs": [],
   "source": [
    "#classe Car avec un argument color, l'attribut color n'existe pas\n",
    "class Car:\n",
    "    def __init__(self, color: str) -> None:\n",
    "        print(\"classe instanciée\")\n",
    "        color = color"
   ]
  },
  {
   "cell_type": "code",
   "execution_count": 22,
   "metadata": {},
   "outputs": [
    {
     "name": "stdout",
     "output_type": "stream",
     "text": [
      "classe instanciée\n"
     ]
    },
    {
     "ename": "AttributeError",
     "evalue": "'Car' object has no attribute 'color'",
     "output_type": "error",
     "traceback": [
      "\u001b[1;31m---------------------------------------------------------------------------\u001b[0m",
      "\u001b[1;31mAttributeError\u001b[0m                            Traceback (most recent call last)",
      "Cell \u001b[1;32mIn[22], line 4\u001b[0m\n\u001b[0;32m      2\u001b[0m car \u001b[38;5;241m=\u001b[39m Car(\u001b[38;5;124m\"\u001b[39m\u001b[38;5;124morange\u001b[39m\u001b[38;5;124m\"\u001b[39m) \n\u001b[0;32m      3\u001b[0m \u001b[38;5;66;03m#accéder à la propriété color\u001b[39;00m\n\u001b[1;32m----> 4\u001b[0m \u001b[38;5;28mprint\u001b[39m(\u001b[43mcar\u001b[49m\u001b[38;5;241;43m.\u001b[39;49m\u001b[43mcolor\u001b[49m)\n\u001b[0;32m      5\u001b[0m \u001b[38;5;28mprint\u001b[39m(\u001b[38;5;124m\"\u001b[39m\u001b[38;5;124mLa classe fonctionne de la mçme manière qu\u001b[39m\u001b[38;5;124m'\u001b[39m\u001b[38;5;124mavec self\u001b[39m\u001b[38;5;124m\"\u001b[39m)\n",
      "\u001b[1;31mAttributeError\u001b[0m: 'Car' object has no attribute 'color'"
     ]
    }
   ],
   "source": [
    "#instancier la classe Car avec la couleur orange\n",
    "car = Car(\"orange\") \n",
    "#accéder à l'attribut color renvoie une erreur car il n'existe pas\n",
    "print(car.color)\n"
   ]
  },
  {
   "cell_type": "markdown",
   "metadata": {},
   "source": [
    "## Les méthodes\n",
    "\n",
    "Une classe peut contenir des **méthodes**, ce sont fonctions de la classe. Les méthodes vont modifier le comportement de la classe.\n",
    "\n",
    "Dans l'exemple suivant, la méthode `start` modifie l'attribut `started`. On note que la méthode start contient également l'argument `self` pour faire référence à l'instance."
   ]
  },
  {
   "cell_type": "code",
   "execution_count": 32,
   "metadata": {},
   "outputs": [],
   "source": [
    "#classe Car avec la méthode start\n",
    "class Car:\n",
    "    def __init__(self, color: str) -> None:\n",
    "        print(\"classe instanciée\")\n",
    "        self.color = color\n",
    "        self.started = False\n",
    "\n",
    "    def start(self) -> None:\n",
    "        \"\"\"start the Car\"\"\"\n",
    "        self.started = True\n",
    "        print(\"La voiture est démarrée\")"
   ]
  },
  {
   "cell_type": "code",
   "execution_count": 33,
   "metadata": {},
   "outputs": [
    {
     "name": "stdout",
     "output_type": "stream",
     "text": [
      "classe instanciée\n",
      "orange\n",
      "False\n",
      "La voiture est démarrée\n",
      "True\n"
     ]
    }
   ],
   "source": [
    "#instancier la classe Car avec la couleur orange\n",
    "car = Car(\"orange\") \n",
    "#accéder à l'attribut color renvoie une erreur car il n'existe pas\n",
    "print(car.color)\n",
    "#la voiture n'est pas démarrée\n",
    "print(car.started)\n",
    "#on démarre la voiture\n",
    "car.start()\n",
    "#la voiture est démarrée\n",
    "print(car.started)\n",
    "\n"
   ]
  },
  {
   "cell_type": "markdown",
   "metadata": {},
   "source": [
    "On va voir d'autres méthodes qui permettent à la voiture d'accélérer et de s'arrêter."
   ]
  },
  {
   "cell_type": "code",
   "execution_count": 47,
   "metadata": {},
   "outputs": [],
   "source": [
    "#classe Car avec la méthode accelerate, stop\n",
    "class Car:\n",
    "    def __init__(self, color: str) -> None:\n",
    "        print(\"classe instanciée\")\n",
    "        self.color = color\n",
    "        self.started = False\n",
    "        self.speed = 0\n",
    "\n",
    "    def start(self) -> None:\n",
    "        \"\"\"Démarre la voiture\"\"\"\n",
    "        self.started = True\n",
    "        print(\"La voiture est démarrée\")\n",
    "\n",
    "    def accelerate(self, speed: int) -> int:\n",
    "        \"\"\"permet d'accélérer\"\"\"\n",
    "        #accélère si la voiture est démarrée\n",
    "        if self.started:\n",
    "            self.speed += speed\n",
    "        return self.speed\n",
    "\n",
    "    def stop(self) -> None:\n",
    "        \"\"\"Arrête la voiture\"\"\"\n",
    "        self.started = False\n",
    "        self.speed = 0\n",
    "        print(\"La voiture est arrêtée\")\n"
   ]
  },
  {
   "cell_type": "code",
   "execution_count": 50,
   "metadata": {},
   "outputs": [
    {
     "name": "stdout",
     "output_type": "stream",
     "text": [
      "classe instanciée\n",
      "La voiture est démarrée\n",
      "True\n",
      "La voiture roule à 10 km/h\n",
      "La voiture roule à 30 km/h\n",
      "La voiture est arrêtée\n",
      "La voiture roule à 0 km/h\n"
     ]
    }
   ],
   "source": [
    "#instancier la classe Car avec la couleur grey\n",
    "car = Car(\"grey\") \n",
    "#on démarre la voiture\n",
    "car.start()\n",
    "#la voiture est démarrée\n",
    "print(car.started)\n",
    "#accélère une fois\n",
    "speed = car.accelerate(10)\n",
    "print(f\"La voiture roule à {speed} km/h\")\n",
    "#accélère une seconde fois\n",
    "speed = car.accelerate(20)\n",
    "print(f\"La voiture roule à {speed} km/h\")\n",
    "#arrêter la voiture\n",
    "car.stop()\n",
    "#on accèlere quand la voiture est arrêtée\n",
    "speed = car.accelerate(5)\n",
    "#la voiture n'accélère pas car elle est éteinte (condition if)\n",
    "print(f\"La voiture roule à {speed} km/h\")"
   ]
  },
  {
   "cell_type": "markdown",
   "metadata": {},
   "source": [
    "Grâce à la classe `Car`, on peut créér une infinité de voitures, les démarrer, les faire accélérer et les arrêter en quelques lignes."
   ]
  },
  {
   "cell_type": "code",
   "execution_count": 54,
   "metadata": {},
   "outputs": [
    {
     "name": "stdout",
     "output_type": "stream",
     "text": [
      "classe instanciée\n",
      "classe instanciée\n",
      "classe instanciée\n",
      "La voiture est démarrée\n",
      "La voiture est démarrée\n",
      "La voiture est démarrée\n",
      "... La course est lancée ...\n"
     ]
    }
   ],
   "source": [
    "#1ère voiture\n",
    "blue_car = Car(\"blue\")\n",
    "#2ème voiture\n",
    "red_car = Car(\"red\")\n",
    "#3ème voiture\n",
    "green_car = Car(\"green\")\n",
    "##1ère voiture démarrée\n",
    "blue_car.start()\n",
    "#2ème voiture démarrée\n",
    "red_car.start()\n",
    "#3ème voiture démarrée\n",
    "green_car.start()\n",
    "print(\"... La course est lancée ...\")\n",
    "\n",
    "\n"
   ]
  },
  {
   "cell_type": "markdown",
   "metadata": {},
   "source": [
    "## L'héritage de classe\n",
    "\n",
    "Une notion importante dans la programmation orientée objet est **l'héritage de classe**. Une classe fille peut hériter d'une classe parente (ou classe mère) et hériter de tous ses attributs et méthodes. Ainsi, on ne répète pas le code.\n",
    "\n",
    "Nous allons illustrer cette notion avec un exemple.\n",
    "\n",
    "Nous avons créé au préalable, la classe voiture. nous allons créé maintenant la classe Motorbike de toutes pièces."
   ]
  },
  {
   "cell_type": "code",
   "execution_count": 64,
   "metadata": {},
   "outputs": [],
   "source": [
    "#classe Motorbike \n",
    "class Motorbike:\n",
    "    def __init__(self, color: str) -> None:\n",
    "        print(\"classe instanciée\")\n",
    "        self.color = color\n",
    "        self.started = False\n",
    "        self.wheel = 2\n",
    "        self.speed = 0\n",
    "\n",
    "    def start(self) -> None:\n",
    "        \"\"\"Démarre la moto\"\"\"\n",
    "        self.started = True\n",
    "        print(\"La moto est démarrée\")\n",
    "\n",
    "    def accelerate(self, speed: int) -> int:\n",
    "        \"\"\"permet d'accélérer\"\"\"\n",
    "        #accélère si la moto est démarrée\n",
    "        if self.started:\n",
    "            self.speed += speed\n",
    "        return self.speed\n",
    "    \n",
    "    def wheelie(self, direction=\"avant\")-> None:\n",
    "        \"\"\"permet de faire une roue\"\"\"\n",
    "        if self.speed==0:\n",
    "            print(\"La moto n'a pas de vitesse\")\n",
    "        else:\n",
    "            print(f\"Je fais une roue {direction}\")\n",
    "            \n",
    "    def stop(self) -> None:\n",
    "        \"\"\"Arrête la moto\"\"\"\n",
    "        self.started = False\n",
    "        self.speed = 0\n",
    "        print(\"La voiture est arrêtée\")"
   ]
  },
  {
   "cell_type": "code",
   "execution_count": 71,
   "metadata": {},
   "outputs": [
    {
     "name": "stdout",
     "output_type": "stream",
     "text": [
      "classe instanciée\n",
      "Ma moto a 2 roues\n",
      "La moto est démarrée\n",
      "Je fais une roue arrière\n",
      "La voiture est arrêtée\n"
     ]
    }
   ],
   "source": [
    "#instancie une moto\n",
    "moto = Motorbike(\"green\")\n",
    "#nombres de roues\n",
    "print(f\"Ma moto a {moto.wheel} roues\")\n",
    "#démarrer la moto\n",
    "moto.start()\n",
    "#accélère\n",
    "moto.accelerate(15)\n",
    "#faire une roue arrière\n",
    "moto.wheelie(\"arrière\")\n",
    "#arrêter la moto\n",
    "moto.stop()"
   ]
  },
  {
   "cell_type": "markdown",
   "metadata": {},
   "source": [
    "La classe Motorbike comporte certains attributs et certaines méthodes qui lui sont propres (nombre de roues, méthode wheelie). Elle partage aussi des attributs et des méthodes qui sont communes à la classe Car. on réécrit donc le même code, c'est fastidieux et difficile à maintenir. C'est à ce moment là qu'intervient l'**héritage de classe**.\n",
    "\n",
    "Nous allons créer une classe parente Vehicle qui détient les attributs et les méthodes communs à tous les véhicules, à savoir, une couleur, démarrer accéler et s'arrêter."
   ]
  },
  {
   "cell_type": "code",
   "execution_count": 72,
   "metadata": {},
   "outputs": [],
   "source": [
    "#classe Vehicle avec les attributs et méthodes communs\n",
    "class Vehicle:\n",
    "    def __init__(self, color: str) -> None:\n",
    "        print(\"classe instanciée\")\n",
    "        self.color = color\n",
    "        self.started = False\n",
    "        self.speed = 0\n",
    "\n",
    "    def start(self) -> None:\n",
    "        \"\"\"Démarre le véhicule\"\"\"\n",
    "        self.started = True\n",
    "        print(\"Le véhicule est démarré\")\n",
    "\n",
    "    def accelerate(self, speed: int) -> int:\n",
    "        \"\"\"permet d'accélérer\"\"\"\n",
    "        #accélère si la véhicule est démarré\n",
    "        if self.started:\n",
    "            self.speed += speed\n",
    "        return self.speed\n",
    "\n",
    "    def stop(self) -> None:\n",
    "        \"\"\"Arrête le véhicule\"\"\"\n",
    "        self.started = False\n",
    "        self.speed = 0\n",
    "        print(\"Le véhicule est arrêtée\")"
   ]
  },
  {
   "cell_type": "markdown",
   "metadata": {},
   "source": [
    "Grâce à la classe parente Vehicule, on peut créér de nouvelles classes filles Car et Motorbike plus épurées."
   ]
  },
  {
   "cell_type": "code",
   "execution_count": 73,
   "metadata": {},
   "outputs": [],
   "source": [
    "#classe fille Car héritère de la classe mère Vehicle\n",
    "class Car(Vehicle):\n",
    "    def __init__(self, color: str) -> None:\n",
    "        #instancie la class mère Vehicle\n",
    "        super().__init__(color)\n",
    "        self.wheel = 4"
   ]
  },
  {
   "cell_type": "code",
   "execution_count": 87,
   "metadata": {},
   "outputs": [
    {
     "name": "stdout",
     "output_type": "stream",
     "text": [
      "classe instanciée\n",
      "la couleur de la voiture est purple.\n",
      "La voiture a 4 roues.\n",
      "Le véhicule est démarré\n",
      "je roule à 10 km/h.\n",
      "je roule à 60 km/h.\n",
      "Le véhicule est arrêtée\n"
     ]
    }
   ],
   "source": [
    "#la classe fille Car a hérité de tous les attributs et méthodes de la classe mère Véhicule\n",
    "#instancie la classe\n",
    "car = Car(\"purple\")\n",
    "#couleur\n",
    "print(f\"la couleur de la voiture est {car.color}.\")\n",
    "#attribut spécifique\n",
    "print(f\"La voiture a {car.wheel} roues.\")\n",
    "#démarrer\n",
    "car.start()\n",
    "#accélérer\n",
    "speed = car.accelerate(10)\n",
    "print(f\"je roule à {speed} km/h.\")\n",
    "#accélérer encore\n",
    "speed =car.accelerate(50)\n",
    "print(f\"je roule à {speed} km/h.\")\n",
    "#arrêter la voiture\n",
    "car.stop()\n"
   ]
  },
  {
   "cell_type": "code",
   "execution_count": 85,
   "metadata": {},
   "outputs": [],
   "source": [
    "# classe fille Motorbike héritère de la classe mère Vehicle\n",
    "class Motorbike(Vehicle):\n",
    "    def __init__(self, color: str) -> None:\n",
    "        #instancie la class mère Vehicle\n",
    "        super().__init__(color)\n",
    "        self.wheel = 2\n",
    "    def wheelie(self, direction=\"avant\")-> None:\n",
    "        \"\"\"permet de faire une roue\"\"\"\n",
    "        if self.speed==0:\n",
    "            print(\"La moto n'a pas de vitesse\")\n",
    "        else:\n",
    "            print(f\"Je fais une roue {direction}\")\n",
    "            "
   ]
  },
  {
   "cell_type": "code",
   "execution_count": 90,
   "metadata": {},
   "outputs": [
    {
     "name": "stdout",
     "output_type": "stream",
     "text": [
      "classe instanciée\n",
      "Ma moto a 2 roues\n",
      "Le véhicule est démarré\n",
      "Je fais une roue avant\n",
      "Le véhicule est arrêtée\n"
     ]
    }
   ],
   "source": [
    "#la classe fille Motorbike a hérité de tous les attributs et méthodes de la classe mère Véhicule\n",
    "#instancie une moto\n",
    "moto = Motorbike(\"yellow\")\n",
    "#attribut spécifique : nombres de roues\n",
    "print(f\"Ma moto a {moto.wheel} roues\")\n",
    "#démarrer la moto\n",
    "moto.start()\n",
    "#accélère\n",
    "moto.accelerate(15)\n",
    "#méthode spécifique : faire une roue arrière\n",
    "moto.wheelie(\"avant\")\n",
    "#arrêter la moto\n",
    "moto.stop()"
   ]
  }
 ],
 "metadata": {
  "kernelspec": {
   "display_name": "Python 3",
   "language": "python",
   "name": "python3"
  },
  "language_info": {
   "codemirror_mode": {
    "name": "ipython",
    "version": 3
   },
   "file_extension": ".py",
   "mimetype": "text/x-python",
   "name": "python",
   "nbconvert_exporter": "python",
   "pygments_lexer": "ipython3",
   "version": "3.10.6"
  }
 },
 "nbformat": 4,
 "nbformat_minor": 2
}
