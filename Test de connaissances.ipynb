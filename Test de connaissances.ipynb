{
 "cells": [
  {
   "cell_type": "markdown",
   "id": "95760a31",
   "metadata": {},
   "source": [
    "Bonjour,\n",
    "\n",
    "A l'aide de Python, tu devras réaliser les exercices décrits ci-dessous.\n",
    "\n",
    "Bonne chance !!"
   ]
  },
  {
   "cell_type": "markdown",
   "id": "167214ae",
   "metadata": {},
   "source": [
    "# I - Portfolio analysis"
   ]
  },
  {
   "cell_type": "markdown",
   "id": "8182fcb6",
   "metadata": {},
   "source": [
    "## Download and import library mstarpy\n",
    "https://pypi.org/project/mstarpy/"
   ]
  },
  {
   "cell_type": "markdown",
   "id": "78e955ef",
   "metadata": {},
   "source": [
    "We downloaded for you the last portfolio of MYRIA ACTIONS DURABLES EUROPE (FR0013028339) with the library mstarpy Your next goal is to analyse this portfolio <i>df</i> in DataFrame format with pandas."
   ]
  },
  {
   "cell_type": "code",
   "execution_count": 20,
   "id": "1678a7d5",
   "metadata": {},
   "outputs": [],
   "source": [
    "#import mstarpy\n",
    "import mstarpy"
   ]
  },
  {
   "cell_type": "code",
   "execution_count": 21,
   "id": "63987f35",
   "metadata": {},
   "outputs": [],
   "source": [
    "#funds Myria Actions Durables Europe\n",
    "funds = mstarpy.Funds(\"FR0013028339\", country=\"fr\")"
   ]
  },
  {
   "cell_type": "code",
   "execution_count": 22,
   "id": "53090c1d",
   "metadata": {},
   "outputs": [],
   "source": [
    "#holdings of the fund\n",
    "df = funds.holdings()"
   ]
  },
  {
   "cell_type": "markdown",
   "id": "5c27f7ba",
   "metadata": {},
   "source": [
    "## 5 first rows ordered by descending Weights (column : \"weighting\")"
   ]
  },
  {
   "cell_type": "code",
   "execution_count": 23,
   "id": "176c316c",
   "metadata": {},
   "outputs": [
    {
     "data": {
      "text/html": [
       "<div>\n",
       "<style scoped>\n",
       "    .dataframe tbody tr th:only-of-type {\n",
       "        vertical-align: middle;\n",
       "    }\n",
       "\n",
       "    .dataframe tbody tr th {\n",
       "        vertical-align: top;\n",
       "    }\n",
       "\n",
       "    .dataframe thead th {\n",
       "        text-align: right;\n",
       "    }\n",
       "</style>\n",
       "<table border=\"1\" class=\"dataframe\">\n",
       "  <thead>\n",
       "    <tr style=\"text-align: right;\">\n",
       "      <th></th>\n",
       "      <th>securityName</th>\n",
       "      <th>secId</th>\n",
       "      <th>performanceId</th>\n",
       "      <th>holdingTypeId</th>\n",
       "      <th>weighting</th>\n",
       "      <th>numberOfShare</th>\n",
       "      <th>marketValue</th>\n",
       "      <th>shareChange</th>\n",
       "      <th>country</th>\n",
       "      <th>ticker</th>\n",
       "      <th>...</th>\n",
       "      <th>susEsgRiskGlobes</th>\n",
       "      <th>esgAsOfDate</th>\n",
       "      <th>susEsgRiskCategory</th>\n",
       "      <th>qualRating</th>\n",
       "      <th>quantRating</th>\n",
       "      <th>bestRatingType</th>\n",
       "      <th>securityType</th>\n",
       "      <th>domicileCountryId</th>\n",
       "      <th>currencyName</th>\n",
       "      <th>originalMarketValue</th>\n",
       "    </tr>\n",
       "  </thead>\n",
       "  <tbody>\n",
       "    <tr>\n",
       "      <th>0</th>\n",
       "      <td>Novo Nordisk A/S Class B</td>\n",
       "      <td>0P0000A5BQ</td>\n",
       "      <td>None</td>\n",
       "      <td>E</td>\n",
       "      <td>6.84525</td>\n",
       "      <td>30732.0</td>\n",
       "      <td>3630967.0</td>\n",
       "      <td>0.0</td>\n",
       "      <td>Denmark</td>\n",
       "      <td>NOVO B</td>\n",
       "      <td>...</td>\n",
       "      <td>3.0</td>\n",
       "      <td>2024-04-03T05:00:00.000</td>\n",
       "      <td>Medium</td>\n",
       "      <td>None</td>\n",
       "      <td>None</td>\n",
       "      <td>None</td>\n",
       "      <td>ST</td>\n",
       "      <td>DNK</td>\n",
       "      <td>Danish Krone</td>\n",
       "      <td>3630967.0</td>\n",
       "    </tr>\n",
       "    <tr>\n",
       "      <th>62</th>\n",
       "      <td>UFF Dynasties Familiales M</td>\n",
       "      <td>F00001GGPG</td>\n",
       "      <td>None</td>\n",
       "      <td>FO</td>\n",
       "      <td>5.11522</td>\n",
       "      <td>2400.0</td>\n",
       "      <td>2713296.0</td>\n",
       "      <td>0.0</td>\n",
       "      <td>France</td>\n",
       "      <td>None</td>\n",
       "      <td>...</td>\n",
       "      <td>NaN</td>\n",
       "      <td>None</td>\n",
       "      <td>None</td>\n",
       "      <td>None</td>\n",
       "      <td>None</td>\n",
       "      <td>None</td>\n",
       "      <td>FO</td>\n",
       "      <td>FRA</td>\n",
       "      <td>Euro</td>\n",
       "      <td>2713296.0</td>\n",
       "    </tr>\n",
       "    <tr>\n",
       "      <th>1</th>\n",
       "      <td>ASML Holding NV</td>\n",
       "      <td>0P0000ALDL</td>\n",
       "      <td>None</td>\n",
       "      <td>E</td>\n",
       "      <td>4.99550</td>\n",
       "      <td>2960.0</td>\n",
       "      <td>2649792.0</td>\n",
       "      <td>0.0</td>\n",
       "      <td>Netherlands</td>\n",
       "      <td>ASML</td>\n",
       "      <td>...</td>\n",
       "      <td>4.0</td>\n",
       "      <td>2024-04-03T05:00:00.000</td>\n",
       "      <td>Low</td>\n",
       "      <td>None</td>\n",
       "      <td>None</td>\n",
       "      <td>None</td>\n",
       "      <td>ST</td>\n",
       "      <td>NLD</td>\n",
       "      <td>Euro</td>\n",
       "      <td>2649792.0</td>\n",
       "    </tr>\n",
       "    <tr>\n",
       "      <th>2</th>\n",
       "      <td>Nestle SA</td>\n",
       "      <td>0P0000A5EE</td>\n",
       "      <td>None</td>\n",
       "      <td>E</td>\n",
       "      <td>4.06346</td>\n",
       "      <td>21995.0</td>\n",
       "      <td>2155404.0</td>\n",
       "      <td>0.0</td>\n",
       "      <td>Switzerland</td>\n",
       "      <td>NESN</td>\n",
       "      <td>...</td>\n",
       "      <td>3.0</td>\n",
       "      <td>2024-04-03T05:00:00.000</td>\n",
       "      <td>Medium</td>\n",
       "      <td>None</td>\n",
       "      <td>None</td>\n",
       "      <td>None</td>\n",
       "      <td>ST</td>\n",
       "      <td>CHE</td>\n",
       "      <td>Swiss Franc</td>\n",
       "      <td>2155404.0</td>\n",
       "    </tr>\n",
       "    <tr>\n",
       "      <th>3</th>\n",
       "      <td>Lvmh Moet Hennessy Louis Vuitton SE</td>\n",
       "      <td>0P00009WL3</td>\n",
       "      <td>None</td>\n",
       "      <td>E</td>\n",
       "      <td>3.61745</td>\n",
       "      <td>2311.0</td>\n",
       "      <td>1918823.0</td>\n",
       "      <td>0.0</td>\n",
       "      <td>France</td>\n",
       "      <td>MC</td>\n",
       "      <td>...</td>\n",
       "      <td>4.0</td>\n",
       "      <td>2024-04-03T05:00:00.000</td>\n",
       "      <td>Low</td>\n",
       "      <td>None</td>\n",
       "      <td>None</td>\n",
       "      <td>None</td>\n",
       "      <td>ST</td>\n",
       "      <td>FRA</td>\n",
       "      <td>Euro</td>\n",
       "      <td>1918823.0</td>\n",
       "    </tr>\n",
       "  </tbody>\n",
       "</table>\n",
       "<p>5 rows × 54 columns</p>\n",
       "</div>"
      ],
      "text/plain": [
       "                           securityName       secId performanceId  \\\n",
       "0              Novo Nordisk A/S Class B  0P0000A5BQ          None   \n",
       "62           UFF Dynasties Familiales M  F00001GGPG          None   \n",
       "1                       ASML Holding NV  0P0000ALDL          None   \n",
       "2                             Nestle SA  0P0000A5EE          None   \n",
       "3   Lvmh Moet Hennessy Louis Vuitton SE  0P00009WL3          None   \n",
       "\n",
       "   holdingTypeId  weighting  numberOfShare  marketValue  shareChange  \\\n",
       "0              E    6.84525        30732.0    3630967.0          0.0   \n",
       "62            FO    5.11522         2400.0    2713296.0          0.0   \n",
       "1              E    4.99550         2960.0    2649792.0          0.0   \n",
       "2              E    4.06346        21995.0    2155404.0          0.0   \n",
       "3              E    3.61745         2311.0    1918823.0          0.0   \n",
       "\n",
       "        country  ticker  ...  susEsgRiskGlobes              esgAsOfDate  \\\n",
       "0       Denmark  NOVO B  ...               3.0  2024-04-03T05:00:00.000   \n",
       "62       France    None  ...               NaN                     None   \n",
       "1   Netherlands    ASML  ...               4.0  2024-04-03T05:00:00.000   \n",
       "2   Switzerland    NESN  ...               3.0  2024-04-03T05:00:00.000   \n",
       "3        France      MC  ...               4.0  2024-04-03T05:00:00.000   \n",
       "\n",
       "   susEsgRiskCategory qualRating quantRating bestRatingType securityType  \\\n",
       "0              Medium       None        None           None           ST   \n",
       "62               None       None        None           None           FO   \n",
       "1                 Low       None        None           None           ST   \n",
       "2              Medium       None        None           None           ST   \n",
       "3                 Low       None        None           None           ST   \n",
       "\n",
       "   domicileCountryId  currencyName originalMarketValue  \n",
       "0                DNK  Danish Krone           3630967.0  \n",
       "62               FRA          Euro           2713296.0  \n",
       "1                NLD          Euro           2649792.0  \n",
       "2                CHE   Swiss Franc           2155404.0  \n",
       "3                FRA          Euro           1918823.0  \n",
       "\n",
       "[5 rows x 54 columns]"
      ]
     },
     "execution_count": 23,
     "metadata": {},
     "output_type": "execute_result"
    }
   ],
   "source": []
  },
  {
   "cell_type": "markdown",
   "id": "e6e43c9b",
   "metadata": {},
   "source": [
    "## Sum of market value (column \"marketValue\")"
   ]
  },
  {
   "cell_type": "code",
   "execution_count": 24,
   "id": "8b6c0a23",
   "metadata": {},
   "outputs": [
    {
     "data": {
      "text/plain": [
       "53043577.0"
      ]
     },
     "execution_count": 24,
     "metadata": {},
     "output_type": "execute_result"
    }
   ],
   "source": []
  },
  {
   "cell_type": "markdown",
   "id": "4227fba1",
   "metadata": {},
   "source": [
    "## Grouping : sum of weights by sectors  (column = sector, weighting)"
   ]
  },
  {
   "cell_type": "code",
   "execution_count": 25,
   "id": "d1fb684a",
   "metadata": {},
   "outputs": [
    {
     "data": {
      "text/html": [
       "<div>\n",
       "<style scoped>\n",
       "    .dataframe tbody tr th:only-of-type {\n",
       "        vertical-align: middle;\n",
       "    }\n",
       "\n",
       "    .dataframe tbody tr th {\n",
       "        vertical-align: top;\n",
       "    }\n",
       "\n",
       "    .dataframe thead th {\n",
       "        text-align: right;\n",
       "    }\n",
       "</style>\n",
       "<table border=\"1\" class=\"dataframe\">\n",
       "  <thead>\n",
       "    <tr style=\"text-align: right;\">\n",
       "      <th></th>\n",
       "      <th>sector</th>\n",
       "      <th>weighting</th>\n",
       "    </tr>\n",
       "  </thead>\n",
       "  <tbody>\n",
       "    <tr>\n",
       "      <th>0</th>\n",
       "      <td>Basic Materials</td>\n",
       "      <td>4.45449</td>\n",
       "    </tr>\n",
       "    <tr>\n",
       "      <th>1</th>\n",
       "      <td>Communication Services</td>\n",
       "      <td>3.24116</td>\n",
       "    </tr>\n",
       "    <tr>\n",
       "      <th>2</th>\n",
       "      <td>Consumer Cyclical</td>\n",
       "      <td>10.87853</td>\n",
       "    </tr>\n",
       "    <tr>\n",
       "      <th>3</th>\n",
       "      <td>Consumer Defensive</td>\n",
       "      <td>9.21720</td>\n",
       "    </tr>\n",
       "    <tr>\n",
       "      <th>4</th>\n",
       "      <td>Energy</td>\n",
       "      <td>3.81589</td>\n",
       "    </tr>\n",
       "    <tr>\n",
       "      <th>5</th>\n",
       "      <td>Financial Services</td>\n",
       "      <td>16.78043</td>\n",
       "    </tr>\n",
       "    <tr>\n",
       "      <th>6</th>\n",
       "      <td>Healthcare</td>\n",
       "      <td>15.92410</td>\n",
       "    </tr>\n",
       "    <tr>\n",
       "      <th>7</th>\n",
       "      <td>Industrials</td>\n",
       "      <td>13.86219</td>\n",
       "    </tr>\n",
       "    <tr>\n",
       "      <th>8</th>\n",
       "      <td>Technology</td>\n",
       "      <td>9.58978</td>\n",
       "    </tr>\n",
       "    <tr>\n",
       "      <th>9</th>\n",
       "      <td>Utilities</td>\n",
       "      <td>3.66250</td>\n",
       "    </tr>\n",
       "  </tbody>\n",
       "</table>\n",
       "</div>"
      ],
      "text/plain": [
       "                   sector  weighting\n",
       "0         Basic Materials    4.45449\n",
       "1  Communication Services    3.24116\n",
       "2       Consumer Cyclical   10.87853\n",
       "3      Consumer Defensive    9.21720\n",
       "4                  Energy    3.81589\n",
       "5      Financial Services   16.78043\n",
       "6              Healthcare   15.92410\n",
       "7             Industrials   13.86219\n",
       "8              Technology    9.58978\n",
       "9               Utilities    3.66250"
      ]
     },
     "execution_count": 25,
     "metadata": {},
     "output_type": "execute_result"
    }
   ],
   "source": []
  },
  {
   "cell_type": "markdown",
   "id": "5fdc06a7",
   "metadata": {},
   "source": [
    "## import matplotlib"
   ]
  },
  {
   "cell_type": "code",
   "execution_count": 26,
   "id": "f444e3f7",
   "metadata": {},
   "outputs": [],
   "source": []
  },
  {
   "cell_type": "markdown",
   "id": "29ba048f",
   "metadata": {},
   "source": [
    "## Bar chart with the grouped DataFrame done above : sum of weights by sectors"
   ]
  },
  {
   "cell_type": "code",
   "execution_count": 27,
   "id": "14470b52",
   "metadata": {},
   "outputs": [
    {
     "data": {
      "text/plain": [
       "<BarContainer object of 10 artists>"
      ]
     },
     "execution_count": 27,
     "metadata": {},
     "output_type": "execute_result"
    },
    {
     "data": {
      "image/png": "[encoded data removed]",
      "text/plain": [
       "<Figure size 640x480 with 1 Axes>"
      ]
     },
     "metadata": {},
     "output_type": "display_data"
    }
   ],
   "source": []
  },
  {
   "cell_type": "markdown",
   "id": "a242ca5d",
   "metadata": {},
   "source": [
    "# II - OOP"
   ]
  },
  {
   "cell_type": "markdown",
   "id": "bd8a5053",
   "metadata": {},
   "source": [
    "Create a class named CAPM which takes the parameters rm (expected return of the market, a float), rf (risk free rate, a float) and an optional parameter beta with default value = 1.\n",
    "\n",
    "The class CAPM has a method named expected_return with no arguments which returns the expected return of the asset with the CAPM model."
   ]
  },
  {
   "cell_type": "code",
   "execution_count": 28,
   "id": "3f5289a0",
   "metadata": {},
   "outputs": [],
   "source": [
    "\n",
    "        "
   ]
  },
  {
   "cell_type": "markdown",
   "id": "eb1c5471",
   "metadata": {},
   "source": [
    "Create a class named MultiFactor which inherits from the class CAPM.\n",
    "\n",
    "hint : the arguments of the class MultiFactor are the same as the class CAPM.\n",
    "\n",
    "The class MultiFactor has a method named multi_regression which take the parameters betas (betas of the factors, list of float), factors (values of the factors, list of float) and a optional parameter alpha with default value = 0.\n",
    "\n",
    "hint: the length of list betas and list factors has to be equal.\n",
    "\n",
    "The method multi_regression returns the expect return of the asset calculated by adding expected_return of the class CAPM +  betas * factors + alpha."
   ]
  },
  {
   "cell_type": "code",
   "execution_count": 29,
   "id": "7f748f5d",
   "metadata": {},
   "outputs": [],
   "source": [
    "cl = CAPM(0.1, 0.02, beta = 0.95)"
   ]
  },
  {
   "cell_type": "code",
   "execution_count": 30,
   "id": "0b339343",
   "metadata": {},
   "outputs": [
    {
     "data": {
      "text/plain": [
       "0.096"
      ]
     },
     "execution_count": 30,
     "metadata": {},
     "output_type": "execute_result"
    }
   ],
   "source": [
    "cl.expected_return()"
   ]
  },
  {
   "cell_type": "code",
   "execution_count": 31,
   "id": "83522dfd",
   "metadata": {},
   "outputs": [],
   "source": []
  },
  {
   "cell_type": "code",
   "execution_count": 32,
   "id": "a4764f91",
   "metadata": {},
   "outputs": [],
   "source": [
    "cl = MultiFactor(0.1, 0.02, beta = 0.95)"
   ]
  },
  {
   "cell_type": "code",
   "execution_count": 33,
   "id": "cecfb763",
   "metadata": {},
   "outputs": [
    {
     "data": {
      "text/plain": [
       "0.09000000000000002"
      ]
     },
     "execution_count": 33,
     "metadata": {},
     "output_type": "execute_result"
    }
   ],
   "source": [
    "cl.multi_regression(betas= [1, 0.8, 0.6], factors= [0.05, 0.08, -0.2])"
   ]
  }
 ],
 "metadata": {
  "kernelspec": {
   "display_name": "Python 3 (ipykernel)",
   "language": "python",
   "name": "python3"
  },
  "language_info": {
   "codemirror_mode": {
    "name": "ipython",
    "version": 3
   },
   "file_extension": ".py",
   "mimetype": "text/x-python",
   "name": "python",
   "nbconvert_exporter": "python",
   "pygments_lexer": "ipython3",
   "version": "3.10.6"
  }
 },
 "nbformat": 4,
 "nbformat_minor": 5
}
