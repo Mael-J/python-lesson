{
 "cells": [
  {
   "cell_type": "markdown",
   "metadata": {},
   "source": [
    "# Opérations, conditions, boucles et fonctions"
   ]
  },
  {
   "cell_type": "markdown",
   "metadata": {},
   "source": [
    "Dans ce cours, nous allons voir les différentes **opérations**, les **conditions**, les **boucles** et les **fonctions**. La syntaxe est spécifique à Python mais la logique est commune pour la plupart des langages de programmation,c'est la base de l'**algorithmie**.\n",
    "\n",
    "La documentation officielle est ici : https://docs.python.org/3/tutorial/controlflow.html"
   ]
  },
  {
   "cell_type": "markdown",
   "metadata": {},
   "source": [
    "## Les opérations mathématiques\n",
    "\n",
    "Le tableau suivant résume les différentes opérations mathématiques :\n",
    "\n",
    "<center>\n",
    "\n",
    "| Symbole | opération            | exemple         |\n",
    "|--------|-----------------------|-----------------|\n",
    "| +      | Addition              | 6 + 4 = 10      |\n",
    "| -      | Soustraction          | 6 - 4 = 2       |\n",
    "| *      | Multiplication        | 6 * 4 = 24      |\n",
    "| /      | Division réelle       | 6 / 4 = 1.5     |\n",
    "| **     | Exposant              | 12 ** 2 = 144   |\n",
    "| //     | Division entière      | 6 // 4 = 1      |\n",
    "| %      | Reste d'une division  | 6 % 4 = 2       |\n",
    "\n",
    "</center>"
   ]
  },
  {
   "cell_type": "markdown",
   "metadata": {},
   "source": [
    "### addition"
   ]
  },
  {
   "cell_type": "code",
   "execution_count": 1,
   "metadata": {},
   "outputs": [
    {
     "name": "stdout",
     "output_type": "stream",
     "text": [
      "225\n"
     ]
    }
   ],
   "source": [
    "#additioner plusieurs nombres\n",
    "print(9+156+60)"
   ]
  },
  {
   "cell_type": "markdown",
   "metadata": {},
   "source": [
    "Si on additionne des chaînes de texte, on les concatene."
   ]
  },
  {
   "cell_type": "code",
   "execution_count": 2,
   "metadata": {},
   "outputs": [
    {
     "name": "stdout",
     "output_type": "stream",
     "text": [
      "une  phrase concaténée.\n"
     ]
    }
   ],
   "source": [
    "#concaténer plusieurs chaînes de texte pour faire une phrase\n",
    "print(\"une \" + \" phrase\" + \" concaténée\" + \".\")"
   ]
  },
  {
   "cell_type": "markdown",
   "metadata": {},
   "source": [
    "### soustraction"
   ]
  },
  {
   "cell_type": "code",
   "execution_count": 3,
   "metadata": {},
   "outputs": [
    {
     "name": "stdout",
     "output_type": "stream",
     "text": [
      "-8\n"
     ]
    }
   ],
   "source": [
    "# soustraire deux nombres\n",
    "print(7 - 15)"
   ]
  },
  {
   "cell_type": "markdown",
   "metadata": {},
   "source": [
    "### multiplication"
   ]
  },
  {
   "cell_type": "code",
   "execution_count": 4,
   "metadata": {},
   "outputs": [
    {
     "name": "stdout",
     "output_type": "stream",
     "text": [
      "210\n"
     ]
    }
   ],
   "source": [
    "#multiplier deux nombres\n",
    "print(14*15)"
   ]
  },
  {
   "cell_type": "markdown",
   "metadata": {},
   "source": [
    "### Division réelle"
   ]
  },
  {
   "cell_type": "code",
   "execution_count": 5,
   "metadata": {},
   "outputs": [
    {
     "name": "stdout",
     "output_type": "stream",
     "text": [
      "14.555555555555555\n"
     ]
    }
   ],
   "source": [
    "#diviser deux nombres\n",
    "print(131/9)"
   ]
  },
  {
   "cell_type": "markdown",
   "metadata": {},
   "source": [
    "### Exposant"
   ]
  },
  {
   "cell_type": "code",
   "execution_count": 6,
   "metadata": {},
   "outputs": [
    {
     "name": "stdout",
     "output_type": "stream",
     "text": [
      "27\n"
     ]
    }
   ],
   "source": [
    "#afficher un exposant 3\n",
    "print(3**3)"
   ]
  },
  {
   "cell_type": "markdown",
   "metadata": {},
   "source": [
    "### Division entière\n",
    "La division entière permet d'obtenir le quotient d'une entier d'une division."
   ]
  },
  {
   "cell_type": "code",
   "execution_count": 7,
   "metadata": {},
   "outputs": [
    {
     "name": "stdout",
     "output_type": "stream",
     "text": [
      "14\n"
     ]
    }
   ],
   "source": [
    "#affichier le quotient entier d'une division\n",
    "print(131//9)"
   ]
  },
  {
   "cell_type": "markdown",
   "metadata": {},
   "source": [
    "### Reste d'une division"
   ]
  },
  {
   "cell_type": "code",
   "execution_count": 8,
   "metadata": {},
   "outputs": [
    {
     "name": "stdout",
     "output_type": "stream",
     "text": [
      "5\n"
     ]
    }
   ],
   "source": [
    "#afficher le reste d'une division\n",
    "print(131%9)"
   ]
  },
  {
   "cell_type": "markdown",
   "metadata": {},
   "source": [
    "### incrémenter une variable\n",
    "\n",
    "On peut incrémenter (additioner un nombre à) une variable de deux manière :"
   ]
  },
  {
   "cell_type": "code",
   "execution_count": 9,
   "metadata": {},
   "outputs": [
    {
     "name": "stdout",
     "output_type": "stream",
     "text": [
      "150\n"
     ]
    }
   ],
   "source": [
    "#Méthode 1 : répéter la variable\n",
    "x = 100\n",
    "x = x + 50\n",
    "print(x)"
   ]
  },
  {
   "cell_type": "code",
   "execution_count": 10,
   "metadata": {},
   "outputs": [
    {
     "name": "stdout",
     "output_type": "stream",
     "text": [
      "150\n"
     ]
    }
   ],
   "source": [
    "#Méthode 2 : utiliser += (recommandé)\n",
    "x = 100\n",
    "x +=50\n",
    "print(x)"
   ]
  },
  {
   "cell_type": "markdown",
   "metadata": {},
   "source": [
    "L'incrémentation fonctionne aussi pour les chaînes de texte"
   ]
  },
  {
   "cell_type": "code",
   "execution_count": 11,
   "metadata": {},
   "outputs": [
    {
     "name": "stdout",
     "output_type": "stream",
     "text": [
      "Le \n",
      "Le  cinéma\n",
      "Le  cinéma est ouvert.\n"
     ]
    }
   ],
   "source": [
    "#incrémenter une chaîne de texte\n",
    "my_string = \"Le \"\n",
    "print(my_string)\n",
    "my_string = my_string + \" cinéma\"\n",
    "print(my_string)\n",
    "my_string += \" est ouvert.\"\n",
    "print(my_string)"
   ]
  },
  {
   "cell_type": "markdown",
   "metadata": {},
   "source": [
    "### Décrémenter une variable\n",
    "\n",
    "La décrémentation fonctionne de la même manière que l'incrémentation (elle ne fonctionne pas pour les chaînes de texte)."
   ]
  },
  {
   "cell_type": "code",
   "execution_count": 12,
   "metadata": {},
   "outputs": [
    {
     "name": "stdout",
     "output_type": "stream",
     "text": [
      "50\n"
     ]
    }
   ],
   "source": [
    "#Méthode 1 : répéter la variable\n",
    "x = 100\n",
    "x = x - 50\n",
    "print(x)"
   ]
  },
  {
   "cell_type": "code",
   "execution_count": 13,
   "metadata": {},
   "outputs": [
    {
     "name": "stdout",
     "output_type": "stream",
     "text": [
      "50\n"
     ]
    }
   ],
   "source": [
    "#Méthode 2 : utiliser -= (recommandé)\n",
    "x = 100\n",
    "x -=50\n",
    "print(x)"
   ]
  },
  {
   "cell_type": "markdown",
   "metadata": {},
   "source": [
    "## Les opérateurs logiques\n",
    "\n",
    "Le tableau suivant résume les différents opérateurs logiques :\n",
    "<center>\n",
    "\n",
    "| Expression | Signification              |\n",
    "|------------|--------------------        |\n",
    "| <          | Strictement plus petit que |\n",
    "| >          | Strictement plus grand que |\n",
    "| <=         | Plus petit ou égal à       |\n",
    "| >=         | Plus grand ou égal à       |\n",
    "| ==         | égal à                     |\n",
    "| !=         | différent de (inégalité)   |\n",
    "| and        | X and Y. ET logique, si X et Y est Vrai, l'expression est vraie, sinon l'expression est fausse. |\n",
    "| or         | X or Y. OU logique, si X ou Y est Vrai, l'expression est vraie. Si aucun n'est vrai, alors l'expression est fausse.          |\n",
    "| not        | not X. N'est Pas, si X == True, donne False. Si X == False, donne True       |\n",
    "\n",
    "</center>\n",
    "\n",
    "Les opérateurs renvoient la réponse True (vrai) ou False (faux). On verra dans la suite de la lecture quelques exemples."
   ]
  },
  {
   "cell_type": "code",
   "execution_count": 14,
   "metadata": {},
   "outputs": [
    {
     "name": "stdout",
     "output_type": "stream",
     "text": [
      "False\n"
     ]
    }
   ],
   "source": [
    "# 10 n'est pas plus grand que 12\n",
    "print(10 >= 12)"
   ]
  },
  {
   "cell_type": "code",
   "execution_count": 15,
   "metadata": {},
   "outputs": [
    {
     "name": "stdout",
     "output_type": "stream",
     "text": [
      "True\n"
     ]
    }
   ],
   "source": [
    "# 2 est strictement plus petit que 2.6\n",
    "print(2 < 2.6)"
   ]
  },
  {
   "cell_type": "code",
   "execution_count": 16,
   "metadata": {},
   "outputs": [
    {
     "name": "stdout",
     "output_type": "stream",
     "text": [
      "True\n"
     ]
    }
   ],
   "source": [
    "# Leonardo est différent de Raffaello\n",
    "print(\"Leonardo\" != \"Raffaello\")"
   ]
  },
  {
   "cell_type": "code",
   "execution_count": 17,
   "metadata": {},
   "outputs": [
    {
     "name": "stdout",
     "output_type": "stream",
     "text": [
      "False\n"
     ]
    }
   ],
   "source": [
    "# l'inverse True is False\n",
    "print(not True)"
   ]
  },
  {
   "cell_type": "code",
   "execution_count": 18,
   "metadata": {},
   "outputs": [
    {
     "name": "stdout",
     "output_type": "stream",
     "text": [
      "True\n"
     ]
    }
   ],
   "source": [
    "# association de plusieurs opérateurs qui sont vrais\n",
    "print(1 < 2 and 8 >= 7)"
   ]
  },
  {
   "cell_type": "code",
   "execution_count": 19,
   "metadata": {},
   "outputs": [
    {
     "name": "stdout",
     "output_type": "stream",
     "text": [
      "False\n"
     ]
    }
   ],
   "source": [
    "#association de plusieurs opérateurs qui sont faux\n",
    "print(1>3 or 10< 9)"
   ]
  },
  {
   "cell_type": "markdown",
   "metadata": {},
   "source": [
    "## Les conditions\n",
    "\n",
    "Les conditions permettent d'éxécuter du code si des conditions sont vérifiées. Elles fonctionnent de pair avec les opérateurs logiques.\n",
    "Les conditions suivent la logique if (si), elif (sinon si), else (sinon).\n",
    "```\n",
    "if condition:\n",
    "    # code à éxecuter si la condition est vraie\n",
    "elif another_condition:\n",
    "    # code à éxecuter si l'autre condition est vraie\n",
    "else:\n",
    "    # code à éxecuter si aucunes conditions sont vraies\n",
    "```\n",
    "\n",
    "\n",
    "Une chose importante à retenir est que la syntaxe Python repose sur l'**indentation** (espace). Les conditons, les boucles, les fonctions et les classes que nous verront plus tard suivent le même schéma. La déclaration se termine par `:`, le code à éxécuter commence par une **indentation**. S'il y a une erreur d'indentation, le code ne peut pas être exécuté.\n"
   ]
  },
  {
   "cell_type": "markdown",
   "metadata": {},
   "source": [
    "#### if \n",
    "L'instruction `if`evalue si la condition est juste et exécute le code indenter si et seulement si la condition est juste"
   ]
  },
  {
   "cell_type": "code",
   "execution_count": 20,
   "metadata": {},
   "outputs": [
    {
     "name": "stdout",
     "output_type": "stream",
     "text": [
      "42 est pair.\n"
     ]
    }
   ],
   "source": [
    "# condition simple : x est pair\n",
    "x = 42\n",
    "if x%2 == 0:\n",
    "    print(f\"{x} est pair.\")\n"
   ]
  },
  {
   "cell_type": "markdown",
   "metadata": {},
   "source": [
    "On voit dans l'exemple suivant l'importance de l'indentation. Le code indenté n'est pas exécuté car la condition 42 > 50 n'est pas vérifiée. le code non indenté est quant à lui exécuté dans toutes les conditions."
   ]
  },
  {
   "cell_type": "code",
   "execution_count": 21,
   "metadata": {},
   "outputs": [
    {
     "name": "stdout",
     "output_type": "stream",
     "text": [
      "Je ne suis pas indenté. Je ne fais pas partie de la condition. Je suis exécuté dans tous les cas.\n"
     ]
    }
   ],
   "source": [
    "#exemple d'indentation\n",
    "x = 42\n",
    "if x > 50:\n",
    "    print(\"x est supérieur à 50\")\n",
    "print(\"Je ne suis pas indenté. Je ne fais pas partie de la condition. Je suis exécuté dans tous les cas.\")"
   ]
  },
  {
   "cell_type": "markdown",
   "metadata": {},
   "source": [
    "#### elif\n",
    "\n",
    "elif pour else if (sinon si) s'exécute si elle est vraie et si l'instruction précédente (if ou un autre elif) n'est pas vraie. La logique de condition s'arrête dès qu'une condition rencontrée est vraie. "
   ]
  },
  {
   "cell_type": "code",
   "execution_count": 22,
   "metadata": {},
   "outputs": [
    {
     "name": "stdout",
     "output_type": "stream",
     "text": [
      "42 est plus grand que 42 mais pas strictement plus grand.\n"
     ]
    }
   ],
   "source": [
    "# conditions multiples :\n",
    "x = 42\n",
    "if x > 42:\n",
    "    print(f\"{x} est strictement plus grand que 42.\")\n",
    "elif x >= 42:\n",
    "    print(f\"{x} est plus grand que 42 mais pas strictement plus grand.\")\n",
    "\n",
    "elif x > 10:\n",
    "    print(f\"Je ne suis pas exécuté car la condition précédente est vraie\")\n"
   ]
  },
  {
   "cell_type": "markdown",
   "metadata": {},
   "source": [
    "#### else\n",
    "\n",
    "L'instruction else exécute le code indenter si aucunes des conditions précédentes sont vraies."
   ]
  },
  {
   "cell_type": "code",
   "execution_count": 23,
   "metadata": {},
   "outputs": [
    {
     "name": "stdout",
     "output_type": "stream",
     "text": [
      "Je suis exécuté car aucunes conditions précédentes ne sont validées\n"
     ]
    }
   ],
   "source": [
    "# conditions non validées :\n",
    "x = 42\n",
    "if x > 42:\n",
    "    print(f\"{x} est strictement plus grand que 42.\")\n",
    "elif x < 42:\n",
    "    print(f\"{x} est strictement plus petit que 42.\")\n",
    "else:\n",
    "    print(f\"Je suis exécuté car aucunes conditions précédentes ne sont validées\")"
   ]
  },
  {
   "cell_type": "markdown",
   "metadata": {},
   "source": [
    "## Les Boucles"
   ]
  },
  {
   "cell_type": "markdown",
   "metadata": {},
   "source": [
    "Une boucle permet de répéter une portion de code jusqu'à ce que la condition de sortie de l'itération soit rencontrée. Il existe deux types de boucle : `for` et `while`.\n",
    "\n",
    "Elles suivent le même schéma que les conditons, la déclaration se termine par `:`, le code à éxécuter est **indenté**."
   ]
  },
  {
   "cell_type": "markdown",
   "metadata": {},
   "source": [
    "### Boucle `for`\n",
    "\n",
    "La boucle `for` permet de parcourir une variable itérable (liste, tuple, dictionnaire, chaîne de texte)."
   ]
  },
  {
   "cell_type": "code",
   "execution_count": 24,
   "metadata": {},
   "outputs": [
    {
     "name": "stdout",
     "output_type": "stream",
     "text": [
      "0\n",
      "1\n",
      "2\n",
      "3\n",
      "4\n",
      "5\n",
      "6\n",
      "7\n",
      "8\n",
      "9\n"
     ]
    }
   ],
   "source": [
    "#boucle for simple\n",
    "for x in range(0,10):\n",
    "    print(x)\n"
   ]
  },
  {
   "cell_type": "code",
   "execution_count": 25,
   "metadata": {},
   "outputs": [
    {
     "name": "stdout",
     "output_type": "stream",
     "text": [
      "vélo\n",
      "voiture\n",
      "bus\n",
      "trottinette\n"
     ]
    }
   ],
   "source": [
    "#boucle sur une liste\n",
    "for x in [\"vélo\", \"voiture\", \"bus\", \"trottinette\"]:\n",
    "    print(x)\n"
   ]
  },
  {
   "cell_type": "code",
   "execution_count": 26,
   "metadata": {},
   "outputs": [
    {
     "name": "stdout",
     "output_type": "stream",
     "text": [
      "clé : A, valeur : première lettre\n",
      "clé : B, valeur : deuxième lettre\n",
      "clé : Z, valeur : dernière lettre\n"
     ]
    }
   ],
   "source": [
    "#boucle sur un dictionnaire\n",
    "my_dict = {\"A\" : \"première lettre\", \"B\" : \"deuxième lettre\", \"Z\": \"dernière lettre\"}\n",
    "for x in my_dict:\n",
    "    print(f\"clé : {x}, valeur : {my_dict[x]}\")"
   ]
  },
  {
   "cell_type": "code",
   "execution_count": 27,
   "metadata": {},
   "outputs": [
    {
     "name": "stdout",
     "output_type": "stream",
     "text": [
      "b\n",
      "o\n",
      "u\n",
      "c\n",
      "l\n",
      "e\n"
     ]
    }
   ],
   "source": [
    "#boucle sur une chaîne de texte:\n",
    "for x in \"boucle\":\n",
    "    print(x)"
   ]
  },
  {
   "cell_type": "markdown",
   "metadata": {},
   "source": [
    "### Boucle `while`\n",
    "\n",
    "La boucle `while` execute une portion de code tant que la condition est vraie (True)."
   ]
  },
  {
   "cell_type": "code",
   "execution_count": 28,
   "metadata": {},
   "outputs": [
    {
     "name": "stdout",
     "output_type": "stream",
     "text": [
      "0\n",
      "1\n",
      "2\n",
      "3\n",
      "4\n"
     ]
    }
   ],
   "source": [
    "#boucle while simple\n",
    "x = 0\n",
    "while x < 5:\n",
    "    print(x)\n",
    "    x+=1"
   ]
  },
  {
   "cell_type": "markdown",
   "metadata": {},
   "source": [
    "#### Contrôle des boucles\n",
    "Les boucles peuvent être contrôlées avec les déclarations `break` pour arrêter la boucle et `continue` pour sauter une itération."
   ]
  },
  {
   "cell_type": "code",
   "execution_count": 29,
   "metadata": {},
   "outputs": [
    {
     "name": "stdout",
     "output_type": "stream",
     "text": [
      "1\n",
      "2\n",
      "3\n",
      "4\n"
     ]
    }
   ],
   "source": [
    "#arrête la boucle dès le premier multiple de 5\n",
    "for x in range (1,10):\n",
    "    if x%5==0:\n",
    "        break\n",
    "    print(x)"
   ]
  },
  {
   "cell_type": "code",
   "execution_count": 30,
   "metadata": {},
   "outputs": [
    {
     "name": "stdout",
     "output_type": "stream",
     "text": [
      "1\n",
      "2\n",
      "4\n",
      "5\n",
      "7\n",
      "8\n",
      "10\n"
     ]
    }
   ],
   "source": [
    "#saute les multiples de 3\n",
    "for x in range (1,11):\n",
    "    if x%3==0:\n",
    "        continue\n",
    "    print(x)"
   ]
  },
  {
   "cell_type": "code",
   "execution_count": 31,
   "metadata": {},
   "outputs": [
    {
     "name": "stdout",
     "output_type": "stream",
     "text": [
      "Les Mille et Une Nuits\n",
      "Chapitre 1\n",
      "Chapitre 2\n",
      "...\n",
      "Dernier chapitre\n",
      "-------------\n",
      "Candide ou l'Optimisme\n",
      "Chapitre 1\n",
      "Chapitre 2\n",
      "...\n",
      "Dernier chapitre\n",
      "-------------\n",
      "Julie ou la Nouvelle Héloïse\n",
      "Chapitre 1\n",
      "Chapitre 2\n",
      "...\n",
      "Dernier chapitre\n",
      "-------------\n"
     ]
    }
   ],
   "source": [
    "#boucle dans une boucle\n",
    "\n",
    "for a in [\"Les Mille et Une Nuits\", \"Candide ou l'Optimisme\", \"Julie ou la Nouvelle Héloïse\"]:\n",
    "    \n",
    "    print(a)\n",
    "    for i in [\"Chapitre 1\", \"Chapitre 2\", \"...\", \"Dernier chapitre\"]:\n",
    "        print(i)\n",
    "    print(\"-------------\")\n"
   ]
  },
  {
   "cell_type": "markdown",
   "metadata": {},
   "source": [
    "## Les fonctions\n",
    "\n",
    "Un principe fondamental dans le code est de **ne pas se répéter** (don't repeat yourself). Ecrire deux fois le même code est difficile à maintenir et entraîne des erreurs. Les fonctions sont des portions de codes exécutés lorsqu'ils sont appelés. On écrit une seul fois le code et on peut l'utiliser à volonté.\n",
    "\n",
    "Elles suivent le même schéma que les conditons et les boucles, la déclaration se termine par `:`, le code à éxécuter est **indenté**.\n",
    "\n",
    "Une fonction s'écrit de la façon suivante:\n",
    "```\n",
    "def my_fonction(arg_1, arg_2):\n",
    "    instruction_1\n",
    "    ...\n",
    "    instruction_2\n",
    "    return result # si besoin\n",
    "```\n",
    "Une fonction peut compoter des arguments ou non et des arguments optionnels. Elle peut donner un résulat (déclaration return). Sans la déclaration return, le résultat de la fonction est `None`.\n",
    "\n",
    "On a vu auparavant que Python comprend ses propres fonctions (built-in functions) comme `print`, `append`, `len`. Désormais, on va créer nos propres fonctions."
   ]
  },
  {
   "cell_type": "code",
   "execution_count": 32,
   "metadata": {},
   "outputs": [
    {
     "name": "stdout",
     "output_type": "stream",
     "text": [
      "Je suis un perroquet\n",
      "Je suis un perroquet\n",
      "Je suis un perroquet\n",
      "Je suis un perroquet\n",
      "None\n"
     ]
    }
   ],
   "source": [
    "# fonction sans argument, sans résulat\n",
    "def parrot():\n",
    "    for x in range(0,4):\n",
    "        print(\"Je suis un perroquet\")\n",
    "#le résultat est None\n",
    "result = print(parrot())\n"
   ]
  },
  {
   "cell_type": "code",
   "execution_count": 33,
   "metadata": {},
   "outputs": [
    {
     "name": "stdout",
     "output_type": "stream",
     "text": [
      "Je répète ce qu'on me dit\n",
      "Je répète ce qu'on me dit\n",
      "Je répète ce qu'on me dit\n",
      "Je répète ce qu'on me dit\n",
      "None\n"
     ]
    }
   ],
   "source": [
    "# fonction avec argument, sans résulat\n",
    "def parrot(my_arg):\n",
    "    for x in range(4):\n",
    "        print(my_arg)\n",
    "#le résultat est None\n",
    "result = print(parrot(\"Je répète ce qu'on me dit\"))"
   ]
  },
  {
   "cell_type": "code",
   "execution_count": 34,
   "metadata": {},
   "outputs": [
    {
     "name": "stdout",
     "output_type": "stream",
     "text": [
      "[24, 27, 30, 33, 0]\n"
     ]
    }
   ],
   "source": [
    "#fonction avec arguments et résultat\n",
    "def list_multiplication(my_list, factor):\n",
    "    new_list = []\n",
    "    for x in my_list:\n",
    "        new_list.append(x*factor)\n",
    "    return new_list\n",
    "#multiplie les éléments de la liste par 3\n",
    "print(list_multiplication([8,9,10,11,0],3))\n"
   ]
  },
  {
   "cell_type": "markdown",
   "metadata": {},
   "source": [
    "Les arguments optionnels sont toujours les derniers arguments et ont une valeur par défaut."
   ]
  },
  {
   "cell_type": "code",
   "execution_count": 35,
   "metadata": {},
   "outputs": [
    {
     "name": "stdout",
     "output_type": "stream",
     "text": [
      "[48, 54, 60, 66, 0]\n"
     ]
    }
   ],
   "source": [
    "#fonction avec arguments résultat et arguments optionnels\n",
    "def list_multiplication(my_list, factor, second_factor=1):\n",
    "    new_list = []\n",
    "    for x in my_list:\n",
    "        new_list.append(x*factor*second_factor)\n",
    "    return new_list\n",
    "#multiplie les éléments de la liste par 3\n",
    "print(list_multiplication([8,9,10,11,0],3,second_factor=2))"
   ]
  },
  {
   "cell_type": "markdown",
   "metadata": {},
   "source": [
    "Ajouter une variable au sein d'une chaîne de texte est ce qu'on appelle le **formatage personnalisé de chaîne**. Depuis la version 3.6 de Python, la façon la plus simple de formater une chaîne de texte avec le `f-strings`.\n",
    "\n",
    "La fonction suivante permet de formater une chaîne de texte."
   ]
  },
  {
   "cell_type": "code",
   "execution_count": 1,
   "metadata": {},
   "outputs": [
    {
     "name": "stdout",
     "output_type": "stream",
     "text": [
      "Je m'appelle Adam, j'ai 8000 ans\n"
     ]
    }
   ],
   "source": [
    "# formater une chaîne de texte\n",
    "def myself(name, age):\n",
    "    return f\"Je m'appelle {name}, j'ai {age} ans\"\n",
    "\n",
    "print(myself(\"Adam\", 8000))"
   ]
  },
  {
   "cell_type": "markdown",
   "metadata": {},
   "source": [
    "Une règle de bon code à suivre est l'**annotation** de la fonction et de ses arguments. Ils n'affectent pas le comportement de la fonction mais al rend plus lisible et maintenable.\n",
    "\n",
    "Dans l'annotation, on donne le type des arguments, le type du résultat de la fonction et on commente sa fonctionnalité."
   ]
  },
  {
   "cell_type": "code",
   "execution_count": 37,
   "metadata": {},
   "outputs": [
    {
     "name": "stdout",
     "output_type": "stream",
     "text": [
      "[24, 27, 30, 33, 0]\n"
     ]
    }
   ],
   "source": [
    "#fonction annotée\n",
    "\n",
    "def list_multiplication(my_list: list, factor: int) -> list:\n",
    "    \"\"\"\n",
    "        Multiplie l'ensemble des élement par un facteur\n",
    "\n",
    "        Args:\n",
    "            my_list (list): ensemble des éléments à multiplier\n",
    "            factor (int) : facteur de multiplication\n",
    "\n",
    "        Returns:\n",
    "            liste multipliée par le facteur\n",
    "        \n",
    "        Examples:\n",
    "            >>> list_multiplication([1,2,3,4], 2)\n",
    "\n",
    "    \"\"\"\n",
    "    new_list = []\n",
    "    for x in my_list:\n",
    "        new_list.append(x*factor)\n",
    "    return new_list\n",
    "#multiplie les éléments de la liste par 3\n",
    "print(list_multiplication([8,9,10,11,0],3))"
   ]
  },
  {
   "cell_type": "code",
   "execution_count": 38,
   "metadata": {},
   "outputs": [
    {
     "name": "stdout",
     "output_type": "stream",
     "text": [
      "\u001b[1;31mSignature:\u001b[0m \u001b[0mlist_multiplication\u001b[0m\u001b[1;33m(\u001b[0m\u001b[0mmy_list\u001b[0m\u001b[1;33m:\u001b[0m \u001b[0mlist\u001b[0m\u001b[1;33m,\u001b[0m \u001b[0mfactor\u001b[0m\u001b[1;33m:\u001b[0m \u001b[0mint\u001b[0m\u001b[1;33m)\u001b[0m \u001b[1;33m->\u001b[0m \u001b[0mlist\u001b[0m\u001b[1;33m\u001b[0m\u001b[1;33m\u001b[0m\u001b[0m\n",
      "\u001b[1;31mDocstring:\u001b[0m\n",
      "Multiplie l'ensemble des élement par un facteur\n",
      "\n",
      "Args:\n",
      "    my_list (list): ensemble des éléments à multiplier\n",
      "    factor (int) : facteur de multiplication\n",
      "\n",
      "Returns:\n",
      "    liste multipliée par le facteur\n",
      "\n",
      "Examples:\n",
      "    >>> list_multiplication([1,2,3,4], 2)\n",
      "\u001b[1;31mFile:\u001b[0m      c:\\users\\maelj\\appdata\\local\\temp\\ipykernel_21896\\2216572008.py\n",
      "\u001b[1;31mType:\u001b[0m      function"
     ]
    }
   ],
   "source": [
    "#on obtient alors toute une documentation sur la fonction\n",
    "list_multiplication?"
   ]
  },
  {
   "cell_type": "code",
   "execution_count": 39,
   "metadata": {},
   "outputs": [
    {
     "name": "stdout",
     "output_type": "stream",
     "text": [
      "\u001b[1;31mSignature:\u001b[0m \u001b[0mmyself\u001b[0m\u001b[1;33m(\u001b[0m\u001b[0mname\u001b[0m\u001b[1;33m,\u001b[0m \u001b[0mage\u001b[0m\u001b[1;33m)\u001b[0m\u001b[1;33m\u001b[0m\u001b[1;33m\u001b[0m\u001b[0m\n",
      "\u001b[1;31mDocstring:\u001b[0m <no docstring>\n",
      "\u001b[1;31mFile:\u001b[0m      c:\\users\\maelj\\appdata\\local\\temp\\ipykernel_21896\\1151595025.py\n",
      "\u001b[1;31mType:\u001b[0m      function"
     ]
    }
   ],
   "source": [
    "#... contrairement à une fonction non annotée\n",
    "myself?"
   ]
  },
  {
   "cell_type": "markdown",
   "metadata": {},
   "source": [
    "### Passer plusieurs arguments avers *args et **kwargs\n",
    "\n",
    "Nous avons vus plus haut qu'il est possible de définir un nombre fini d'arguments dans une fonction.\n",
    "\n",
    "Il est possible de passer un nombre infini d'arguments avec les avec l'opérateur `*`.\n",
    "\n",
    "Le paramètre *args (auguments) permet de donner un nombre infini d'argument à notre fonction. Les arguments sont regroupés dans un `tuple`."
   ]
  },
  {
   "cell_type": "code",
   "execution_count": 40,
   "metadata": {},
   "outputs": [],
   "source": [
    "#fonction avec un nombre infini d'arguments\n",
    "def infinite_argument(*args):\n",
    "    #affiche les arguments\n",
    "    print(args)\n",
    "    #affiche le type tuple\n",
    "    print(type(args))\n",
    "    #affiche tous les arguments en console\n",
    "    for arg in args:\n",
    "        print(arg)\n",
    "    "
   ]
  },
  {
   "cell_type": "code",
   "execution_count": 41,
   "metadata": {},
   "outputs": [
    {
     "name": "stdout",
     "output_type": "stream",
     "text": [
      "('1 argument', 2, '1 autre aurgument', True)\n",
      "<class 'tuple'>\n",
      "1 argument\n",
      "2\n",
      "1 autre aurgument\n",
      "True\n"
     ]
    }
   ],
   "source": [
    "#affiche les arguments en console\n",
    "infinite_argument(\"1 argument\", 2, \"1 autre aurgument\", True)"
   ]
  },
  {
   "cell_type": "markdown",
   "metadata": {},
   "source": [
    "Le paramètre **kwargs (keyword arguments) permet de donner un nombre infini d'argument avec un mot-clé. Les clés et valeurs des arguments sont regroupés dans un dictionnaire `dict`."
   ]
  },
  {
   "cell_type": "code",
   "execution_count": 42,
   "metadata": {},
   "outputs": [],
   "source": [
    "#fonction avec un nombre infini d'arguments\n",
    "def infinite_kwargument(**kwargs):\n",
    "    #affiche les arguments\n",
    "    print(kwargs)\n",
    "    #affiche le type tuple\n",
    "    print(type(kwargs))\n",
    "    ##affiche tous les arguments en console\n",
    "    for kwarg in kwargs:\n",
    "        print(f\"clé : {kwarg} ; valeur : {kwargs[kwarg]}\")"
   ]
  },
  {
   "cell_type": "code",
   "execution_count": 43,
   "metadata": {},
   "outputs": [
    {
     "name": "stdout",
     "output_type": "stream",
     "text": [
      "{'arg_1': '1 argument', 'b': 2, 'arg_2': '1 autre aurgument', 'my_bool': True}\n",
      "<class 'dict'>\n",
      "clé : arg_1 ; valeur : 1 argument\n",
      "clé : b ; valeur : 2\n",
      "clé : arg_2 ; valeur : 1 autre aurgument\n",
      "clé : my_bool ; valeur : True\n"
     ]
    }
   ],
   "source": [
    "infinite_kwargument(arg_1=\"1 argument\", b=2, arg_2=\"1 autre aurgument\", my_bool=True)"
   ]
  },
  {
   "cell_type": "markdown",
   "metadata": {},
   "source": [
    "On peut désormais créer une fonction qui accepte des arguments par défaut et des les paramètres *args et **kwargs.\n",
    "\n",
    "L'ordre est important, en premier sont les arguments puis *args, viens ensuite les arguments optionnels et **kwargs qui arrivent en dernier."
   ]
  },
  {
   "cell_type": "code",
   "execution_count": 44,
   "metadata": {},
   "outputs": [],
   "source": [
    "#fonction avec des arguments, *args, des arguments optionnels et **kwargs\n",
    "def ultime_argument(arg_1, arg_2, *args,optional_arg1=1, optional_arg2= False,**kwargs):\n",
    "    #affiche le premier argument\n",
    "    print(f\"Le premier argument est {arg_1}\")\n",
    "    #affiche le second argument\n",
    "    print(f\"Le second argument est {arg_2}\")\n",
    "    #affiche *args\n",
    "    print(\"Les autres arguments définis dans *args\")\n",
    "    print(args)\n",
    "    #affiche le premier argument optionnel\n",
    "    print(f\"Le premier argument optionnel est {optional_arg1}\")\n",
    "    #affiche le second argument optionnel\n",
    "    print(f\"Le second argument optionnel est {optional_arg2}\")\n",
    "    #affiche **kwargs\n",
    "    print(\"Les autres arguments définis dans **kwargs\")\n",
    "    print(kwargs)\n",
    "\n",
    "    "
   ]
  },
  {
   "cell_type": "code",
   "execution_count": 45,
   "metadata": {},
   "outputs": [
    {
     "name": "stdout",
     "output_type": "stream",
     "text": [
      "Le premier argument est Hello\n",
      "Le second argument est 8\n",
      "Les autres arguments définis dans *args\n",
      "(-20, 'Pomme')\n",
      "Le premier argument optionnel est 1\n",
      "Le second argument optionnel est True\n",
      "Les autres arguments définis dans **kwargs\n",
      "{'abc': 'def', 'x': 7.0}\n"
     ]
    }
   ],
   "source": [
    "#fonction avec des arguments, *args, des arguments optionnels et **kwargs\n",
    "ultime_argument(\"Hello\", 8, -20, \"Pomme\", optional_arg2=True, abc=\"def\", x=7.0)"
   ]
  },
  {
   "cell_type": "markdown",
   "metadata": {},
   "source": [
    "NB : on n'est pas obligé de passer des arguments pour *args et **kwargs, ils acceptent entre 0 et une infinité d'arguments.\n",
    "\n",
    "NB 2 : Les mots *args et **kwargs (respectivement arguments et keyword arguments) sont des conventions. Les paramètre fonctionnent avec d'autres mots, ce sont les opérateurs `*` et `**` qui réalisent le tour."
   ]
  }
 ],
 "metadata": {
  "kernelspec": {
   "display_name": "Python 3",
   "language": "python",
   "name": "python3"
  },
  "language_info": {
   "codemirror_mode": {
    "name": "ipython",
    "version": 3
   },
   "file_extension": ".py",
   "mimetype": "text/x-python",
   "name": "python",
   "nbconvert_exporter": "python",
   "pygments_lexer": "ipython3",
   "version": "3.10.6"
  }
 },
 "nbformat": 4,
 "nbformat_minor": 2
}
