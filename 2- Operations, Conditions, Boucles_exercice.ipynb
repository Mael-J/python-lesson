{
 "cells": [
  {
   "cell_type": "markdown",
   "metadata": {},
   "source": [
    "# Opérations, conditions et boucles"
   ]
  },
  {
   "cell_type": "markdown",
   "metadata": {},
   "source": [
    "Dans ce cours, nous allons voir les différentes **opérations**, les **conditions** et les **boucles**. La syntaxe est spécifique à Python mais la logique est commune pour la plupart des langages de programmation,c'est la base de l'**algorithmie**.\n",
    "\n",
    "La documentation officielle est ici : https://docs.python.org/3/tutorial/controlflow.html"
   ]
  },
  {
   "cell_type": "markdown",
   "metadata": {},
   "source": [
    "## Les opérations mathématiques\n",
    "\n",
    "Le tableau suivant résume les différentes opérations mathématiques :\n",
    "\n",
    "<center>\n",
    "\n",
    "| Symbole | opération            | exemple         |\n",
    "|--------|-----------------------|-----------------|\n",
    "| +      | Addition              | 6 + 4 = 10      |\n",
    "| -      | Soustraction          | 6 - 4 = 2       |\n",
    "| *      | Multiplication        | 6 * 4 = 24      |\n",
    "| /      | Division réelle       | 6 / 4 = 1.5     |\n",
    "| **     | Exposant              | 12 ** 2 = 144   |\n",
    "| //     | Division entière      | 6 // 4 = 1      |\n",
    "| %      | Reste d'une division  | 6 % 4 = 2       |\n",
    "\n",
    "</center>"
   ]
  },
  {
   "cell_type": "markdown",
   "metadata": {},
   "source": [
    "### addition"
   ]
  },
  {
   "cell_type": "code",
   "execution_count": 2,
   "metadata": {},
   "outputs": [],
   "source": [
    "#additioner plusieurs nombres\n"
   ]
  },
  {
   "cell_type": "markdown",
   "metadata": {},
   "source": [
    "Si on additionne des chaînes de texte, on les concatene."
   ]
  },
  {
   "cell_type": "code",
   "execution_count": 3,
   "metadata": {},
   "outputs": [],
   "source": [
    "#concaténer plusieurs chaînes de texte pour faire une phrase\n"
   ]
  },
  {
   "cell_type": "markdown",
   "metadata": {},
   "source": [
    "### soustraction"
   ]
  },
  {
   "cell_type": "code",
   "execution_count": 4,
   "metadata": {},
   "outputs": [],
   "source": [
    "# soustraire deux nombres\n"
   ]
  },
  {
   "cell_type": "markdown",
   "metadata": {},
   "source": [
    "### multiplication"
   ]
  },
  {
   "cell_type": "code",
   "execution_count": 5,
   "metadata": {},
   "outputs": [],
   "source": [
    "#multiplier deux nombres\n"
   ]
  },
  {
   "cell_type": "markdown",
   "metadata": {},
   "source": [
    "### Division réelle"
   ]
  },
  {
   "cell_type": "code",
   "execution_count": 6,
   "metadata": {},
   "outputs": [],
   "source": [
    "#diviser deux nombres\n"
   ]
  },
  {
   "cell_type": "markdown",
   "metadata": {},
   "source": [
    "### Exposant"
   ]
  },
  {
   "cell_type": "code",
   "execution_count": 7,
   "metadata": {},
   "outputs": [],
   "source": [
    "#afficher un exposant 3\n"
   ]
  },
  {
   "cell_type": "markdown",
   "metadata": {},
   "source": [
    "### Division entière\n",
    "La division entière permet d'obtenir le quotient d'une entier d'une division."
   ]
  },
  {
   "cell_type": "code",
   "execution_count": 8,
   "metadata": {},
   "outputs": [],
   "source": [
    "#affichier le quotient entier d'une division\n"
   ]
  },
  {
   "cell_type": "markdown",
   "metadata": {},
   "source": [
    "### Reste d'une division"
   ]
  },
  {
   "cell_type": "code",
   "execution_count": 9,
   "metadata": {},
   "outputs": [],
   "source": [
    "#afficher le reste d'une division\n"
   ]
  },
  {
   "cell_type": "markdown",
   "metadata": {},
   "source": [
    "### incrémenter une variable\n",
    "\n",
    "On peut incrémenter (additioner un nombre à) une variable de deux manière :"
   ]
  },
  {
   "cell_type": "code",
   "execution_count": 10,
   "metadata": {},
   "outputs": [],
   "source": [
    "#Méthode 1 : répéter la variable\n"
   ]
  },
  {
   "cell_type": "code",
   "execution_count": 11,
   "metadata": {},
   "outputs": [],
   "source": [
    "#Méthode 2 : utiliser += (recommandé)\n"
   ]
  },
  {
   "cell_type": "markdown",
   "metadata": {},
   "source": [
    "L'incrémentation fonctionne aussi pour les chaînes de texte"
   ]
  },
  {
   "cell_type": "code",
   "execution_count": 12,
   "metadata": {},
   "outputs": [],
   "source": [
    "#incrémenter une chaîne de texte\n"
   ]
  },
  {
   "cell_type": "markdown",
   "metadata": {},
   "source": [
    "### Décrémenter une variable\n",
    "\n",
    "La décrémentation fonctionne de la même manière que l'incrémentation (elle ne fonctionne pas pour les chaînes de texte)."
   ]
  },
  {
   "cell_type": "code",
   "execution_count": 13,
   "metadata": {},
   "outputs": [],
   "source": [
    "#Méthode 1 : répéter la variable\n"
   ]
  },
  {
   "cell_type": "code",
   "execution_count": 14,
   "metadata": {},
   "outputs": [],
   "source": [
    "#Méthode 2 : utiliser -= (recommandé)\n"
   ]
  },
  {
   "cell_type": "markdown",
   "metadata": {},
   "source": [
    "## Les opérateurs logiques\n",
    "\n",
    "Le tableau suivant résume les différents opérateurs logiques :\n",
    "<center>\n",
    "\n",
    "| Expression | Signification              |\n",
    "|------------|--------------------        |\n",
    "| <          | Strictement plus petit que |\n",
    "| >          | Strictement plus grand que |\n",
    "| <=         | Plus petit ou égal à       |\n",
    "| >=         | Plus grand ou égal à       |\n",
    "| ==         | égal à                     |\n",
    "| !=         | différent de (inégalité)   |\n",
    "| and        | X and Y. ET logique, si X et Y est Vrai, l'expression est vraie, sinon l'expression est fausse. |\n",
    "| or         | X or Y. OU logique, si X ou Y est Vrai, l'expression est vraie. Si aucun n'est vrai, alors l'expression est fausse.          |\n",
    "| not        | not X. N'est Pas, si X == True, donne False. Si X == False, donne True       |\n",
    "\n",
    "</center>\n",
    "\n",
    "Les opérateurs renvoient la réponse True (vrai) ou False (faux). On verra dans la suite de la lecture quelques exemples."
   ]
  },
  {
   "cell_type": "code",
   "execution_count": 15,
   "metadata": {},
   "outputs": [],
   "source": [
    "# 10 n'est pas plus grand que 12\n"
   ]
  },
  {
   "cell_type": "code",
   "execution_count": 16,
   "metadata": {},
   "outputs": [],
   "source": [
    "# 2 est strictement plus petit que 2.6\n"
   ]
  },
  {
   "cell_type": "code",
   "execution_count": null,
   "metadata": {},
   "outputs": [],
   "source": []
  },
  {
   "cell_type": "code",
   "execution_count": 17,
   "metadata": {},
   "outputs": [],
   "source": [
    "# l'inverse True is False\n"
   ]
  },
  {
   "cell_type": "code",
   "execution_count": 18,
   "metadata": {},
   "outputs": [],
   "source": [
    "# association de plusieurs opérateurs qui sont vrais\n"
   ]
  },
  {
   "cell_type": "code",
   "execution_count": 19,
   "metadata": {},
   "outputs": [],
   "source": [
    "#association de plusieurs opérateurs qui sont faux\n"
   ]
  },
  {
   "cell_type": "markdown",
   "metadata": {},
   "source": [
    "## Les conditions\n",
    "\n",
    "Les conditions permettent d'éxécuter du code si des conditions sont vérifiées. Elles fonctionnent de pair avec les opérateurs logiques.\n",
    "Les conditions suivent la logique if (si), elif (sinon si), else (sinon).\n",
    "```\n",
    "if condition:\n",
    "    # code à éxecuter si la condition est vraie\n",
    "elif another_condition:\n",
    "    # code à éxecuter si l'autre condition est vraie\n",
    "else:\n",
    "    # code à éxecuter si aucunes conditions sont vraies\n",
    "```\n",
    "\n",
    "\n",
    "Une chose importante à retenir est que la syntaxe Python repose sur l'**indentation** (espace). Les conditons, les boucles, les fonctions et les classes que nous verront plus tard suivent le même schéma. La déclaration se termine par `:`, le code à éxécuter commence par une **indentation**. S'il y a une erreur d'indentation, le code ne peut pas être exécuté.\n"
   ]
  },
  {
   "cell_type": "markdown",
   "metadata": {},
   "source": [
    "#### if \n",
    "L'instruction `if`evalue si la condition est juste et exécute le code indenter si et seulement si la condition est juste"
   ]
  },
  {
   "cell_type": "code",
   "execution_count": 20,
   "metadata": {},
   "outputs": [],
   "source": [
    "# condition simple : x est pair\n",
    "\n"
   ]
  },
  {
   "cell_type": "markdown",
   "metadata": {},
   "source": [
    "On voit dans l'exemple suivant l'importance de l'indentation. Le code indenté n'est pas exécuté car la condition 42 > 50 n'est pas vérifiée. le code non indenté est quant à lui exécuté dans toutes les conditions."
   ]
  },
  {
   "cell_type": "code",
   "execution_count": 21,
   "metadata": {},
   "outputs": [],
   "source": [
    "#exemple d'indentation\n"
   ]
  },
  {
   "cell_type": "markdown",
   "metadata": {},
   "source": [
    "#### elif\n",
    "\n",
    "elif pour else if (sinon si) s'exécute si elle est vraie et si l'instruction précédente (if ou un autre elif) n'est pas vraie. La logique de condition s'arrête dès qu'une condition rencontrée est vraie. "
   ]
  },
  {
   "cell_type": "code",
   "execution_count": 22,
   "metadata": {},
   "outputs": [],
   "source": [
    "# conditions multiples :\n",
    "\n"
   ]
  },
  {
   "cell_type": "markdown",
   "metadata": {},
   "source": [
    "#### else\n",
    "\n",
    "L'instruction else exécute le code indenter si aucunes des conditions précédentes sont vraies."
   ]
  },
  {
   "cell_type": "code",
   "execution_count": 23,
   "metadata": {},
   "outputs": [],
   "source": [
    "# conditions non validées :\n"
   ]
  },
  {
   "cell_type": "markdown",
   "metadata": {},
   "source": [
    "## Les Boucles"
   ]
  },
  {
   "cell_type": "markdown",
   "metadata": {},
   "source": [
    "Une boucle permet de répéter une portion de code jusqu'à ce que la condition de sortie de l'itération soit rencontrée. Il existe deux types de boucle : `for` et `while`.\n",
    "\n",
    "Elles suivent le même schéma que les conditons, la déclaration se termine par `:`, le code à éxécuter est **indenté**."
   ]
  },
  {
   "cell_type": "markdown",
   "metadata": {},
   "source": [
    "### Boucle `for`\n",
    "\n",
    "La boucle `for` permet de parcourir une variable itérable (liste, tuple, dictionnaire, chaîne de texte)."
   ]
  },
  {
   "cell_type": "code",
   "execution_count": 24,
   "metadata": {},
   "outputs": [],
   "source": [
    "#boucle for simple\n",
    "\n"
   ]
  },
  {
   "cell_type": "code",
   "execution_count": 25,
   "metadata": {},
   "outputs": [],
   "source": [
    "#boucle sur une liste\n",
    "\n"
   ]
  },
  {
   "cell_type": "code",
   "execution_count": 26,
   "metadata": {},
   "outputs": [],
   "source": [
    "#boucle sur un dictionnaire\n"
   ]
  },
  {
   "cell_type": "code",
   "execution_count": 27,
   "metadata": {},
   "outputs": [],
   "source": [
    "#boucle sur une chaîne de texte:\n"
   ]
  },
  {
   "cell_type": "markdown",
   "metadata": {},
   "source": [
    "### Boucle `while`\n",
    "\n",
    "La boucle `while` execute une portion de code tant que la condition est vraie (True)."
   ]
  },
  {
   "cell_type": "code",
   "execution_count": 28,
   "metadata": {},
   "outputs": [],
   "source": [
    "#boucle while simple\n"
   ]
  },
  {
   "cell_type": "markdown",
   "metadata": {},
   "source": [
    "#### Contrôle des boucles\n",
    "Les boucles peuvent être contrôlées avec les déclarations `break` pour arrêter la boucle et `continue` pour sauter une itération."
   ]
  },
  {
   "cell_type": "code",
   "execution_count": 29,
   "metadata": {},
   "outputs": [],
   "source": [
    "#arrête la boucle dès le premier multiple de 5\n"
   ]
  },
  {
   "cell_type": "code",
   "execution_count": 30,
   "metadata": {},
   "outputs": [],
   "source": [
    "#saute les multiples de 3\n"
   ]
  },
  {
   "cell_type": "code",
   "execution_count": 31,
   "metadata": {},
   "outputs": [],
   "source": [
    "#boucle dans une boucle\n",
    "\n"
   ]
  },
  {
   "cell_type": "markdown",
   "metadata": {},
   "source": [
    "## Les fonctions\n",
    "\n",
    "Un principe fondamental dans le code est de **ne pas se répéter** (don't repeat yourself). Ecrire deux fois le même code est difficile à maintenir et entraîne des erreurs. Les fonctions sont des portions de codes exécutés lorsqu'ils sont appelés. On écrit une seul fois le code et on peut l'utiliser à volonté.\n",
    "\n",
    "Elles suivent le même schéma que les conditons et les boucles, la déclaration se termine par `:`, le code à éxécuter est **indenté**.\n",
    "\n",
    "Une fonction s'écrit de la façon suivante:\n",
    "```\n",
    "def my_fonction(arg_1, arg_2):\n",
    "    instruction_1\n",
    "    ...\n",
    "    instruction_2\n",
    "    return result # si besoin\n",
    "```\n",
    "\n",
    "Une fonction peut donner un résulat (déclaration return). Sans la déclaration return, le résultat de la fonction est `None`.\n",
    "\n",
    "On a vue auparavant que Python comprend ses propres fonctions (built-in functions) comme `print`, `append`, `len`. Désormais, on va créer nos propres fonctions."
   ]
  },
  {
   "cell_type": "code",
   "execution_count": 32,
   "metadata": {},
   "outputs": [],
   "source": [
    "# fonction sans argument, sans résulat\n",
    "\n"
   ]
  },
  {
   "cell_type": "code",
   "execution_count": 33,
   "metadata": {},
   "outputs": [],
   "source": [
    "# fonction avec argument, sans résulat\n"
   ]
  },
  {
   "cell_type": "code",
   "execution_count": 34,
   "metadata": {},
   "outputs": [],
   "source": [
    "#fonction avec arguments et résultat\n"
   ]
  }
 ],
 "metadata": {
  "kernelspec": {
   "display_name": "Python 3",
   "language": "python",
   "name": "python3"
  },
  "language_info": {
   "codemirror_mode": {
    "name": "ipython",
    "version": 3
   },
   "file_extension": ".py",
   "mimetype": "text/x-python",
   "name": "python",
   "nbconvert_exporter": "python",
   "pygments_lexer": "ipython3",
   "version": "3.10.6"
  }
 },
 "nbformat": 4,
 "nbformat_minor": 2
}
