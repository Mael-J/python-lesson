{
 "cells": [
  {
   "cell_type": "markdown",
   "metadata": {},
   "source": [
    "# Introduction au langage de programmation Python"
   ]
  },
  {
   "cell_type": "markdown",
   "metadata": {},
   "source": [
    "Python est un langage de programmation **interprété**. C'est un langage **généréraliste**, avec une multitude de cas d'usage comme l'automatisation de process, les calculs financiers, l'intelligence artificielle, le développement WEB, le développement de jeux... C'est un **langage de haut niveau**, sa syntaxe est de l'anglais, considéré comme **facile à apprendre**. Il fonctionne sur la plupart des platformes informatiques (Windows, Linux, Mac, Smartphone). **La force de Python repose sur sa communauté et ses bibliothèques**, du code écrit par d'autres développeur qui permet d'étendre les fonctionnalités du langage.\n",
    "\n",
    "Python a été crée par Guido van Rossum le 20 février 1991, son nom fait référence au film Monty Python and the Holy Grail.\n",
    "\n",
    "Python est le 3ème langage le plus utilisé après les Javascript et HTML/CSS.\n",
    "\n",
    "https://survey.stackoverflow.co/2023/#most-popular-technologies-language\n",
    "\n",
    "La documentation officielle est ici : https://docs.python.org/3/tutorial/introduction.html#using-python-as-a-calculator"
   ]
  },
  {
   "cell_type": "markdown",
   "metadata": {},
   "source": [
    "### Commenter le code"
   ]
  },
  {
   "cell_type": "code",
   "execution_count": 6,
   "metadata": {},
   "outputs": [],
   "source": []
  },
  {
   "cell_type": "code",
   "execution_count": 7,
   "metadata": {},
   "outputs": [
    {
     "data": {
      "text/plain": [
       "\"\\nUn long commentaire sur plusieurs lignes\\nHeureux qui, comme Ulysse, a fait un beau voyage\\nJoachim du Bellay\\nHeureux qui, comme Ulysse, a fait un beau voyage,\\nOu comme cestuy-là qui conquit la toison,\\nEt puis est retourné, plein d'usage et raison,\\nVivre entre ses parents le reste de son âge !\\n\\nQuand reverrai-je, hélas, de mon petit village\\nFumer la cheminée, et en quelle saison\\nReverrai-je le clos de ma pauvre maison,\\nQui m'est une province, et beaucoup davantage ?\\n\\nPlus me plaît le séjour qu'ont bâti mes aïeux,\\nQue des palais Romains le front audacieux,\\nPlus que le marbre dur me plaît l'ardoise fine :\\n\\nPlus mon Loir gaulois, que le Tibre latin,\\nPlus mon petit Liré, que le mont Palatin,\\nEt plus que l'air marin la doulceur angevine.\\n\\nJoachim Du Bellay\\n\\n\""
      ]
     },
     "execution_count": 7,
     "metadata": {},
     "output_type": "execute_result"
    }
   ],
   "source": []
  },
  {
   "cell_type": "code",
   "execution_count": 8,
   "metadata": {},
   "outputs": [
    {
     "data": {
      "text/plain": [
       "\"\\nUn long commentaire sur plusieurs lignes\\nHeureux qui, comme Ulysse, a fait un beau voyage\\nJoachim du Bellay\\nHeureux qui, comme Ulysse, a fait un beau voyage,\\nOu comme cestuy-là qui conquit la toison,\\nEt puis est retourné, plein d'usage et raison,\\nVivre entre ses parents le reste de son âge !\\n\\nQuand reverrai-je, hélas, de mon petit village\\nFumer la cheminée, et en quelle saison\\nReverrai-je le clos de ma pauvre maison,\\nQui m'est une province, et beaucoup davantage ?\\n\\nPlus me plaît le séjour qu'ont bâti mes aïeux,\\nQue des palais Romains le front audacieux,\\nPlus que le marbre dur me plaît l'ardoise fine :\\n\\nPlus mon Loir gaulois, que le Tibre latin,\\nPlus mon petit Liré, que le mont Palatin,\\nEt plus que l'air marin la doulceur angevine.\\n\\nJoachim Du Bellay\\n\\n\""
      ]
     },
     "execution_count": 8,
     "metadata": {},
     "output_type": "execute_result"
    }
   ],
   "source": []
  },
  {
   "cell_type": "markdown",
   "metadata": {},
   "source": [
    "### Afficher une information en console"
   ]
  },
  {
   "cell_type": "markdown",
   "metadata": {},
   "source": [
    "La fonction intégrée (built-in fonction) `print` permet d'afficher des informations en console"
   ]
  },
  {
   "cell_type": "code",
   "execution_count": 9,
   "metadata": {},
   "outputs": [
    {
     "name": "stdout",
     "output_type": "stream",
     "text": [
      "Hello World !\n"
     ]
    }
   ],
   "source": [
    "#afficher Hello World !\n"
   ]
  },
  {
   "cell_type": "code",
   "execution_count": 10,
   "metadata": {},
   "outputs": [
    {
     "name": "stdout",
     "output_type": "stream",
     "text": [
      "2024 c'est l'année du code\n"
     ]
    }
   ],
   "source": [
    "#affichage multiple\n"
   ]
  },
  {
   "cell_type": "markdown",
   "metadata": {},
   "source": [
    "### Les variables"
   ]
  },
  {
   "cell_type": "markdown",
   "metadata": {},
   "source": [
    "Une variable est valeur que l'ordinateur va garder en mémoire. Elle pourra être réutiliser dans la suite du code. Une variable se déclare avec le signe '=' `ma_variable = valeur_variable`"
   ]
  },
  {
   "cell_type": "code",
   "execution_count": 11,
   "metadata": {},
   "outputs": [
    {
     "name": "stdout",
     "output_type": "stream",
     "text": [
      "J'ai mangé 6 pommes à midi\n",
      "6 x 6 = 36\n",
      "2014 puissance 6 = 66735481351421417536\n"
     ]
    }
   ],
   "source": [
    "#Mieux vaut écrire....\n",
    "\n"
   ]
  },
  {
   "cell_type": "code",
   "execution_count": 12,
   "metadata": {},
   "outputs": [
    {
     "name": "stdout",
     "output_type": "stream",
     "text": [
      "J'ai mangé 2 pommes à midi\n",
      "2 x 2 = 4\n",
      "2014 puissance 2 = 4056196\n"
     ]
    }
   ],
   "source": [
    "#... que\n"
   ]
  },
  {
   "cell_type": "markdown",
   "metadata": {},
   "source": [
    "##### les types de variables\n",
    "\n",
    "Le tableau suivant résume les principales variables : \n",
    "<center>\n",
    "<table>\n",
    "  <tr>\n",
    "    <th>Type</th>\n",
    "    <th>Définition</th>\n",
    "    <th>Exemple</th>\n",
    "  </tr>\n",
    "    <tr>\n",
    "    <td><i>null</i></td>\n",
    "    <td>Valeur nulle</td>\n",
    "    <td>None</td>\n",
    "  </tr>\n",
    "  <tr>\n",
    "    <td><i>int</i></td>\n",
    "    <td>nombre entier</td>\n",
    "    <td>4</td>\n",
    "  </tr>\n",
    "  <tr>\n",
    "    <td><i>float</i></td>\n",
    "    <td>nombre décimal</td>\n",
    "    <td>7.9</td>\n",
    "  </tr>\n",
    "  <tr>\n",
    "    <td><i>complex</i></td>\n",
    "    <td>nombre complexe</td>\n",
    "    <td>7j</td>\n",
    "  </tr>\n",
    "  <tr>\n",
    "    <td><i>str</i></td>\n",
    "    <td>chaîne de texte</td>\n",
    "    <td>\"Apprendre à coder\"</td>\n",
    "  </tr>\n",
    "  <tr>\n",
    "    <td><i>tuple</i></td>\n",
    "    <td>séquences immuables d'éléments</td>\n",
    "    <td>(1,2, \"a\", \"b\")</td>\n",
    "  </tr>\n",
    "  <tr>\n",
    "    <td><i>list</i></td>\n",
    "    <td> séquences mutables d'éléments</td>\n",
    "    <td>[1,2, \"a\",\"b\"]</td>\n",
    "  </tr>\n",
    "  <tr>\n",
    "    <td><i>dict</i></td>\n",
    "    <td>dictionnaire, ensemble de paires clé-valeur</td>\n",
    "    <td>{'nom':'Lamba','classification':'Anonyme'}</td>\n",
    "  </tr>\n",
    "  <tr>\n",
    "    <td><i>bool</i></td>\n",
    "    <td>Booléens - Vrai ou Faux</td>\n",
    "    <td>True</td>\n",
    "  </tr>\n",
    "</table>\n",
    "</center>\n",
    "\n",
    "la fonction intégrée `type` donne le type d'une variable."
   ]
  },
  {
   "cell_type": "code",
   "execution_count": 13,
   "metadata": {},
   "outputs": [
    {
     "name": "stdout",
     "output_type": "stream",
     "text": [
      "None\n",
      "<class 'NoneType'>\n"
     ]
    }
   ],
   "source": [
    "#valeur nulle\n"
   ]
  },
  {
   "cell_type": "code",
   "execution_count": 14,
   "metadata": {},
   "outputs": [
    {
     "name": "stdout",
     "output_type": "stream",
     "text": [
      "9\n",
      "1000\n",
      "50\n",
      "<class 'int'>\n"
     ]
    }
   ],
   "source": [
    "#nombres entiers\n",
    "\n"
   ]
  },
  {
   "cell_type": "code",
   "execution_count": 15,
   "metadata": {},
   "outputs": [
    {
     "name": "stdout",
     "output_type": "stream",
     "text": [
      "123.456\n",
      "9.5\n",
      "<class 'float'>\n"
     ]
    }
   ],
   "source": [
    "#nombres décimaux\n"
   ]
  },
  {
   "cell_type": "code",
   "execution_count": 16,
   "metadata": {},
   "outputs": [
    {
     "name": "stdout",
     "output_type": "stream",
     "text": [
      "Est-ce que la lesson vous plaît ?\n",
      "<class 'str'>\n",
      "Est-ce que la lesson vous plaît toujours ?\n",
      "<class 'str'>\n"
     ]
    }
   ],
   "source": [
    "#la chaîne de texte fonctionne entre guillemet\n",
    "\n",
    "#... et apostrophe\n"
   ]
  },
  {
   "cell_type": "code",
   "execution_count": 17,
   "metadata": {},
   "outputs": [
    {
     "name": "stdout",
     "output_type": "stream",
     "text": [
      "Lorem ipsum dolor sit amet, consectetur adipiscing elit. \n",
      "Vivamus ut pellentesque quam. Nullam id tristique dui. Nunc ut bibendum odio. \n",
      "Sed accumsan luctus dolor, quis ultrices mauris interdum eu. Cras in libero non \n",
      "lorem lacinia rhoncus non non leo. Nunc in posuere massa. Etiam rhoncus turpis \n",
      "in neque rutrum vestibulum. Curabitur ut nulla eu magna iaculis hendrerit \n",
      "lobortis ac elit. Integer eu rhoncus mi. Integer pellentesque semper ipsum, \n",
      "eu placerat sapien porttitor ut. Aliquam pretium purus lorem, \n",
      "sit amet auctor leo consectetur sed.\n",
      "<class 'str'>\n"
     ]
    }
   ],
   "source": [
    "#chaîne de texte sur plusieurs lignes, fonctionne aussi avec ''' '''\n"
   ]
  },
  {
   "cell_type": "code",
   "execution_count": 18,
   "metadata": {},
   "outputs": [
    {
     "name": "stdout",
     "output_type": "stream",
     "text": [
      "('A', 'C', 'D', 'C')\n",
      "<class 'tuple'>\n"
     ]
    }
   ],
   "source": [
    "#séquences immuables d'éléments\n"
   ]
  },
  {
   "cell_type": "code",
   "execution_count": 19,
   "metadata": {},
   "outputs": [
    {
     "name": "stdout",
     "output_type": "stream",
     "text": [
      "True\n",
      "<class 'bool'>\n"
     ]
    }
   ],
   "source": [
    "#booléens\n"
   ]
  },
  {
   "cell_type": "markdown",
   "metadata": {},
   "source": [
    "#### les listes\n",
    "\n",
    "Les listes sont des objets muables, on peut ajouter, supprimer et modifier des éléments d'une liste. On peut également sélectionner un ou plusieurs éléments d'un liste. Elles sont reconnaissables par leurs crochets `[]` alors que les tuples sont entre parenthèses `()`."
   ]
  },
  {
   "cell_type": "code",
   "execution_count": 20,
   "metadata": {},
   "outputs": [
    {
     "name": "stdout",
     "output_type": "stream",
     "text": [
      "['A', 'C', 'D', 'C']\n",
      "<class 'list'>\n"
     ]
    }
   ],
   "source": [
    "#séquences muables d'éléments\n"
   ]
  },
  {
   "cell_type": "markdown",
   "metadata": {},
   "source": [
    "Accéder à un élément de la liste avec les index, Le 1er index est 0, le dernier index est la longueur de la liste - 1."
   ]
  },
  {
   "cell_type": "code",
   "execution_count": 21,
   "metadata": {},
   "outputs": [
    {
     "name": "stdout",
     "output_type": "stream",
     "text": [
      "A\n"
     ]
    }
   ],
   "source": [
    "#obtenir le premier élément de la liste\n"
   ]
  },
  {
   "cell_type": "markdown",
   "metadata": {},
   "source": [
    "modifier un élément en sélectionnant l'index."
   ]
  },
  {
   "cell_type": "code",
   "execution_count": 22,
   "metadata": {},
   "outputs": [
    {
     "name": "stdout",
     "output_type": "stream",
     "text": [
      "['A', 'C', 'O', 'C']\n"
     ]
    }
   ],
   "source": [
    "#modifie le troisième élément de la liste\n"
   ]
  },
  {
   "cell_type": "markdown",
   "metadata": {},
   "source": [
    "Ajouter un élément avec la méthode `append`"
   ]
  },
  {
   "cell_type": "code",
   "execution_count": 23,
   "metadata": {},
   "outputs": [
    {
     "name": "stdout",
     "output_type": "stream",
     "text": [
      "['A', 'C', 'O', 'C', 'Rock', 'nRoll']\n"
     ]
    }
   ],
   "source": [
    "#ajoute la chaîne de texte Rock\n",
    "\n",
    "#ajoute la chaîne de texte nRoll\n"
   ]
  },
  {
   "cell_type": "markdown",
   "metadata": {},
   "source": [
    "supprimer un élément avec la méthode `remove`"
   ]
  },
  {
   "cell_type": "code",
   "execution_count": 24,
   "metadata": {},
   "outputs": [
    {
     "name": "stdout",
     "output_type": "stream",
     "text": [
      "['A', 'C', 'O', 'C', 'nRoll']\n"
     ]
    }
   ],
   "source": [
    "#supprime la chaîne de texte Rock\n"
   ]
  },
  {
   "cell_type": "markdown",
   "metadata": {},
   "source": [
    "supprimer un élément d'une liste par un indice avec la méthode `pop`"
   ]
  },
  {
   "cell_type": "code",
   "execution_count": 25,
   "metadata": {},
   "outputs": [
    {
     "name": "stdout",
     "output_type": "stream",
     "text": [
      "['A', 'O', 'C', 'nRoll']\n"
     ]
    }
   ],
   "source": [
    "#supprime le deuxième élément\n"
   ]
  },
  {
   "cell_type": "markdown",
   "metadata": {},
   "source": [
    "Si on précise pas d'indice dans la méthode `pop`, supprime le dernier élément de la liste"
   ]
  },
  {
   "cell_type": "code",
   "execution_count": 26,
   "metadata": {},
   "outputs": [
    {
     "name": "stdout",
     "output_type": "stream",
     "text": [
      "['A', 'O', 'C']\n"
     ]
    }
   ],
   "source": [
    "#supprime le dernier élément de la liste\n"
   ]
  },
  {
   "cell_type": "markdown",
   "metadata": {},
   "source": [
    "la longueur d'une liste s'obtient avec la méthode `len`"
   ]
  },
  {
   "cell_type": "code",
   "execution_count": 27,
   "metadata": {},
   "outputs": [
    {
     "name": "stdout",
     "output_type": "stream",
     "text": [
      "3\n"
     ]
    }
   ],
   "source": [
    "#longueur de la liste\n"
   ]
  },
  {
   "cell_type": "markdown",
   "metadata": {},
   "source": [
    "Le dernier élément de la liste s'obtient en faisant longueur de la liste -1"
   ]
  },
  {
   "cell_type": "code",
   "execution_count": 28,
   "metadata": {},
   "outputs": [
    {
     "name": "stdout",
     "output_type": "stream",
     "text": [
      "C\n"
     ]
    }
   ],
   "source": [
    "#dernier élément de la liste\n"
   ]
  },
  {
   "cell_type": "markdown",
   "metadata": {},
   "source": [
    "découper une liste revient à sélectionner plusieurs éléments"
   ]
  },
  {
   "cell_type": "code",
   "execution_count": 29,
   "metadata": {},
   "outputs": [
    {
     "name": "stdout",
     "output_type": "stream",
     "text": [
      "['A', 'O', 'C']\n",
      "['O', 'C']\n",
      "['O', 'C']\n"
     ]
    }
   ],
   "source": [
    "#sélection des trois premiers élements\n",
    "\n",
    "#sélection des deux derniers élements\n",
    "\n",
    "#sélection des élements centraux\n",
    "\n"
   ]
  },
  {
   "cell_type": "markdown",
   "metadata": {},
   "source": [
    "On peut aussi découper une chaîne de texte"
   ]
  },
  {
   "cell_type": "code",
   "execution_count": 30,
   "metadata": {},
   "outputs": [
    {
     "name": "stdout",
     "output_type": "stream",
     "text": [
      "debut\n",
      "fin\n",
      "milieu\n"
     ]
    }
   ],
   "source": [
    "#sélectionne une partie de chaîne de texte\n",
    "\n",
    "#début\n",
    "\n",
    "#fin\n",
    "\n",
    "#milieu\n",
    "\n"
   ]
  },
  {
   "cell_type": "markdown",
   "metadata": {},
   "source": [
    "On peut également sélectionner un élément d'un tuple mais on ne peut pas le modifier (caractère immuable du tuple)"
   ]
  },
  {
   "cell_type": "code",
   "execution_count": 31,
   "metadata": {},
   "outputs": [
    {
     "name": "stdout",
     "output_type": "stream",
     "text": [
      "Z\n"
     ]
    }
   ],
   "source": [
    "#troisième élément du tuple\n"
   ]
  },
  {
   "cell_type": "markdown",
   "metadata": {},
   "source": [
    "Pour découvrir plus de fonctionnalités sur les listes : https://docs.python.org/3/tutorial/datastructures.html#more-on-lists"
   ]
  },
  {
   "cell_type": "markdown",
   "metadata": {},
   "source": [
    "#### Les dictionnaires\n",
    "\n",
    "Les dictionnaires sont un ensemble de clés-valeurs, un type de variable très utile pour stocker et retrouver des informations. Ils sont reconnaissables par leurs accolades `{}`."
   ]
  },
  {
   "cell_type": "code",
   "execution_count": 32,
   "metadata": {},
   "outputs": [
    {
     "name": "stdout",
     "output_type": "stream",
     "text": [
      "{'street': 'rue Lecourbe', 'number': 5, 'shopping_list': ['salade', 'dentifrice', 'pain']}\n",
      "<class 'dict'>\n"
     ]
    }
   ],
   "source": [
    "#dictionnaire\n"
   ]
  },
  {
   "cell_type": "markdown",
   "metadata": {},
   "source": [
    "On accède à une valeur d'un dictionnaire à partir de sa clé"
   ]
  },
  {
   "cell_type": "code",
   "execution_count": 33,
   "metadata": {},
   "outputs": [
    {
     "name": "stdout",
     "output_type": "stream",
     "text": [
      "rue Lecourbe\n",
      "['salade', 'dentifrice', 'pain']\n"
     ]
    }
   ],
   "source": [
    "#valeur de la clé street\n",
    "\n",
    "#valeur de la clé shopphing_list\n"
   ]
  },
  {
   "cell_type": "markdown",
   "metadata": {},
   "source": [
    "On modifie une valeur à partir de sa clé"
   ]
  },
  {
   "cell_type": "code",
   "execution_count": 34,
   "metadata": {},
   "outputs": [
    {
     "name": "stdout",
     "output_type": "stream",
     "text": [
      "Avenue Montaigne\n"
     ]
    }
   ],
   "source": [
    "#change la valeur de la clé street\n",
    "\n",
    "#change le deuxième élémént dans la liste de la clé shopping_list\n"
   ]
  },
  {
   "cell_type": "markdown",
   "metadata": {},
   "source": [
    "On ajoute un élément au dictionnaire en créant une clé-valeur"
   ]
  },
  {
   "cell_type": "code",
   "execution_count": 35,
   "metadata": {},
   "outputs": [
    {
     "name": "stdout",
     "output_type": "stream",
     "text": [
      "{'street': 'Avenue Montaigne', 'number': 5, 'shopping_list': ['salade', 'brosse à dent', 'pain'], 'weather': 20}\n"
     ]
    }
   ],
   "source": [
    "#ajoute la température\n",
    "\n",
    "#ajoute une liste de passion\n"
   ]
  },
  {
   "cell_type": "markdown",
   "metadata": {},
   "source": [
    "On supprime un élément avec la méthode `pop` qui prend pour argument une clé"
   ]
  },
  {
   "cell_type": "code",
   "execution_count": 36,
   "metadata": {},
   "outputs": [
    {
     "data": {
      "text/plain": [
       "20"
      ]
     },
     "execution_count": 36,
     "metadata": {},
     "output_type": "execute_result"
    }
   ],
   "source": [
    "#supprimer la clé weather et sa valeur\n"
   ]
  },
  {
   "cell_type": "markdown",
   "metadata": {},
   "source": [
    "Pour découvrir plus de fonctionnalités sur les dictionnaires : https://docs.python.org/3/tutorial/datastructures.html#dictionaries"
   ]
  }
 ],
 "metadata": {
  "kernelspec": {
   "display_name": "Python 3",
   "language": "python",
   "name": "python3"
  },
  "language_info": {
   "codemirror_mode": {
    "name": "ipython",
    "version": 3
   },
   "file_extension": ".py",
   "mimetype": "text/x-python",
   "name": "python",
   "nbconvert_exporter": "python",
   "pygments_lexer": "ipython3",
   "version": "3.10.6"
  }
 },
 "nbformat": 4,
 "nbformat_minor": 2
}
